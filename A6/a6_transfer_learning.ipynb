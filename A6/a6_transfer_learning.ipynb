{
  "cells": [
    {
      "cell_type": "markdown",
      "id": "958506ff-4a0a-42f0-8a55-4024e9abf922",
      "metadata": {
        "id": "958506ff-4a0a-42f0-8a55-4024e9abf922"
      },
      "source": [
        "# Assignment 6 : Pretrain and Transfer Learning (20 pts)"
      ]
    },
    {
      "cell_type": "markdown",
      "id": "8b968508-17cd-4e48-94b7-8cbe5b5c3153",
      "metadata": {
        "id": "8b968508-17cd-4e48-94b7-8cbe5b5c3153"
      },
      "source": [
        "### Before working on the assignment please read papers as following \n",
        "- SUPERVISED CONTRASTIVE LEARNING FOR PRE-TRAINED LANGUAGE MODEL FINE-TUNING\n",
        "  - link: https://openreview.net/pdf?id=cu7IUiO\n",
        "- Few-Shot Intent Detection via Contrastive Pre-Training and Fine-Tuning\n",
        "  - link: https://arxiv.org/abs/2109.06349"
      ]
    },
    {
      "cell_type": "code",
      "source": [
        "from google.colab import drive\n",
        "drive.mount('/content/drive')"
      ],
      "metadata": {
        "colab": {
          "base_uri": "https://localhost:8080/"
        },
        "id": "6I0SPlWNPrsQ",
        "outputId": "82be625f-bb3a-4852-9075-636b3edc2f3e"
      },
      "id": "6I0SPlWNPrsQ",
      "execution_count": 55,
      "outputs": [
        {
          "output_type": "stream",
          "name": "stdout",
          "text": [
            "Mounted at /content/drive\n"
          ]
        }
      ]
    },
    {
      "cell_type": "code",
      "source": [
        "path = '/content/drive/MyDrive/NLU_Assignments/A6/'\n",
        "os.chdir(path)"
      ],
      "metadata": {
        "id": "MQasfGLAPk1O"
      },
      "id": "MQasfGLAPk1O",
      "execution_count": 56,
      "outputs": []
    },
    {
      "cell_type": "code",
      "source": [
        "!pip install transformers"
      ],
      "metadata": {
        "colab": {
          "base_uri": "https://localhost:8080/"
        },
        "id": "k2b7X5NAB6AL",
        "outputId": "a1eff0b2-3e1b-4ccf-cea2-f2d8e9e1606b"
      },
      "id": "k2b7X5NAB6AL",
      "execution_count": 31,
      "outputs": [
        {
          "output_type": "stream",
          "name": "stdout",
          "text": [
            "Requirement already satisfied: transformers in /usr/local/lib/python3.7/dist-packages (4.17.0)\n",
            "Requirement already satisfied: packaging>=20.0 in /usr/local/lib/python3.7/dist-packages (from transformers) (21.3)\n",
            "Requirement already satisfied: numpy>=1.17 in /usr/local/lib/python3.7/dist-packages (from transformers) (1.21.5)\n",
            "Requirement already satisfied: huggingface-hub<1.0,>=0.1.0 in /usr/local/lib/python3.7/dist-packages (from transformers) (0.4.0)\n",
            "Requirement already satisfied: importlib-metadata in /usr/local/lib/python3.7/dist-packages (from transformers) (4.11.2)\n",
            "Requirement already satisfied: tokenizers!=0.11.3,>=0.11.1 in /usr/local/lib/python3.7/dist-packages (from transformers) (0.11.6)\n",
            "Requirement already satisfied: pyyaml>=5.1 in /usr/local/lib/python3.7/dist-packages (from transformers) (6.0)\n",
            "Requirement already satisfied: regex!=2019.12.17 in /usr/local/lib/python3.7/dist-packages (from transformers) (2019.12.20)\n",
            "Requirement already satisfied: requests in /usr/local/lib/python3.7/dist-packages (from transformers) (2.23.0)\n",
            "Requirement already satisfied: tqdm>=4.27 in /usr/local/lib/python3.7/dist-packages (from transformers) (4.63.0)\n",
            "Requirement already satisfied: sacremoses in /usr/local/lib/python3.7/dist-packages (from transformers) (0.0.47)\n",
            "Requirement already satisfied: filelock in /usr/local/lib/python3.7/dist-packages (from transformers) (3.6.0)\n",
            "Requirement already satisfied: typing-extensions>=3.7.4.3 in /usr/local/lib/python3.7/dist-packages (from huggingface-hub<1.0,>=0.1.0->transformers) (3.10.0.2)\n",
            "Requirement already satisfied: pyparsing!=3.0.5,>=2.0.2 in /usr/local/lib/python3.7/dist-packages (from packaging>=20.0->transformers) (3.0.7)\n",
            "Requirement already satisfied: zipp>=0.5 in /usr/local/lib/python3.7/dist-packages (from importlib-metadata->transformers) (3.7.0)\n",
            "Requirement already satisfied: urllib3!=1.25.0,!=1.25.1,<1.26,>=1.21.1 in /usr/local/lib/python3.7/dist-packages (from requests->transformers) (1.24.3)\n",
            "Requirement already satisfied: chardet<4,>=3.0.2 in /usr/local/lib/python3.7/dist-packages (from requests->transformers) (3.0.4)\n",
            "Requirement already satisfied: certifi>=2017.4.17 in /usr/local/lib/python3.7/dist-packages (from requests->transformers) (2021.10.8)\n",
            "Requirement already satisfied: idna<3,>=2.5 in /usr/local/lib/python3.7/dist-packages (from requests->transformers) (2.10)\n",
            "Requirement already satisfied: joblib in /usr/local/lib/python3.7/dist-packages (from sacremoses->transformers) (1.1.0)\n",
            "Requirement already satisfied: click in /usr/local/lib/python3.7/dist-packages (from sacremoses->transformers) (7.1.2)\n",
            "Requirement already satisfied: six in /usr/local/lib/python3.7/dist-packages (from sacremoses->transformers) (1.15.0)\n"
          ]
        }
      ]
    },
    {
      "cell_type": "markdown",
      "id": "2796880a-e37d-493c-8b19-0fc5c18feef2",
      "metadata": {
        "id": "2796880a-e37d-493c-8b19-0fc5c18feef2"
      },
      "source": [
        "## Question 1: Why do we need transfer learning ? (1.5pts)"
      ]
    },
    {
      "cell_type": "code",
      "execution_count": null,
      "id": "b8a6a008-6380-4e7a-b216-6a7f8e381a77",
      "metadata": {
        "id": "b8a6a008-6380-4e7a-b216-6a7f8e381a77"
      },
      "outputs": [],
      "source": [
        "#answer1"
      ]
    },
    {
      "cell_type": "markdown",
      "source": [
        "Answer1:\n",
        "\n",
        "\n",
        "We ned transfer learning because it can make removing the need for a large set of labelled training data for every new model, improving the efficiency of machine learning development and deployment for multiple models. Moreover, a more generalised approach to machine problem solving, leveraging different algorithms to solve new challenges and models can be trained within simulations instead of real-world environments.\n",
        "\n",
        "Ref  https://www.seldon.io/transfer-learning"
      ],
      "metadata": {
        "id": "wzITk4-DHWSy"
      },
      "id": "wzITk4-DHWSy"
    },
    {
      "cell_type": "markdown",
      "id": "73d2894b-1a02-4394-bb85-e29d49c86522",
      "metadata": {
        "id": "73d2894b-1a02-4394-bb85-e29d49c86522"
      },
      "source": [
        "## Question 2: When transfer learning makes sense ? (1.5pts)"
      ]
    },
    {
      "cell_type": "code",
      "execution_count": null,
      "id": "a0acc134-292a-4bcc-a23c-873f7b2c1e36",
      "metadata": {
        "id": "a0acc134-292a-4bcc-a23c-873f7b2c1e36"
      },
      "outputs": [],
      "source": [
        "#answer2"
      ]
    },
    {
      "cell_type": "markdown",
      "source": [
        "Answer2:\n",
        "\n",
        "Transfer learning makes sence when the training of a system to solve a new task would take a huge amount of resources. The process takes relevant parts of an existing machine learning model and applies it to solve a new but similar problem.\n",
        "\n",
        "\n",
        "Ref : https://www.seldon.io/transfer-learning"
      ],
      "metadata": {
        "id": "qzxDNgOxL7HZ"
      },
      "id": "qzxDNgOxL7HZ"
    },
    {
      "cell_type": "code",
      "execution_count": 32,
      "id": "31687e10-7a63-4592-94a3-dae140324863",
      "metadata": {
        "tags": [],
        "id": "31687e10-7a63-4592-94a3-dae140324863"
      },
      "outputs": [],
      "source": [
        "import os\n",
        "import numpy as np\n",
        "import torch\n",
        "import torch.nn as nn\n",
        "from torch.utils.data import Dataset, DataLoader\n",
        "from transformers import RobertaConfig, RobertaModel, RobertaTokenizer, RobertaForSequenceClassification\n",
        "from transformers import AdamW\n",
        "import random\n",
        "from IPython.display import clear_output\n",
        "from utils import create_supervised_pair, supervised_contrasive_loss, Similarity\n",
        "\n",
        "# #comment this if you are not using puffer\n",
        "# os.environ['http_proxy'] = 'http://192.41.170.23:3128'\n",
        "# os.environ['https_proxy'] = 'http://192.41.170.23:3128'"
      ]
    },
    {
      "cell_type": "code",
      "execution_count": null,
      "id": "8e301228-0c6e-49b5-9435-3ac6ab20c13a",
      "metadata": {
        "id": "8e301228-0c6e-49b5-9435-3ac6ab20c13a"
      },
      "outputs": [],
      "source": [
        ""
      ]
    },
    {
      "cell_type": "markdown",
      "id": "25d8b12a-4d82-483a-86ce-51d52ff1d10c",
      "metadata": {
        "id": "25d8b12a-4d82-483a-86ce-51d52ff1d10c"
      },
      "source": [
        "## To download data from file directory both text samples and labels"
      ]
    },
    {
      "cell_type": "code",
      "execution_count": 33,
      "id": "9cbbb405-efb2-4c1b-81fb-d7056b023e83",
      "metadata": {
        "id": "9cbbb405-efb2-4c1b-81fb-d7056b023e83"
      },
      "outputs": [],
      "source": [
        "def load_examples(file_path, do_lower_case=True):\n",
        "    examples = []\n",
        "    \n",
        "    with open('{}/seq.in'.format(file_path),'r',encoding=\"utf-8\") as f_text, open('{}/label'.format(file_path),'r',encoding=\"utf-8\") as f_label:\n",
        "        for text, label in zip(f_text, f_label):\n",
        "            \n",
        "            e = Inputexample(text.strip(),label=label.strip())\n",
        "            examples.append(e)\n",
        "            \n",
        "    return examples"
      ]
    },
    {
      "cell_type": "markdown",
      "id": "4cfac055-f91e-4f35-9f02-ca7f0bda7619",
      "metadata": {
        "id": "4cfac055-f91e-4f35-9f02-ca7f0bda7619"
      },
      "source": [
        "## Each sample has a sentence and label format"
      ]
    },
    {
      "cell_type": "code",
      "execution_count": 34,
      "id": "ed774baf-945e-4fa9-8b52-621ea34a5d1d",
      "metadata": {
        "id": "ed774baf-945e-4fa9-8b52-621ea34a5d1d"
      },
      "outputs": [],
      "source": [
        "class Inputexample(object):\n",
        "    def __init__(self,text_a,label = None):\n",
        "        self.text = text_a\n",
        "        self.label = label"
      ]
    },
    {
      "cell_type": "markdown",
      "id": "da22c201-5152-46d8-b8f5-9203b9ede04d",
      "metadata": {
        "id": "da22c201-5152-46d8-b8f5-9203b9ede04d"
      },
      "source": [
        "### Question3 : Write the code to be able  to control batching data process for the sake of fine-tuning models with combining  cross entropy and supervised contrastive loss in question 5, and only cross entropy in question 4. (7pts)\n",
        "    \n",
        " * assume : we have batch size = 4 but we have 64 classes, so sometime batching process will random sample in a batch, and then it has no any samples come from the same classes like below  \n",
        "    \n",
        "    * samples_sentence = ['a','b','c','d'] : assume that one alphabet represent one sentence or one sample\n",
        "    * labels = [0,1,2,3] ; Therefore, if a batch has unqiue classes equal to batch size, this batch will be skipped due to equation \"1yi=yj\" of supervised contrastive loss(equation in question 5) that's reason why we need to force like below buttlet. \n",
        "    \n",
        "  * you can see at least one pair that come from the same class.\n",
        "    \n",
        "    Therefore, we want dataloader to output like below \n",
        "   \n",
        "    * samples_sentence = ['a','b','c','f'] \n",
        "    * labels = [0,1,2,0] ; this batch will pass condition as \"1yi=yj\" because the label of y[0] = 0, y[3] = 0 in list of labels."
      ]
    },
    {
      "cell_type": "code",
      "source": [
        "# # create custom dataset class\n",
        "# # ===  =  Hint =  ===\n",
        "# # can train on two condition \n",
        "# # 1.) trainig training with supervise contrastive loss and cross entropy loss using in question 5.) \n",
        "# #    when self.repeated_label == True:\n",
        "# # 2.) train only cross entropy loss use in question 4.)\n",
        "# #    when self.repeated_label == False:\n",
        "\n",
        "class CustomTextDataset(Dataset):\n",
        "    def __init__(self,labels,text,batch_size,repeated_label:bool=False):\n",
        "        self.labels = labels\n",
        "        self.text = text\n",
        "        self.batch_size = batch_size \n",
        "        self.count = 0 \n",
        "        self.repeated_label = repeated_label\n",
        "\n",
        "        if self.repeated_label == True:\n",
        "            self.exist_classes = [] \n",
        "            self.ids_ = []\n",
        "            self.data_length = len(self.labels)\n",
        "            self.left_batch = False\n",
        "            self.label_ = None \n",
        "            self.num_batch = 0 \n",
        "            \n",
        "            \n",
        "            self.max_count = self.data_length // self.batch_size \n",
        "            if self.data_length % self.batch_size !=0:\n",
        "                self.max_count += 1 \n",
        "\n",
        "\n",
        "    def __len__(self):\n",
        "        return len(self.labels)\n",
        "\n",
        "    def __getitem__(self, idx):\n",
        "        \n",
        "        if self.repeated_label == True:\n",
        "            self.count +=1  \n",
        "            self.exist_classes.append(self.labels[idx])\n",
        "            self.ids_.append(idx)\n",
        "            if self.num_batch == self.max_count - 1:\n",
        "                self.num_batch = +1 \n",
        "                self.num_batch = 0 \n",
        "                if self.data_length % self.batch_size !=0: \n",
        "                    self.batch_size = self.data_length % self.batch_size\n",
        "                    self.left_batch = True\n",
        "\n",
        "            if self.count == self.batch_size:\n",
        "                unique_labels_keys = list(set(self.exist_classes))\n",
        "                table = [0] * len(unique_labels_keys)\n",
        "                unique_labels = dict(zip(unique_labels_keys,table))\n",
        "                if self.left_batch == True:\n",
        "                    self.left_batch = False\n",
        "                    self.batch_size = 4  \n",
        "                else: \n",
        "                    self.num_batch += 1\n",
        "                for class_key in self.exist_classes:\n",
        "                    unique_labels[class_key] = +1 \n",
        "                for index, key  in enumerate(unique_labels):\n",
        "                    if unique_labels[key] > 1:\n",
        "                       print(\"v>1 :\",unique_labels[key])\n",
        "                       break\n",
        "                    if index == len(unique_labels.keys()) - 1:\n",
        "                        while True:\n",
        "                           pos_idx = random.randint(0,self.data_length-1) \n",
        "                           if self.labels[pos_idx] in unique_labels.keys():\n",
        "                               if self.labels[pos_idx] == self.labels[idx]:\n",
        "                                   pass\n",
        "                               else:\n",
        "                                   idx = pos_idx\n",
        "                                   unique_labels[self.labels[idx]] +=1  \n",
        "                                   self.exist_classes[-1] = self.labels[idx]\n",
        "                                   if len(set(self.exist_classes)) ==  len(self.exist_classes):\n",
        "                                       print(unique_labels)\n",
        "                                   self.count = 0\n",
        "                                   self.exist_classes = []\n",
        "                                   self.ids_ = []\n",
        "                                   break  \n",
        "        label = self.labels[idx]\n",
        "        data = self.text[idx]\n",
        "        sample = {\"Class\": label,\"Text\": data}\n",
        "        return sample\n"
      ],
      "metadata": {
        "id": "GNOv0toh2aGr"
      },
      "id": "GNOv0toh2aGr",
      "execution_count": 36,
      "outputs": []
    },
    {
      "cell_type": "markdown",
      "id": "af9cbdf6-ec19-4c49-ba97-79a897497020",
      "metadata": {
        "id": "af9cbdf6-ec19-4c49-ba97-79a897497020"
      },
      "source": [
        "### What is Few-shot Learning ?\n",
        "   - few-shot learning is the process of train model on small amount of data in each class to guide model on specific taks, opposed to standard fine-tuning method which requires a large amount of training data for the pretrained model to adapt to the desired task with accuracy.\n",
        "   \n",
        "source : https://huggingface.co/blog/few-shot-learning-gpt-neo-and-inference-api"
      ]
    },
    {
      "cell_type": "markdown",
      "id": "3f656717-e0e7-4e51-8541-6ab4c2b25c59",
      "metadata": {
        "id": "3f656717-e0e7-4e51-8541-6ab4c2b25c59"
      },
      "source": [
        "## Define Parameters"
      ]
    },
    {
      "cell_type": "code",
      "execution_count": 37,
      "id": "e365ee63-74ce-421f-964b-b644b9fdc131",
      "metadata": {
        "id": "e365ee63-74ce-421f-964b-b644b9fdc131"
      },
      "outputs": [],
      "source": [
        "N = 5\n",
        "data = []\n",
        "labels = []\n",
        "train_samples = []\n",
        "train_labels = []\n",
        "embed_dim = 768\n",
        "batch_size = 4\n",
        "lr= 1e-5  # you can adjust \n",
        "temp = 0.3  # you can adjust \n",
        "lamda = 0.01  # you can adjust  \n",
        "skip_time = 0 # the number of time that yi not equal to yj in supervised contrastive loss equation \n",
        "device = torch.device('cuda:0' if torch.cuda.is_available() else 'cpu')"
      ]
    },
    {
      "cell_type": "markdown",
      "id": "407bd1ea-56ff-4e4c-a2ef-36787f04c2d1",
      "metadata": {
        "id": "407bd1ea-56ff-4e4c-a2ef-36787f04c2d1"
      },
      "source": [
        "### The Aim of these training is to fine tuning on few shot setting on text classification task"
      ]
    },
    {
      "cell_type": "markdown",
      "id": "9361f0ce-c287-4cb2-9ebd-d8487c3f35bc",
      "metadata": {
        "id": "9361f0ce-c287-4cb2-9ebd-d8487c3f35bc"
      },
      "source": [
        "Path example of train, validation and test "
      ]
    },
    {
      "cell_type": "code",
      "execution_count": 38,
      "id": "116140cd-1ca8-4871-b725-76ee75a2f145",
      "metadata": {
        "id": "116140cd-1ca8-4871-b725-76ee75a2f145"
      },
      "outputs": [],
      "source": [
        "path_5shot = f'./HWU64/train_5/'\n",
        "path_test = f'./HWU64/test/'\n",
        "path_valid = f'./HWU64/valid/'"
      ]
    },
    {
      "cell_type": "markdown",
      "id": "c8965bd3-a121-4317-bc01-39f7524ce3dc",
      "metadata": {
        "id": "c8965bd3-a121-4317-bc01-39f7524ce3dc"
      },
      "source": [
        "### Dataset Structure\n",
        "![image.png](attachment:292797f7-abc3-4e99-93ef-6c2c02ef13a5.png)"
      ]
    },
    {
      "cell_type": "code",
      "execution_count": 39,
      "id": "199f66e5-6bc2-4e8a-883b-4185c36406ba",
      "metadata": {
        "colab": {
          "base_uri": "https://localhost:8080/"
        },
        "id": "199f66e5-6bc2-4e8a-883b-4185c36406ba",
        "outputId": "bbbc6084-4ddb-4164-cc40-75b9a6d51d7f"
      },
      "outputs": [
        {
          "output_type": "stream",
          "name": "stdout",
          "text": [
            "Archive:  HWU64.zip\n",
            "replace HWU64/valid/label? [y]es, [n]o, [A]ll, [N]one, [r]ename: n\n",
            "replace HWU64/valid/seq.in? [y]es, [n]o, [A]ll, [N]one, [r]ename: n\n",
            "replace HWU64/train_5/label? [y]es, [n]o, [A]ll, [N]one, [r]ename: n\n",
            "replace HWU64/train_5/seq.in? [y]es, [n]o, [A]ll, [N]one, [r]ename: n\n",
            "replace HWU64/train_10/label? [y]es, [n]o, [A]ll, [N]one, [r]ename: n\n",
            "replace HWU64/train_10/seq.in? [y]es, [n]o, [A]ll, [N]one, [r]ename: n\n",
            "replace HWU64/train/seq.in? [y]es, [n]o, [A]ll, [N]one, [r]ename: n\n",
            "replace HWU64/train/label? [y]es, [n]o, [A]ll, [N]one, [r]ename: n\n",
            "replace HWU64/test/label? [y]es, [n]o, [A]ll, [N]one, [r]ename: n\n",
            "replace HWU64/test/seq.in? [y]es, [n]o, [A]ll, [N]one, [r]ename: n\n"
          ]
        }
      ],
      "source": [
        " #!unzip HWU64.zip"
      ]
    },
    {
      "cell_type": "code",
      "execution_count": 40,
      "id": "36353cf0-7052-4574-8b5d-609758a30762",
      "metadata": {
        "id": "36353cf0-7052-4574-8b5d-609758a30762"
      },
      "outputs": [],
      "source": [
        "\n",
        "# https://downgit.github.io/#/home?url=https:%2F%2Fgithub.com%2Fjianguoz%2FFew-Shot-Intent-Detection%2Ftree%2Fmain%2FDatasets%2FHWU64\n",
        "\n",
        "# downloading training samples \n",
        "train_samples = load_examples(path_5shot)\n",
        "\n",
        "# write code here : for downloading validation samples\n",
        "val_samples = load_examples(path_valid)\n",
        "\n",
        "#write code here : for downloading test samples\n",
        "test_samples = load_examples(path_test)\n",
        "\n",
        "\n",
        "\n",
        "data_val = []\n",
        "labels_val = []\n",
        "data_test = []\n",
        "labels_test = []\n",
        "\n",
        "\n",
        "\n",
        "# preprocess for training \n",
        "for i in range(len(train_samples)):\n",
        "    data.append(train_samples[i].text)\n",
        "    labels.append(train_samples[i].label)\n",
        "    \n",
        "# write code here :preprocess validation samples\n",
        "for i in range(len(val_samples)):\n",
        "    data_val.append(val_samples[i].text)\n",
        "    labels_val.append(val_samples[i].label)\n",
        "\n",
        "# write code here : preprocess test samples\n",
        "for i in range(len(test_samples)):\n",
        "    data_test.append(test_samples[i].text)\n",
        "    labels_test.append(test_samples[i].label)\n",
        "\n",
        "# dataloader for training \n",
        "train_data = CustomTextDataset(labels,data,batch_size=batch_size,repeated_label=True)\n",
        "train_loader = DataLoader(train_data,batch_size=batch_size,shuffle=True)\n",
        "\n",
        "\n",
        "# write code here : dataloader for validation\n",
        "val_data = CustomTextDataset(labels_val,data_val,batch_size=batch_size,repeated_label=True)\n",
        "val_loader = DataLoader(val_data,batch_size=batch_size,shuffle=True)\n",
        "\n",
        "\n",
        "\n",
        "# write code here : dataloader for test\n",
        "test_data = CustomTextDataset(labels_test,data_test,batch_size=batch_size,repeated_label=True)\n",
        "test_loader = DataLoader(test_data,batch_size=batch_size,shuffle=True)\n",
        "\n",
        "\n",
        "\n",
        "# got the number of unique classes from dataset\n",
        "num_class = len(np.unique(np.array(labels)))\n",
        "\n",
        "# get text label of uniqure classes\n",
        "unique_label = np.unique(np.array(labels))\n",
        "\n",
        "# map text label to index classes\n",
        "label_maps = {unique_label[i]: i for i in range(len(unique_label))}\n",
        "\n",
        "# Download tokenizer that use to tokenize sentence into words by using Pretrain from roberta-base\n",
        "tokenizer = RobertaTokenizer.from_pretrained('roberta-base')"
      ]
    },
    {
      "cell_type": "markdown",
      "id": "06688a7c-9487-4e1a-bd9a-976cdc0018d8",
      "metadata": {
        "id": "06688a7c-9487-4e1a-bd9a-976cdc0018d8"
      },
      "source": [
        "## Download Pretrain Model"
      ]
    },
    {
      "cell_type": "code",
      "execution_count": 41,
      "id": "e585a4d4-3c5b-433a-be78-d81a70220f39",
      "metadata": {
        "tags": [],
        "colab": {
          "base_uri": "https://localhost:8080/"
        },
        "id": "e585a4d4-3c5b-433a-be78-d81a70220f39",
        "outputId": "46635f58-80d0-4399-87ef-3ee7ea8f06fb"
      },
      "outputs": [
        {
          "output_type": "stream",
          "name": "stderr",
          "text": [
            "Some weights of the model checkpoint at roberta-base were not used when initializing RobertaForSequenceClassification: ['lm_head.decoder.weight', 'lm_head.layer_norm.weight', 'roberta.pooler.dense.weight', 'lm_head.dense.bias', 'roberta.pooler.dense.bias', 'lm_head.layer_norm.bias', 'lm_head.dense.weight', 'lm_head.bias']\n",
            "- This IS expected if you are initializing RobertaForSequenceClassification from the checkpoint of a model trained on another task or with another architecture (e.g. initializing a BertForSequenceClassification model from a BertForPreTraining model).\n",
            "- This IS NOT expected if you are initializing RobertaForSequenceClassification from the checkpoint of a model that you expect to be exactly identical (initializing a BertForSequenceClassification model from a BertForSequenceClassification model).\n",
            "Some weights of RobertaForSequenceClassification were not initialized from the model checkpoint at roberta-base and are newly initialized: ['classifier.dense.bias', 'classifier.out_proj.weight', 'classifier.dense.weight', 'classifier.out_proj.bias']\n",
            "You should probably TRAIN this model on a down-stream task to be able to use it for predictions and inference.\n"
          ]
        }
      ],
      "source": [
        "# download config of Roberta config \n",
        "config = RobertaConfig.from_pretrained(\"roberta-base\",output_hidden_states=True)\n",
        "\n",
        "#chnage modifying the number of classes\n",
        "config.num_labels = num_class\n",
        "# Download pretrain models weight \n",
        "model = RobertaForSequenceClassification.from_pretrained('roberta-base')\n",
        "# change from binary classification to muli-classification and loss automatically change to cross entropy loss\n",
        "model.num_labels = config.num_labels\n",
        "# change the output of last layer to num_class that we want to predict\n",
        "model.classifier.out_proj = nn.Linear(in_features=embed_dim,out_features=num_class)\n",
        "# move to model to device that we set\n",
        "model = model.to(device)"
      ]
    },
    {
      "cell_type": "code",
      "execution_count": 42,
      "id": "cb2a3994-73fe-4aaf-8d2c-a8ff409b6b5e",
      "metadata": {
        "colab": {
          "base_uri": "https://localhost:8080/"
        },
        "id": "cb2a3994-73fe-4aaf-8d2c-a8ff409b6b5e",
        "outputId": "160193f2-197b-45f1-ae18-46be6cf28954"
      },
      "outputs": [
        {
          "output_type": "stream",
          "name": "stderr",
          "text": [
            "/usr/local/lib/python3.7/dist-packages/transformers/optimization.py:309: FutureWarning: This implementation of AdamW is deprecated and will be removed in a future version. Use the PyTorch implementation torch.optim.AdamW instead, or set `no_deprecation_warning=True` to disable this warning\n",
            "  FutureWarning,\n"
          ]
        }
      ],
      "source": [
        "# Using adam optimizer \n",
        "optimizer= AdamW(model.parameters(), lr=lr)"
      ]
    },
    {
      "cell_type": "markdown",
      "id": "1ed95571-fa1c-453f-8129-d5e107e8f8a9",
      "metadata": {
        "id": "1ed95571-fa1c-453f-8129-d5e107e8f8a9"
      },
      "source": [
        "## Question3: write function to freeze model (3pts)\n"
      ]
    },
    {
      "cell_type": "code",
      "execution_count": 43,
      "id": "20d5c23c-b9d0-4f91-8e17-6e1752b0f822",
      "metadata": {
        "id": "20d5c23c-b9d0-4f91-8e17-6e1752b0f822"
      },
      "outputs": [],
      "source": [
        "def freeze_layers(model,freeze_layers_count:int):\n",
        "\n",
        "        \"\"\"\n",
        "        model : model object that we create \n",
        "        freeze_layers_count : the number of layers to freeze \n",
        "        \"\"\"\n",
        "        # write the code here\n",
        "        #freeze_layers_count = sum(p.numel() for p in model.parameters() if p.requires_grad = False)\n",
        "        for params in model.roberta.embeddings.parameters():\n",
        "          params.requires_grad = False\n",
        "          # print(\"Embeddings: \", params.requires_grad) \n",
        "        for i, layer in enumerate(model.roberta.encoder.layer):\n",
        "          if i < freeze_layers_count:\n",
        "            for params in layer.parameters():\n",
        "                params.requires_grad = False \n",
        "    \n",
        "        #return freeze_layers_count\n",
        "        return model"
      ]
    },
    {
      "cell_type": "code",
      "source": [
        "model= freeze_layers(model, 10)"
      ],
      "metadata": {
        "id": "ZOdLOPVIH-6B"
      },
      "id": "ZOdLOPVIH-6B",
      "execution_count": 44,
      "outputs": []
    },
    {
      "cell_type": "code",
      "source": [
        "for params in model.roberta.encoder.layer.parameters():\n",
        "    print(params.requires_grad)"
      ],
      "metadata": {
        "colab": {
          "base_uri": "https://localhost:8080/"
        },
        "id": "uVdbvDYqICvQ",
        "outputId": "872c642d-4865-433a-98a5-edb29cf1ba44"
      },
      "id": "uVdbvDYqICvQ",
      "execution_count": 45,
      "outputs": [
        {
          "output_type": "stream",
          "name": "stdout",
          "text": [
            "False\n",
            "False\n",
            "False\n",
            "False\n",
            "False\n",
            "False\n",
            "False\n",
            "False\n",
            "False\n",
            "False\n",
            "False\n",
            "False\n",
            "False\n",
            "False\n",
            "False\n",
            "False\n",
            "False\n",
            "False\n",
            "False\n",
            "False\n",
            "False\n",
            "False\n",
            "False\n",
            "False\n",
            "False\n",
            "False\n",
            "False\n",
            "False\n",
            "False\n",
            "False\n",
            "False\n",
            "False\n",
            "False\n",
            "False\n",
            "False\n",
            "False\n",
            "False\n",
            "False\n",
            "False\n",
            "False\n",
            "False\n",
            "False\n",
            "False\n",
            "False\n",
            "False\n",
            "False\n",
            "False\n",
            "False\n",
            "False\n",
            "False\n",
            "False\n",
            "False\n",
            "False\n",
            "False\n",
            "False\n",
            "False\n",
            "False\n",
            "False\n",
            "False\n",
            "False\n",
            "False\n",
            "False\n",
            "False\n",
            "False\n",
            "False\n",
            "False\n",
            "False\n",
            "False\n",
            "False\n",
            "False\n",
            "False\n",
            "False\n",
            "False\n",
            "False\n",
            "False\n",
            "False\n",
            "False\n",
            "False\n",
            "False\n",
            "False\n",
            "False\n",
            "False\n",
            "False\n",
            "False\n",
            "False\n",
            "False\n",
            "False\n",
            "False\n",
            "False\n",
            "False\n",
            "False\n",
            "False\n",
            "False\n",
            "False\n",
            "False\n",
            "False\n",
            "False\n",
            "False\n",
            "False\n",
            "False\n",
            "False\n",
            "False\n",
            "False\n",
            "False\n",
            "False\n",
            "False\n",
            "False\n",
            "False\n",
            "False\n",
            "False\n",
            "False\n",
            "False\n",
            "False\n",
            "False\n",
            "False\n",
            "False\n",
            "False\n",
            "False\n",
            "False\n",
            "False\n",
            "False\n",
            "False\n",
            "False\n",
            "False\n",
            "False\n",
            "False\n",
            "False\n",
            "False\n",
            "False\n",
            "False\n",
            "False\n",
            "False\n",
            "False\n",
            "False\n",
            "False\n",
            "False\n",
            "False\n",
            "False\n",
            "False\n",
            "False\n",
            "False\n",
            "False\n",
            "False\n",
            "False\n",
            "False\n",
            "False\n",
            "False\n",
            "False\n",
            "False\n",
            "False\n",
            "False\n",
            "False\n",
            "False\n",
            "False\n",
            "False\n",
            "False\n",
            "False\n",
            "False\n",
            "False\n",
            "False\n",
            "True\n",
            "True\n",
            "True\n",
            "True\n",
            "True\n",
            "True\n",
            "True\n",
            "True\n",
            "True\n",
            "True\n",
            "True\n",
            "True\n",
            "True\n",
            "True\n",
            "True\n",
            "True\n",
            "True\n",
            "True\n",
            "True\n",
            "True\n",
            "True\n",
            "True\n",
            "True\n",
            "True\n",
            "True\n",
            "True\n",
            "True\n",
            "True\n",
            "True\n",
            "True\n",
            "True\n",
            "True\n"
          ]
        }
      ]
    },
    {
      "cell_type": "markdown",
      "id": "adfb3ecf-c46f-4541-8640-62ba0f87019f",
      "metadata": {
        "tags": [],
        "id": "adfb3ecf-c46f-4541-8640-62ba0f87019f"
      },
      "source": [
        "## Question4: Training on text classification task on CrossEntropy loss (3.5 pts)\n",
        "- Using API of hugging face of RobertaForSequenceClassification\n",
        "  - source : https://huggingface.co/transformers/v3.0.2/model_doc/roberta.html#robertaforsequenceclassification\n",
        "- report performance of models (test acc) with differrent experiement of unfreezing of bottom layers and compare the result of each\n",
        "    - 4.1. freeze weight from pretrain model all layer except classifier \n",
        "    - ![image.png](attachment:47aed217-d5e9-4b09-a916-8bbe57f2fbb8.png)\n",
        "    \n",
        "   \n",
        "    - 4.2. freeze all from top embeddings to encoder layers (9)\n",
        "      - embeddings\n",
        "        - ![image.png](attachment:2a69ebe1-6893-45ca-b7ea-38f9715b8c9a.png)\n",
        "      - layer 9\n",
        "        - ![image.png](attachment:ef8674dc-7743-40d4-bde4-21a3819e62fb.png)\n",
        "    - 4.3 add code to collect loss and accuracy of training history  of (4.1 and 4.2)\n",
        "    - 4.4 add the code in below in training loop collect validation loss and accuracy history of (4.1 and 4.2)\n",
        "    \n",
        "- hint: for this training on Cross entropy loss no need to control the outcome of class in each batch using code below to train model base on how many layers that you freeze  \n",
        "  - to see whole architecture look like you can use mode.eval() "
      ]
    },
    {
      "cell_type": "code",
      "execution_count": 46,
      "id": "26842bcf-7641-41f6-ab02-89bd30c01e22",
      "metadata": {
        "colab": {
          "base_uri": "https://localhost:8080/"
        },
        "id": "26842bcf-7641-41f6-ab02-89bd30c01e22",
        "outputId": "2169a6e4-bb37-4ead-f996-3d3760951a72"
      },
      "outputs": [
        {
          "output_type": "stream",
          "name": "stdout",
          "text": [
            "[30, 79] loss: 0.15687458217144012\n",
            "0.0\n"
          ]
        }
      ],
      "source": [
        "# this code training models on Cross entropy loss\n",
        "\n",
        "train_losses = []\n",
        "#valid_losses = []\n",
        "best_train_loss = float('inf')\n",
        "total_acc_train = []\n",
        "acc_train = 0.0\n",
        "n_correct = 0.0\n",
        "n_wrong = 0.0\n",
        "\n",
        "for epoch in range(30):  # loop over the dataset multiple times\n",
        "#for epoch in range(2):  # loop over the dataset multiple times\n",
        "    \n",
        "    running_loss = 0.0\n",
        "    \n",
        "    for (idx, batch) in enumerate(train_loader):\n",
        "        sentence = batch[\"Text\"]\n",
        "        inputs = tokenizer(sentence,padding=True,truncation=True,return_tensors=\"pt\")\n",
        "        \n",
        "        # move parameter to device\n",
        "        inputs = {k:v.to(device) for k,v in inputs.items()}\n",
        "\n",
        "        # map string labels to class idex\n",
        "        labels = [label_maps[stringtoId] for stringtoId in (batch['Class'])]\n",
        "\n",
        "        #print(\"show out: \",np.unique(labels, return_counts=True))\n",
        "        # convert list to tensor\n",
        "        labels = torch.tensor(labels).unsqueeze(0)\n",
        "        labels = labels.to(device)\n",
        "\n",
        "\n",
        "        #(batch_size, seq_len)\n",
        "        #print(inputs[\"input_ids\"].shape)\n",
        "\n",
        "         # zero the parameter gradients\n",
        "        optimizer.zero_grad()\n",
        "\n",
        "        outputs = model(**inputs,labels=labels)\n",
        "        # you can check \n",
        "        loss, logits = outputs[:2]\n",
        "        \n",
        "        loss.backward()\n",
        "        optimizer.step()\n",
        "        \n",
        "        train_losses.append(loss.item())\n",
        "        #acc = (outputs.argmax(dim=1) == labels).sum().item()\n",
        "        #acc = (np.argmax(logits) == labels).sum().detach().cpu().numpy()\n",
        "\n",
        "\n",
        "\n",
        "        pred_class = torch.argmax(logits)\n",
        "        if pred_class in labels:\n",
        "          n_correct += 1\n",
        "        else:\n",
        "          n_wrong += 1\n",
        "\n",
        "        acc_train = (n_correct * 1.0) / (n_correct + n_wrong)\n",
        "        total_acc_train.append(acc_train)\n",
        "        #print(total_acc_train)\n",
        "       \n",
        "        # write code here \n",
        "        # to save model eg. model.pth look at pytorch document how to save model\n",
        "        \n",
        "        if loss.item() < best_train_loss:\n",
        "            best_train_loss = loss.item()\n",
        "            torch.save(model.state_dict(), 'best_model.pt')\n",
        "    \n",
        "        \n",
        "        print(f'[{epoch + 1}, {idx}] loss: {loss.item()}')\n",
        "        print(running_loss)  \n",
        "        clear_output(wait=True)"
      ]
    },
    {
      "cell_type": "code",
      "source": [
        "#next(iter(train_loader))"
      ],
      "metadata": {
        "id": "8ut2nKmpz4PT"
      },
      "id": "8ut2nKmpz4PT",
      "execution_count": 47,
      "outputs": []
    },
    {
      "cell_type": "code",
      "execution_count": 49,
      "id": "38b70e8a-6c18-4a1e-8f2e-e512accdd37d",
      "metadata": {
        "id": "38b70e8a-6c18-4a1e-8f2e-e512accdd37d",
        "outputId": "8f48068d-22ec-4798-c163-2d93ec2b1b06",
        "colab": {
          "base_uri": "https://localhost:8080/"
        }
      },
      "outputs": [
        {
          "output_type": "stream",
          "name": "stdout",
          "text": [
            "[30, 268] loss: 1.429790735244751\n",
            "0.0\n"
          ]
        }
      ],
      "source": [
        "# this code training models on Cross entropy loss\n",
        "\n",
        "valid_losses = []\n",
        "#valid_losses = []\n",
        "best_valid_loss = float('inf')\n",
        "\n",
        "total_acc_valid = []\n",
        "acc_valid = 0.0\n",
        "n_correct = 0.0\n",
        "n_wrong = 0.0\n",
        "\n",
        "model.eval()\n",
        "\n",
        "for epoch in range(30):  # loop over the dataset multiple times\n",
        "#for epoch in range(2):# loop over the dataset multiple times\n",
        "    \n",
        "    running_loss = 0.0\n",
        "    with torch.no_grad():\n",
        "        for (idx, batch) in enumerate(val_loader):\n",
        "            sentence = batch[\"Text\"]\n",
        "            inputs = tokenizer(sentence,padding=True,truncation=True,return_tensors=\"pt\")\n",
        "\n",
        "            # move parameter to device\n",
        "            inputs = {k:v.to(device) for k,v in inputs.items()}\n",
        "\n",
        "            # map string labels to class idex\n",
        "            labels = [label_maps[stringtoId] for stringtoId in (batch['Class'])]\n",
        "\n",
        "            #print(\"show out: \",np.unique(labels, return_counts=True))\n",
        "            # convert list to tensor\n",
        "            labels = torch.tensor(labels).unsqueeze(0)\n",
        "            labels = labels.to(device)\n",
        "\n",
        "\n",
        "            #(batch_size, seq_len)\n",
        "            #print(inputs[\"input_ids\"].shape)\n",
        "\n",
        "             # zero the parameter gradients\n",
        "            # optimizer.zero_grad()\n",
        "\n",
        "            outputs = model(**inputs,labels=labels)\n",
        "            # you can check \n",
        "            loss, logits = outputs[:2]\n",
        "\n",
        "            # loss.backward()\n",
        "            # optimizer.step()\n",
        "\n",
        "            valid_losses.append(loss.item())\n",
        "            \n",
        "            pred_class = torch.argmax(logits)\n",
        "            if pred_class in labels:\n",
        "              n_correct += 1\n",
        "            else:\n",
        "              n_wrong += 1\n",
        "            acc_valid = (n_correct * 1.0) / (n_correct + n_wrong)\n",
        "            total_acc_valid.append(acc_valid)\n",
        "\n",
        "\n",
        "\n",
        "            # write code here \n",
        "            # to save model eg. model.pth look at pytorch document how to save model\n",
        "\n",
        "            if loss.item() < best_valid_loss:\n",
        "                best_valid_loss = loss.item()\n",
        "                torch.save(model.state_dict(), 'best_model_valid.pt')\n",
        "\n",
        "\n",
        "            print(f'[{epoch + 1}, {idx}] loss: {loss.item()}')\n",
        "            print(running_loss)  \n",
        "            clear_output(wait=True)"
      ]
    },
    {
      "cell_type": "markdown",
      "id": "a04a3040-0fa3-4bc4-9b73-1a3261f68760",
      "metadata": {
        "id": "a04a3040-0fa3-4bc4-9b73-1a3261f68760"
      },
      "source": [
        "   - 4.5 write code to plot both loss and accuracy for training and validation repectively.\n",
        "   - 4.6 write test function to get test accuracy for (4.1,4.2) "
      ]
    },
    {
      "cell_type": "code",
      "source": [
        "# write code here for 4.5\n",
        "import matplotlib.pyplot as plt\n",
        "fig = plt.figure(figsize=(15, 10))\n",
        "ax1 = fig.add_subplot(2, 1, 1)\n",
        "ax2 = fig.add_subplot(2, 1, 2)\n",
        "ax1.plot(train_losses, label = 'train loss')\n",
        "ax1.plot(valid_losses, label = 'valid loss')\n",
        "ax2.plot(total_acc_train, label = 'train acc')\n",
        "ax2.plot(total_acc_valid, label = 'valid acc')\n",
        "plt.legend()\n",
        "ax1.set_xlabel('epoches')\n",
        "ax1.set_ylabel('Losses')\n",
        "ax2.set_xlabel('epoches')\n",
        "ax2.set_ylabel('Accuracy')\n"
      ],
      "metadata": {
        "colab": {
          "base_uri": "https://localhost:8080/",
          "height": 623
        },
        "id": "bd7yzWox4naz",
        "outputId": "abf5e84b-1b14-412a-a948-6af3dc07caa1"
      },
      "id": "bd7yzWox4naz",
      "execution_count": 50,
      "outputs": [
        {
          "output_type": "execute_result",
          "data": {
            "text/plain": [
              "Text(0, 0.5, 'Accuracy')"
            ]
          },
          "metadata": {},
          "execution_count": 50
        },
        {
          "output_type": "display_data",
          "data": {
            "image/png": "[encoded data removed]",
            "text/plain": [
              "<Figure size 1080x720 with 2 Axes>"
            ]
          },
          "metadata": {
            "needs_background": "light"
          }
        }
      ]
    },
    {
      "cell_type": "markdown",
      "id": "acfe6caa-1211-417e-b53b-ec188773c02c",
      "metadata": {
        "tags": [],
        "id": "acfe6caa-1211-417e-b53b-ec188773c02c"
      },
      "source": [
        "# Question 5: Training on text classification task  on combine two losses Cross Entropy and Supervised Contrastive. (3.5 pts)\n",
        "\n",
        "- Cross Entropy loss\n",
        "$$\n",
        "\\mathcal{L}_\\text{CE} =-\\frac{1}{m} \\sum_{i=1}^{m} yi \\cdot log(\\hat{yi})\n",
        "$$\n",
        "\n",
        "- Supervised Contrastive learning loss\n",
        "$$\n",
        "\\mathcal{L}_\\text{S_cl} = -\\frac{1}{T}\\sum_{i=1}^{N}\\sum_{j=1}^{N} \\boldsymbol{1_{yi=yj}}\\enspace log \\frac{e^{sim(hi,hj) / \\tau}}{\\sum_{n=1}^{N} e^{sim(hi,hn) / \\tau}}\n",
        "$$\n",
        "     * detail \n",
        "       * ui ~ sentence i \n",
        "       * hi ~ BERT(ui) in our case using Roberta as a encoder\n",
        "       * hi : (batch_size,sequence_len,embed_size)\n",
        "       * hi is the output of model which is last hidden layers before classifier head in the model architecture\n",
        "       * 1yi=yj ~ we select only the sample that come from the same class to compute in each i and j\n",
        "       * T ~ the number of pairs that come from the same classes\n",
        "       * $\\tau$ ~ temperature parameter\n",
        "       * Sim(x1,x2) : cosine similarity [-1, 1]\n",
        "       - $\\lambda'$ is just weighted of cross entropy loss \n",
        "       * Sim function is the cosine similarity \n",
        "       * N ~ the number of samples in a batch\n",
        "$$\n",
        "sim(A,B) = \\cos{(\\theta)} = \\frac{A\\cdot B}{|\\!|A|\\!||\\!|B|\\!|}\n",
        "$$\n",
        "\n",
        "\n",
        "- Loss total\n",
        "$$\n",
        "  \\mathcal{L}_\\text{total} = \\mathcal{L}_\\text{s_cl} + \\lambda ' \\mathcal{L}_{CE}\n",
        "$$\n",
        "\n",
        "* you can get cross entropy loss like below \n",
        "    * outputs = model(input_ids, labels=labels)\n",
        "    * loss, logits = outputs[:2]\n",
        "    * loss : this is cross entropy loss\n",
        "      \n",
        "- hint : for this question you will utilize the function CustomTextDataset to force dataloader to have at least one pair that come from the same class\n",
        "     * eg. batch_size = 4 \n",
        "     * the labels in a batch should be like [ 0, 21, 43, 0]  \n",
        "     \n",
        "5. training this model in the code below on loss_total by do experiment the same as question 4.1, 4.2, 4.3, 4.4, 4.5, 4.6"
      ]
    },
    {
      "cell_type": "code",
      "source": [
        "def freeze_layers(model,freeze_layers_count:int):\n",
        "\n",
        "        \"\"\"\n",
        "        model : model object that we create \n",
        "        freeze_layers_count : the number of layers to freeze \n",
        "        \"\"\"\n",
        "        # write the code here\n",
        "        #freeze_layers_count = sum(p.numel() for p in model.parameters() if p.requires_grad = False)\n",
        "        for params in model.roberta.embeddings.parameters():\n",
        "          params.requires_grad = False\n",
        "          # print(\"Embeddings: \", params.requires_grad) \n",
        "        for i, layer in enumerate(model.roberta.encoder.layer):\n",
        "          if i < freeze_layers_count:\n",
        "            for params in layer.parameters():\n",
        "                params.requires_grad = False \n",
        "    \n",
        "        #return freeze_layers_count\n",
        "        return model"
      ],
      "metadata": {
        "id": "rcmlSMgoIpvH"
      },
      "id": "rcmlSMgoIpvH",
      "execution_count": 51,
      "outputs": []
    },
    {
      "cell_type": "code",
      "source": [
        "model_freezed = freeze_layers(model, 10)"
      ],
      "metadata": {
        "id": "lujj5lExIuMQ"
      },
      "id": "lujj5lExIuMQ",
      "execution_count": 52,
      "outputs": []
    },
    {
      "cell_type": "code",
      "source": [
        "for params in model_freezed.roberta.encoder.layer.parameters():\n",
        "    print(params.requires_grad)"
      ],
      "metadata": {
        "colab": {
          "base_uri": "https://localhost:8080/"
        },
        "id": "a2iCb1cBI1uy",
        "outputId": "9bca2cfe-f5b6-4cf3-a101-4cc9f28ccfde"
      },
      "id": "a2iCb1cBI1uy",
      "execution_count": 53,
      "outputs": [
        {
          "output_type": "stream",
          "name": "stdout",
          "text": [
            "False\n",
            "False\n",
            "False\n",
            "False\n",
            "False\n",
            "False\n",
            "False\n",
            "False\n",
            "False\n",
            "False\n",
            "False\n",
            "False\n",
            "False\n",
            "False\n",
            "False\n",
            "False\n",
            "False\n",
            "False\n",
            "False\n",
            "False\n",
            "False\n",
            "False\n",
            "False\n",
            "False\n",
            "False\n",
            "False\n",
            "False\n",
            "False\n",
            "False\n",
            "False\n",
            "False\n",
            "False\n",
            "False\n",
            "False\n",
            "False\n",
            "False\n",
            "False\n",
            "False\n",
            "False\n",
            "False\n",
            "False\n",
            "False\n",
            "False\n",
            "False\n",
            "False\n",
            "False\n",
            "False\n",
            "False\n",
            "False\n",
            "False\n",
            "False\n",
            "False\n",
            "False\n",
            "False\n",
            "False\n",
            "False\n",
            "False\n",
            "False\n",
            "False\n",
            "False\n",
            "False\n",
            "False\n",
            "False\n",
            "False\n",
            "False\n",
            "False\n",
            "False\n",
            "False\n",
            "False\n",
            "False\n",
            "False\n",
            "False\n",
            "False\n",
            "False\n",
            "False\n",
            "False\n",
            "False\n",
            "False\n",
            "False\n",
            "False\n",
            "False\n",
            "False\n",
            "False\n",
            "False\n",
            "False\n",
            "False\n",
            "False\n",
            "False\n",
            "False\n",
            "False\n",
            "False\n",
            "False\n",
            "False\n",
            "False\n",
            "False\n",
            "False\n",
            "False\n",
            "False\n",
            "False\n",
            "False\n",
            "False\n",
            "False\n",
            "False\n",
            "False\n",
            "False\n",
            "False\n",
            "False\n",
            "False\n",
            "False\n",
            "False\n",
            "False\n",
            "False\n",
            "False\n",
            "False\n",
            "False\n",
            "False\n",
            "False\n",
            "False\n",
            "False\n",
            "False\n",
            "False\n",
            "False\n",
            "False\n",
            "False\n",
            "False\n",
            "False\n",
            "False\n",
            "False\n",
            "False\n",
            "False\n",
            "False\n",
            "False\n",
            "False\n",
            "False\n",
            "False\n",
            "False\n",
            "False\n",
            "False\n",
            "False\n",
            "False\n",
            "False\n",
            "False\n",
            "False\n",
            "False\n",
            "False\n",
            "False\n",
            "False\n",
            "False\n",
            "False\n",
            "False\n",
            "False\n",
            "False\n",
            "False\n",
            "False\n",
            "False\n",
            "False\n",
            "False\n",
            "False\n",
            "False\n",
            "False\n",
            "True\n",
            "True\n",
            "True\n",
            "True\n",
            "True\n",
            "True\n",
            "True\n",
            "True\n",
            "True\n",
            "True\n",
            "True\n",
            "True\n",
            "True\n",
            "True\n",
            "True\n",
            "True\n",
            "True\n",
            "True\n",
            "True\n",
            "True\n",
            "True\n",
            "True\n",
            "True\n",
            "True\n",
            "True\n",
            "True\n",
            "True\n",
            "True\n",
            "True\n",
            "True\n",
            "True\n",
            "True\n"
          ]
        }
      ]
    },
    {
      "cell_type": "code",
      "execution_count": 57,
      "id": "7dc1fb27-ba93-4d66-a39b-a709a8737ff1",
      "metadata": {
        "id": "7dc1fb27-ba93-4d66-a39b-a709a8737ff1",
        "colab": {
          "base_uri": "https://localhost:8080/",
          "height": 391
        },
        "outputId": "848d0ee6-1c46-445c-c1a8-ebdd728d152b"
      },
      "outputs": [
        {
          "output_type": "error",
          "ename": "RuntimeError",
          "evalue": "ignored",
          "traceback": [
            "\u001b[0;31m---------------------------------------------------------------------------\u001b[0m",
            "\u001b[0;31mRuntimeError\u001b[0m                              Traceback (most recent call last)",
            "\u001b[0;32m<ipython-input-57-6a890278d70a>\u001b[0m in \u001b[0;36m<module>\u001b[0;34m()\u001b[0m\n\u001b[1;32m     51\u001b[0m \u001b[0;34m\u001b[0m\u001b[0m\n\u001b[1;32m     52\u001b[0m         \u001b[0;31m# supervised contrastive loss\u001b[0m\u001b[0;34m\u001b[0m\u001b[0;34m\u001b[0m\u001b[0;34m\u001b[0m\u001b[0m\n\u001b[0;32m---> 53\u001b[0;31m         \u001b[0mloss_s_cl\u001b[0m \u001b[0;34m=\u001b[0m \u001b[0msupervised_contrasive_loss\u001b[0m\u001b[0;34m(\u001b[0m\u001b[0mh_i\u001b[0m\u001b[0;34m,\u001b[0m \u001b[0mh_j\u001b[0m\u001b[0;34m,\u001b[0m \u001b[0mh\u001b[0m\u001b[0;34m,\u001b[0m \u001b[0mT\u001b[0m\u001b[0;34m,\u001b[0m\u001b[0mtemp\u001b[0m\u001b[0;34m=\u001b[0m\u001b[0mtemp\u001b[0m\u001b[0;34m,\u001b[0m\u001b[0midx_yij\u001b[0m\u001b[0;34m=\u001b[0m\u001b[0midx_yij\u001b[0m\u001b[0;34m,\u001b[0m\u001b[0mdebug\u001b[0m\u001b[0;34m=\u001b[0m\u001b[0;32mFalse\u001b[0m\u001b[0;34m)\u001b[0m\u001b[0;34m\u001b[0m\u001b[0;34m\u001b[0m\u001b[0m\n\u001b[0m\u001b[1;32m     54\u001b[0m \u001b[0;34m\u001b[0m\u001b[0m\n\u001b[1;32m     55\u001b[0m         \u001b[0;31m# cross entropy loss\u001b[0m\u001b[0;34m\u001b[0m\u001b[0;34m\u001b[0m\u001b[0;34m\u001b[0m\u001b[0m\n",
            "\u001b[0;32m/content/utils.py\u001b[0m in \u001b[0;36msupervised_contrasive_loss\u001b[0;34m(h_i, h_j, h_n, T, temp, idx_yij, callback, debug)\u001b[0m\n\u001b[1;32m    226\u001b[0m         \u001b[0mbot_sim\u001b[0m\u001b[0;34m.\u001b[0m\u001b[0mappend\u001b[0m\u001b[0;34m(\u001b[0m\u001b[0mres\u001b[0m\u001b[0;34m)\u001b[0m\u001b[0;34m\u001b[0m\u001b[0;34m\u001b[0m\u001b[0m\n\u001b[1;32m    227\u001b[0m \u001b[0;34m\u001b[0m\u001b[0m\n\u001b[0;32m--> 228\u001b[0;31m     \u001b[0mbot_sim\u001b[0m \u001b[0;34m=\u001b[0m \u001b[0mtorch\u001b[0m\u001b[0;34m.\u001b[0m\u001b[0mTensor\u001b[0m\u001b[0;34m(\u001b[0m\u001b[0mbot_sim\u001b[0m\u001b[0;34m)\u001b[0m\u001b[0;34m.\u001b[0m\u001b[0mto\u001b[0m\u001b[0;34m(\u001b[0m\u001b[0mdevice\u001b[0m\u001b[0;34m)\u001b[0m\u001b[0;34m\u001b[0m\u001b[0;34m\u001b[0m\u001b[0m\n\u001b[0m\u001b[1;32m    229\u001b[0m \u001b[0;34m\u001b[0m\u001b[0m\n\u001b[1;32m    230\u001b[0m     \u001b[0;32mif\u001b[0m \u001b[0mdebug\u001b[0m\u001b[0;34m:\u001b[0m\u001b[0;34m\u001b[0m\u001b[0;34m\u001b[0m\u001b[0m\n",
            "\u001b[0;31mRuntimeError\u001b[0m: CUDA error: invalid device ordinal\nCUDA kernel errors might be asynchronously reported at some other API call,so the stacktrace below might be incorrect.\nFor debugging consider passing CUDA_LAUNCH_BLOCKING=1."
          ]
        }
      ],
      "source": [
        "train_losses_ = []\n",
        "best_train_loss_ = float('inf')\n",
        "total_acc_train_ = []\n",
        "acc_train_ = 0.0\n",
        "n_correct_ = 0.0\n",
        "n_wrong_ = 0.0\n",
        "\n",
        "\n",
        "for epoch in range(30):  # loop over the dataset multiple times\n",
        "    \n",
        "    running_loss = 0.0\n",
        "    \n",
        "    \n",
        "    for (idx, batch) in enumerate(train_loader):\n",
        "        sentence = batch[\"Text\"]\n",
        "        inputs = tokenizer(sentence,padding=True,truncation=True,return_tensors=\"pt\")\n",
        "        inputs = {k:v.to(device) for k,v in inputs.items()}\n",
        "\n",
        "        # map string labels to class idex\n",
        "        labels = [label_maps[stringtoId] for stringtoId in (batch['Class'])]\n",
        "\n",
        "        \n",
        "        # convert list to tensor\n",
        "        labels = torch.tensor(labels).unsqueeze(0)\n",
        "        labels = labels.to(device)\n",
        "\n",
        "\n",
        "        #(batch_size, seq_len)\n",
        "        #print(inputs[\"input_ids\"].shape)\n",
        "\n",
        "          # zero the parameter gradients\n",
        "        optimizer.zero_grad()\n",
        "\n",
        "        outputs = model(**inputs,labels=labels,output_hidden_states=True)     \n",
        "        \n",
        "        hidden_states = outputs.hidden_states\n",
        "        \n",
        "        last_hidden_states = hidden_states[12]\n",
        "        \n",
        "        # https://stackoverflow.com/questions/63040954/how-to-extract-and-use-bert-encodings-of-sentences-for-text-similarity-among-sen \n",
        "        # (batch_size,seq_len,embed_dim)\n",
        "        h = last_hidden_states[:,0,:]\n",
        "        \n",
        "        # create pair samples\n",
        "        T, h_i, h_j, idx_yij = create_supervised_pair(h,batch['Class'],debug=False)\n",
        "        \n",
        "        if h_i is None:\n",
        "            print(\"skip this batch\")\n",
        "            skip_time +=1\n",
        "            continue\n",
        "                \n",
        "        # supervised contrastive loss \n",
        "        loss_s_cl = supervised_contrasive_loss(h_i, h_j, h, T,temp=temp,idx_yij=idx_yij,debug=False)\n",
        "        \n",
        "        # cross entropy loss\n",
        "        loss_classify, logits = outputs[:2]\n",
        "        \n",
        "        # loss total\n",
        "        loss = loss_s_cl + (lamda * loss_classify)\n",
        "        \n",
        "        loss.backward()\n",
        "        optimizer.step()\n",
        "\n",
        "        train_losses_.append(loss.item())\n",
        "        #acc = (outputs.argmax(dim=1) == labels).sum().item()\n",
        "        #acc = (np.argmax(logits) == labels).sum().detach().cpu().numpy()\n",
        "\n",
        "\n",
        "\n",
        "        pred_class_ = torch.argmax(logits)\n",
        "        if pred_class_ in labels:\n",
        "          n_correct_ += 1\n",
        "        else:\n",
        "          n_wrong_ += 1\n",
        "\n",
        "        acc_train_ = (n_correct_ * 1.0) / (n_correct_ + n_wrong_)\n",
        "        total_acc_train_.append(acc_train_)\n",
        "\n",
        "        if loss.item() < best_train_loss_:\n",
        "            best_train_loss_ = loss.item()\n",
        "            torch.save(model.state_dict(), 'best_model_combine.pt')\n",
        "        \n",
        "        \n",
        "        print(f'[{epoch + 1}, {idx}] loss_total: {loss.item()}, loss_s_cl:{loss_s_cl.item()}, loss_classify:{lamda * loss_classify.item()}')\n",
        "        \n",
        "        clear_output(wait=True)        "
      ]
    },
    {
      "cell_type": "code",
      "execution_count": 58,
      "id": "f990f65d-a479-40d1-a5f1-0025766d8909",
      "metadata": {
        "id": "f990f65d-a479-40d1-a5f1-0025766d8909",
        "colab": {
          "base_uri": "https://localhost:8080/",
          "height": 409
        },
        "outputId": "b99bef57-7092-4535-e215-08bf130adcc0"
      },
      "outputs": [
        {
          "output_type": "stream",
          "name": "stdout",
          "text": [
            "skip this batch\n"
          ]
        },
        {
          "output_type": "error",
          "ename": "RuntimeError",
          "evalue": "ignored",
          "traceback": [
            "\u001b[0;31m---------------------------------------------------------------------------\u001b[0m",
            "\u001b[0;31mRuntimeError\u001b[0m                              Traceback (most recent call last)",
            "\u001b[0;32m<ipython-input-58-480eb18c1c22>\u001b[0m in \u001b[0;36m<module>\u001b[0;34m()\u001b[0m\n\u001b[1;32m     53\u001b[0m \u001b[0;34m\u001b[0m\u001b[0m\n\u001b[1;32m     54\u001b[0m           \u001b[0;31m# supervised contrastive loss\u001b[0m\u001b[0;34m\u001b[0m\u001b[0;34m\u001b[0m\u001b[0;34m\u001b[0m\u001b[0m\n\u001b[0;32m---> 55\u001b[0;31m           \u001b[0mloss_s_cl\u001b[0m \u001b[0;34m=\u001b[0m \u001b[0msupervised_contrasive_loss\u001b[0m\u001b[0;34m(\u001b[0m\u001b[0mh_i\u001b[0m\u001b[0;34m,\u001b[0m \u001b[0mh_j\u001b[0m\u001b[0;34m,\u001b[0m \u001b[0mh\u001b[0m\u001b[0;34m,\u001b[0m \u001b[0mT\u001b[0m\u001b[0;34m,\u001b[0m\u001b[0mtemp\u001b[0m\u001b[0;34m=\u001b[0m\u001b[0mtemp\u001b[0m\u001b[0;34m,\u001b[0m\u001b[0midx_yij\u001b[0m\u001b[0;34m=\u001b[0m\u001b[0midx_yij\u001b[0m\u001b[0;34m,\u001b[0m\u001b[0mdebug\u001b[0m\u001b[0;34m=\u001b[0m\u001b[0;32mFalse\u001b[0m\u001b[0;34m)\u001b[0m\u001b[0;34m\u001b[0m\u001b[0;34m\u001b[0m\u001b[0m\n\u001b[0m\u001b[1;32m     56\u001b[0m \u001b[0;34m\u001b[0m\u001b[0m\n\u001b[1;32m     57\u001b[0m           \u001b[0;31m# cross entropy loss\u001b[0m\u001b[0;34m\u001b[0m\u001b[0;34m\u001b[0m\u001b[0;34m\u001b[0m\u001b[0m\n",
            "\u001b[0;32m/content/utils.py\u001b[0m in \u001b[0;36msupervised_contrasive_loss\u001b[0;34m(h_i, h_j, h_n, T, temp, idx_yij, callback, debug)\u001b[0m\n\u001b[1;32m    226\u001b[0m         \u001b[0mbot_sim\u001b[0m\u001b[0;34m.\u001b[0m\u001b[0mappend\u001b[0m\u001b[0;34m(\u001b[0m\u001b[0mres\u001b[0m\u001b[0;34m)\u001b[0m\u001b[0;34m\u001b[0m\u001b[0;34m\u001b[0m\u001b[0m\n\u001b[1;32m    227\u001b[0m \u001b[0;34m\u001b[0m\u001b[0m\n\u001b[0;32m--> 228\u001b[0;31m     \u001b[0mbot_sim\u001b[0m \u001b[0;34m=\u001b[0m \u001b[0mtorch\u001b[0m\u001b[0;34m.\u001b[0m\u001b[0mTensor\u001b[0m\u001b[0;34m(\u001b[0m\u001b[0mbot_sim\u001b[0m\u001b[0;34m)\u001b[0m\u001b[0;34m.\u001b[0m\u001b[0mto\u001b[0m\u001b[0;34m(\u001b[0m\u001b[0mdevice\u001b[0m\u001b[0;34m)\u001b[0m\u001b[0;34m\u001b[0m\u001b[0;34m\u001b[0m\u001b[0m\n\u001b[0m\u001b[1;32m    229\u001b[0m \u001b[0;34m\u001b[0m\u001b[0m\n\u001b[1;32m    230\u001b[0m     \u001b[0;32mif\u001b[0m \u001b[0mdebug\u001b[0m\u001b[0;34m:\u001b[0m\u001b[0;34m\u001b[0m\u001b[0;34m\u001b[0m\u001b[0m\n",
            "\u001b[0;31mRuntimeError\u001b[0m: CUDA error: invalid device ordinal\nCUDA kernel errors might be asynchronously reported at some other API call,so the stacktrace below might be incorrect.\nFor debugging consider passing CUDA_LAUNCH_BLOCKING=1."
          ]
        }
      ],
      "source": [
        "val_losses_ = []\n",
        "best_val_loss_ = float('inf')\n",
        "total_acc_val_ = []\n",
        "acc_val_ = 0.0\n",
        "n_correct_ = 0.0\n",
        "n_wrong_ = 0.0\n",
        "\n",
        "model.eval()\n",
        "\n",
        "\n",
        "for epoch in range(30):  # loop over the dataset multiple times\n",
        "    \n",
        "    running_loss = 0.0\n",
        "    with torch.no_grad():\n",
        "    \n",
        "      for (idx, batch) in enumerate(val_loader):\n",
        "          sentence = batch[\"Text\"]\n",
        "          inputs = tokenizer(sentence,padding=True,truncation=True,return_tensors=\"pt\")\n",
        "          inputs = {k:v.to(device) for k,v in inputs.items()}\n",
        "\n",
        "          # map string labels to class idex\n",
        "          labels = [label_maps[stringtoId] for stringtoId in (batch['Class'])]\n",
        "\n",
        "          \n",
        "          # convert list to tensor\n",
        "          labels = torch.tensor(labels).unsqueeze(0)\n",
        "          labels = labels.to(device)\n",
        "\n",
        "\n",
        "          #(batch_size, seq_len)\n",
        "          #print(inputs[\"input_ids\"].shape)\n",
        "\n",
        "          # zero the parameter gradients\n",
        "          #optimizer.zero_grad()\n",
        "\n",
        "          outputs = model(**inputs,labels=labels,output_hidden_states=True)     \n",
        "          \n",
        "          hidden_states = outputs.hidden_states\n",
        "          \n",
        "          last_hidden_states = hidden_states[12]\n",
        "          \n",
        "          # https://stackoverflow.com/questions/63040954/how-to-extract-and-use-bert-encodings-of-sentences-for-text-similarity-among-sen \n",
        "          # (batch_size,seq_len,embed_dim)\n",
        "          h = last_hidden_states[:,0,:]\n",
        "          \n",
        "          # create pair samples\n",
        "          T, h_i, h_j, idx_yij = create_supervised_pair(h,batch['Class'],debug=False)\n",
        "          \n",
        "          if h_i is None:\n",
        "              print(\"skip this batch\")\n",
        "              skip_time +=1\n",
        "              continue\n",
        "                \n",
        "          # supervised contrastive loss \n",
        "          loss_s_cl = supervised_contrasive_loss(h_i, h_j, h, T,temp=temp,idx_yij=idx_yij,debug=False)\n",
        "          \n",
        "          # cross entropy loss\n",
        "          loss_classify, logits = outputs[:2]\n",
        "          \n",
        "          # loss total\n",
        "          loss = loss_s_cl + (lamda * loss_classify)\n",
        "          \n",
        "          # loss.backward()\n",
        "          # optimizer.step()\n",
        "\n",
        "          val_losses_.append(loss.item())\n",
        "          #acc = (outputs.argmax(dim=1) == labels).sum().item()\n",
        "          #acc = (np.argmax(logits) == labels).sum().detach().cpu().numpy()\n",
        "\n",
        "\n",
        "\n",
        "          pred_class_ = torch.argmax(logits)\n",
        "          if pred_class_ in labels:\n",
        "            n_correct_ += 1\n",
        "          else:\n",
        "            n_wrong_ += 1\n",
        "\n",
        "          acc_val_ = (n_correct_ * 1.0) / (n_correct_ + n_wrong_)\n",
        "          total_acc_val_.append(acc_val_)\n",
        "      \n",
        "          if loss.item() < best_val_loss_:\n",
        "              best_val_loss_ = loss.item()\n",
        "              torch.save(model.state_dict(), 'best_model_combine_valid.pt')\n",
        "        \n",
        "          \n",
        "          print(f'[{epoch + 1}, {idx}] loss_total: {loss.item()}, loss_s_cl:{loss_s_cl.item()}, loss_classify:{lamda * loss_classify.item()}')\n",
        "        \n",
        "          clear_output(wait=True) "
      ]
    },
    {
      "cell_type": "code",
      "source": [
        "# write code here for 4.5\n",
        "import matplotlib.pyplot as plt\n",
        "fig = plt.figure(figsize=(15, 10))\n",
        "ax1 = fig.add_subplot(2, 1, 1)\n",
        "ax2 = fig.add_subplot(2, 1, 2)\n",
        "ax1.plot(train_losses_, label = 'train loss')\n",
        "ax1.plot(valid_losses_, label = 'valid loss')\n",
        "ax2.plot(total_acc_train_, label = 'train acc')\n",
        "ax2.plot(total_acc_valid_, label = 'valid acc')\n",
        "plt.legend()\n",
        "ax1.set_xlabel('epoches')\n",
        "ax1.set_ylabel('Losses')\n",
        "ax2.set_xlabel('epoches')\n",
        "ax2.set_ylabel('Accuracy')"
      ],
      "metadata": {
        "colab": {
          "base_uri": "https://localhost:8080/",
          "height": 810
        },
        "id": "WpP6M9O8K4s8",
        "outputId": "7b01e26a-cce9-493a-cc06-94ba1bc17e36"
      },
      "id": "WpP6M9O8K4s8",
      "execution_count": 59,
      "outputs": [
        {
          "output_type": "error",
          "ename": "NameError",
          "evalue": "ignored",
          "traceback": [
            "\u001b[0;31m---------------------------------------------------------------------------\u001b[0m",
            "\u001b[0;31mNameError\u001b[0m                                 Traceback (most recent call last)",
            "\u001b[0;32m<ipython-input-59-5c72ea78bf70>\u001b[0m in \u001b[0;36m<module>\u001b[0;34m()\u001b[0m\n\u001b[1;32m      5\u001b[0m \u001b[0max2\u001b[0m \u001b[0;34m=\u001b[0m \u001b[0mfig\u001b[0m\u001b[0;34m.\u001b[0m\u001b[0madd_subplot\u001b[0m\u001b[0;34m(\u001b[0m\u001b[0;36m2\u001b[0m\u001b[0;34m,\u001b[0m \u001b[0;36m1\u001b[0m\u001b[0;34m,\u001b[0m \u001b[0;36m2\u001b[0m\u001b[0;34m)\u001b[0m\u001b[0;34m\u001b[0m\u001b[0;34m\u001b[0m\u001b[0m\n\u001b[1;32m      6\u001b[0m \u001b[0max1\u001b[0m\u001b[0;34m.\u001b[0m\u001b[0mplot\u001b[0m\u001b[0;34m(\u001b[0m\u001b[0mtrain_losses_\u001b[0m\u001b[0;34m,\u001b[0m \u001b[0mlabel\u001b[0m \u001b[0;34m=\u001b[0m \u001b[0;34m'train loss'\u001b[0m\u001b[0;34m)\u001b[0m\u001b[0;34m\u001b[0m\u001b[0;34m\u001b[0m\u001b[0m\n\u001b[0;32m----> 7\u001b[0;31m \u001b[0max1\u001b[0m\u001b[0;34m.\u001b[0m\u001b[0mplot\u001b[0m\u001b[0;34m(\u001b[0m\u001b[0mvalid_losses_\u001b[0m\u001b[0;34m,\u001b[0m \u001b[0mlabel\u001b[0m \u001b[0;34m=\u001b[0m \u001b[0;34m'valid loss'\u001b[0m\u001b[0;34m)\u001b[0m\u001b[0;34m\u001b[0m\u001b[0;34m\u001b[0m\u001b[0m\n\u001b[0m\u001b[1;32m      8\u001b[0m \u001b[0max2\u001b[0m\u001b[0;34m.\u001b[0m\u001b[0mplot\u001b[0m\u001b[0;34m(\u001b[0m\u001b[0mtotal_acc_train_\u001b[0m\u001b[0;34m,\u001b[0m \u001b[0mlabel\u001b[0m \u001b[0;34m=\u001b[0m \u001b[0;34m'train acc'\u001b[0m\u001b[0;34m)\u001b[0m\u001b[0;34m\u001b[0m\u001b[0;34m\u001b[0m\u001b[0m\n\u001b[1;32m      9\u001b[0m \u001b[0max2\u001b[0m\u001b[0;34m.\u001b[0m\u001b[0mplot\u001b[0m\u001b[0;34m(\u001b[0m\u001b[0mtotal_acc_valid_\u001b[0m\u001b[0;34m,\u001b[0m \u001b[0mlabel\u001b[0m \u001b[0;34m=\u001b[0m \u001b[0;34m'valid acc'\u001b[0m\u001b[0;34m)\u001b[0m\u001b[0;34m\u001b[0m\u001b[0;34m\u001b[0m\u001b[0m\n",
            "\u001b[0;31mNameError\u001b[0m: name 'valid_losses_' is not defined"
          ]
        },
        {
          "output_type": "display_data",
          "data": {
            "image/png": "[encoded data removed]",
            "text/plain": [
              "<Figure size 1080x720 with 2 Axes>"
            ]
          },
          "metadata": {
            "needs_background": "light"
          }
        }
      ]
    },
    {
      "cell_type": "markdown",
      "id": "342fc283-c039-43b5-b8fd-bd87c802d511",
      "metadata": {
        "id": "342fc283-c039-43b5-b8fd-bd87c802d511"
      },
      "source": [
        "I got CUDA error. I also tried on puffer with various cuda but it still get that error. Moreover, eventhough i tried on colab with GPU and CUDA, it still get CUDA error.\n",
        "\n"
      ]
    },
    {
      "cell_type": "code",
      "source": [
        ""
      ],
      "metadata": {
        "id": "Ka-LDiXDSyFt"
      },
      "id": "Ka-LDiXDSyFt",
      "execution_count": null,
      "outputs": []
    }
  ],
  "metadata": {
    "kernelspec": {
      "display_name": "Python 3 (ipykernel)",
      "language": "python",
      "name": "python3"
    },
    "language_info": {
      "codemirror_mode": {
        "name": "ipython",
        "version": 3
      },
      "file_extension": ".py",
      "mimetype": "text/x-python",
      "name": "python",
      "nbconvert_exporter": "python",
      "pygments_lexer": "ipython3",
      "version": "3.9.7"
    },
    "colab": {
      "name": "a6_transfer_learning.ipynb",
      "provenance": []
    },
    "accelerator": "GPU"
  },
  "nbformat": 4,
  "nbformat_minor": 5
}
{
 "cells": [
  {
   "cell_type": "markdown",
   "id": "96a82910-5efd-482b-ab83-0e7695e8792f",
   "metadata": {
    "id": "96a82910-5efd-482b-ab83-0e7695e8792f"
   },
   "source": [
    "# Sequence-to-sequence (seq2seq) Part II\n",
    "\n",
    "In Part I, we have explored Encoder-Decoder model, Transformer (from scratch) to tackle translation task. In notebook, we will explore one of the most useful transformer variants on a different task, text summarization task. We will learn T5 model which is a transformer based model and we will also learn how to fine-tune pretrained models."
   ]
  },
  {
   "cell_type": "code",
   "execution_count": 1,
   "id": "a2b51ae2-6120-4605-be39-ea323126677a",
   "metadata": {
    "colab": {
     "base_uri": "https://localhost:8080/"
    },
    "id": "a2b51ae2-6120-4605-be39-ea323126677a",
    "outputId": "e4150d81-5fcc-4685-f421-bc37c36e4d36"
   },
   "outputs": [
    {
     "name": "stdout",
     "output_type": "stream",
     "text": [
      "Requirement already satisfied: datasets in /usr/local/lib/python3.7/dist-packages (1.18.3)\n",
      "Requirement already satisfied: dill in /usr/local/lib/python3.7/dist-packages (from datasets) (0.3.4)\n",
      "Requirement already satisfied: xxhash in /usr/local/lib/python3.7/dist-packages (from datasets) (2.0.2)\n",
      "Requirement already satisfied: requests>=2.19.0 in /usr/local/lib/python3.7/dist-packages (from datasets) (2.23.0)\n",
      "Requirement already satisfied: numpy>=1.17 in /usr/local/lib/python3.7/dist-packages (from datasets) (1.21.5)\n",
      "Requirement already satisfied: pyarrow!=4.0.0,>=3.0.0 in /usr/local/lib/python3.7/dist-packages (from datasets) (6.0.1)\n",
      "Requirement already satisfied: multiprocess in /usr/local/lib/python3.7/dist-packages (from datasets) (0.70.12.2)\n",
      "Requirement already satisfied: huggingface-hub<1.0.0,>=0.1.0 in /usr/local/lib/python3.7/dist-packages (from datasets) (0.4.0)\n",
      "Requirement already satisfied: tqdm>=4.62.1 in /usr/local/lib/python3.7/dist-packages (from datasets) (4.62.3)\n",
      "Requirement already satisfied: fsspec[http]>=2021.05.0 in /usr/local/lib/python3.7/dist-packages (from datasets) (2022.1.0)\n",
      "Requirement already satisfied: importlib-metadata in /usr/local/lib/python3.7/dist-packages (from datasets) (4.11.0)\n",
      "Requirement already satisfied: aiohttp in /usr/local/lib/python3.7/dist-packages (from datasets) (3.8.1)\n",
      "Requirement already satisfied: pandas in /usr/local/lib/python3.7/dist-packages (from datasets) (1.3.5)\n",
      "Requirement already satisfied: packaging in /usr/local/lib/python3.7/dist-packages (from datasets) (21.3)\n",
      "Requirement already satisfied: filelock in /usr/local/lib/python3.7/dist-packages (from huggingface-hub<1.0.0,>=0.1.0->datasets) (3.4.2)\n",
      "Requirement already satisfied: pyyaml in /usr/local/lib/python3.7/dist-packages (from huggingface-hub<1.0.0,>=0.1.0->datasets) (6.0)\n",
      "Requirement already satisfied: typing-extensions>=3.7.4.3 in /usr/local/lib/python3.7/dist-packages (from huggingface-hub<1.0.0,>=0.1.0->datasets) (3.10.0.2)\n",
      "Requirement already satisfied: pyparsing!=3.0.5,>=2.0.2 in /usr/local/lib/python3.7/dist-packages (from packaging->datasets) (3.0.7)\n",
      "Requirement already satisfied: certifi>=2017.4.17 in /usr/local/lib/python3.7/dist-packages (from requests>=2.19.0->datasets) (2021.10.8)\n",
      "Requirement already satisfied: chardet<4,>=3.0.2 in /usr/local/lib/python3.7/dist-packages (from requests>=2.19.0->datasets) (3.0.4)\n",
      "Requirement already satisfied: urllib3!=1.25.0,!=1.25.1,<1.26,>=1.21.1 in /usr/local/lib/python3.7/dist-packages (from requests>=2.19.0->datasets) (1.24.3)\n",
      "Requirement already satisfied: idna<3,>=2.5 in /usr/local/lib/python3.7/dist-packages (from requests>=2.19.0->datasets) (2.10)\n",
      "Requirement already satisfied: frozenlist>=1.1.1 in /usr/local/lib/python3.7/dist-packages (from aiohttp->datasets) (1.3.0)\n",
      "Requirement already satisfied: aiosignal>=1.1.2 in /usr/local/lib/python3.7/dist-packages (from aiohttp->datasets) (1.2.0)\n",
      "Requirement already satisfied: yarl<2.0,>=1.0 in /usr/local/lib/python3.7/dist-packages (from aiohttp->datasets) (1.7.2)\n",
      "Requirement already satisfied: multidict<7.0,>=4.5 in /usr/local/lib/python3.7/dist-packages (from aiohttp->datasets) (6.0.2)\n",
      "Requirement already satisfied: async-timeout<5.0,>=4.0.0a3 in /usr/local/lib/python3.7/dist-packages (from aiohttp->datasets) (4.0.2)\n",
      "Requirement already satisfied: attrs>=17.3.0 in /usr/local/lib/python3.7/dist-packages (from aiohttp->datasets) (21.4.0)\n",
      "Requirement already satisfied: charset-normalizer<3.0,>=2.0 in /usr/local/lib/python3.7/dist-packages (from aiohttp->datasets) (2.0.11)\n",
      "Requirement already satisfied: asynctest==0.13.0 in /usr/local/lib/python3.7/dist-packages (from aiohttp->datasets) (0.13.0)\n",
      "Requirement already satisfied: zipp>=0.5 in /usr/local/lib/python3.7/dist-packages (from importlib-metadata->datasets) (3.7.0)\n",
      "Requirement already satisfied: python-dateutil>=2.7.3 in /usr/local/lib/python3.7/dist-packages (from pandas->datasets) (2.8.2)\n",
      "Requirement already satisfied: pytz>=2017.3 in /usr/local/lib/python3.7/dist-packages (from pandas->datasets) (2018.9)\n",
      "Requirement already satisfied: six>=1.5 in /usr/local/lib/python3.7/dist-packages (from python-dateutil>=2.7.3->pandas->datasets) (1.15.0)\n",
      "Requirement already satisfied: rich in /usr/local/lib/python3.7/dist-packages (11.2.0)\n",
      "Requirement already satisfied: pygments<3.0.0,>=2.6.0 in /usr/local/lib/python3.7/dist-packages (from rich) (2.6.1)\n",
      "Requirement already satisfied: typing-extensions<5.0,>=3.7.4 in /usr/local/lib/python3.7/dist-packages (from rich) (3.10.0.2)\n",
      "Requirement already satisfied: commonmark<0.10.0,>=0.9.0 in /usr/local/lib/python3.7/dist-packages (from rich) (0.9.1)\n",
      "Requirement already satisfied: colorama<0.5.0,>=0.4.0 in /usr/local/lib/python3.7/dist-packages (from rich) (0.4.4)\n",
      "Requirement already satisfied: SentencePiece in /usr/local/lib/python3.7/dist-packages (0.1.96)\n",
      "Requirement already satisfied: rouge_score in /usr/local/lib/python3.7/dist-packages (0.0.4)\n",
      "Requirement already satisfied: absl-py in /usr/local/lib/python3.7/dist-packages (from rouge_score) (1.0.0)\n",
      "Requirement already satisfied: nltk in /usr/local/lib/python3.7/dist-packages (from rouge_score) (3.2.5)\n",
      "Requirement already satisfied: numpy in /usr/local/lib/python3.7/dist-packages (from rouge_score) (1.21.5)\n",
      "Requirement already satisfied: six>=1.14.0 in /usr/local/lib/python3.7/dist-packages (from rouge_score) (1.15.0)\n",
      "Requirement already satisfied: transformers in /usr/local/lib/python3.7/dist-packages (4.16.2)\n",
      "Requirement already satisfied: pyyaml>=5.1 in /usr/local/lib/python3.7/dist-packages (from transformers) (6.0)\n",
      "Requirement already satisfied: tokenizers!=0.11.3,>=0.10.1 in /usr/local/lib/python3.7/dist-packages (from transformers) (0.11.5)\n",
      "Requirement already satisfied: requests in /usr/local/lib/python3.7/dist-packages (from transformers) (2.23.0)\n",
      "Requirement already satisfied: importlib-metadata in /usr/local/lib/python3.7/dist-packages (from transformers) (4.11.0)\n",
      "Requirement already satisfied: filelock in /usr/local/lib/python3.7/dist-packages (from transformers) (3.4.2)\n",
      "Requirement already satisfied: sacremoses in /usr/local/lib/python3.7/dist-packages (from transformers) (0.0.47)\n",
      "Requirement already satisfied: packaging>=20.0 in /usr/local/lib/python3.7/dist-packages (from transformers) (21.3)\n",
      "Requirement already satisfied: huggingface-hub<1.0,>=0.1.0 in /usr/local/lib/python3.7/dist-packages (from transformers) (0.4.0)\n",
      "Requirement already satisfied: numpy>=1.17 in /usr/local/lib/python3.7/dist-packages (from transformers) (1.21.5)\n",
      "Requirement already satisfied: regex!=2019.12.17 in /usr/local/lib/python3.7/dist-packages (from transformers) (2019.12.20)\n",
      "Requirement already satisfied: tqdm>=4.27 in /usr/local/lib/python3.7/dist-packages (from transformers) (4.62.3)\n",
      "Requirement already satisfied: typing-extensions>=3.7.4.3 in /usr/local/lib/python3.7/dist-packages (from huggingface-hub<1.0,>=0.1.0->transformers) (3.10.0.2)\n",
      "Requirement already satisfied: pyparsing!=3.0.5,>=2.0.2 in /usr/local/lib/python3.7/dist-packages (from packaging>=20.0->transformers) (3.0.7)\n",
      "Requirement already satisfied: zipp>=0.5 in /usr/local/lib/python3.7/dist-packages (from importlib-metadata->transformers) (3.7.0)\n",
      "Requirement already satisfied: certifi>=2017.4.17 in /usr/local/lib/python3.7/dist-packages (from requests->transformers) (2021.10.8)\n",
      "Requirement already satisfied: chardet<4,>=3.0.2 in /usr/local/lib/python3.7/dist-packages (from requests->transformers) (3.0.4)\n",
      "Requirement already satisfied: idna<3,>=2.5 in /usr/local/lib/python3.7/dist-packages (from requests->transformers) (2.10)\n",
      "Requirement already satisfied: urllib3!=1.25.0,!=1.25.1,<1.26,>=1.21.1 in /usr/local/lib/python3.7/dist-packages (from requests->transformers) (1.24.3)\n",
      "Requirement already satisfied: six in /usr/local/lib/python3.7/dist-packages (from sacremoses->transformers) (1.15.0)\n",
      "Requirement already satisfied: joblib in /usr/local/lib/python3.7/dist-packages (from sacremoses->transformers) (1.1.0)\n",
      "Requirement already satisfied: click in /usr/local/lib/python3.7/dist-packages (from sacremoses->transformers) (7.1.2)\n"
     ]
    }
   ],
   "source": [
    "!pip3 install datasets\n",
    "!pip3 install rich\n",
    "!pip3 install SentencePiece\n",
    "!pip3 install rouge_score\n",
    "!pip3 install transformers\n",
    "\n",
    "# Importing libraries\n",
    "import os\n",
    "import numpy as np\n",
    "import pandas as pd\n",
    "import torch\n",
    "import torch.nn.functional as F\n",
    "from torch.utils.data import DataLoader\n",
    "import os\n",
    "\n",
    "# rich: for a better display on terminal\n",
    "from rich.table import Column, Table\n",
    "from rich import box\n",
    "from rich.console import Console\n",
    "\n",
    "# Importing the T5 modules from huggingface/transformers\n",
    "from transformers import PegasusTokenizer, PegasusForConditionalGeneration, T5Tokenizer, T5ForConditionalGeneration, BartTokenizer, BartForConditionalGeneration\n",
    "\n",
    "import nltk\n",
    "\n",
    "from datasets import load_dataset\n",
    "from datasets import load_metric\n",
    "\n",
    "# #uncomment this if you are not using puffer\n",
    "# import os\n",
    "# os.environ['http_proxy'] = 'http://192.41.170.23:3128'\n",
    "# os.environ['https_proxy'] = 'http://192.41.170.23:3128'\n",
    "\n",
    "# !pip3 install datasets\n",
    "# !pip3 install rich\n",
    "# !pip3 install SentencePiece\n",
    "# !pip3 install rouge_score"
   ]
  },
  {
   "cell_type": "markdown",
   "id": "baefad89-34c7-4d71-964a-8e2500d00946",
   "metadata": {
    "id": "baefad89-34c7-4d71-964a-8e2500d00946"
   },
   "source": [
    "## What is a Summary?\n",
    "A summary is a condensed version of an original text, usually a full article or book. Summaries are usually around a paragraph long, and may even be a few paragraphs long depending on the length of the work being condensed.\n",
    "\n",
    "Summaries are used in variety of situations. For example, you might want to summarize only the main points of a meeting with a co-worker because you're running late for another meeting. Or, let's say you want to introduce a complex design idea. You could begin by summarizing what your design would accomplish, to give key people an overall sense of your plan without overwhelming them. Students might summarize an article for a class, or when preparing and writing research papers, annotated bibliographies and essays. Abstracts and legal brief are also types of summaries."
   ]
  },
  {
   "cell_type": "markdown",
   "id": "20a117e3-e742-4a2a-9ad1-ebaa1f28b847",
   "metadata": {
    "id": "20a117e3-e742-4a2a-9ad1-ebaa1f28b847",
    "jp-MarkdownHeadingCollapsed": true,
    "tags": []
   },
   "source": [
    "The \"summary\" itself has some varieties and approaches.\n",
    "\n",
    "#### Types of summary\n",
    "\n",
    "* **Indicative summary** <br>\n",
    "It looks like a summary of the book. This summary describes what kinds of the story, but not tell all of the stories especially its ends (so indicative summary has only partial information).\n",
    "* **Informative summary** <br>\n",
    "In contrast to the indicative summary, the informative summary includes full information of the document.\n",
    "* **Keyword summary** <br>\n",
    "Not the text, but the words or phrases from the input document.\n",
    "* **Headline summary** <br>\n",
    "Only one line summary."
   ]
  },
  {
   "cell_type": "markdown",
   "id": "5a865b28-5727-4f65-b378-cdd5515e5f24",
   "metadata": {
    "id": "5a865b28-5727-4f65-b378-cdd5515e5f24"
   },
   "source": [
    "## Basic Approach\n",
    "\n",
    "There are mainly two ways to make the summary. Extractive and Abstractive. In short, in extractive summarization sentences are chosen from the article(s) given as input, whereas in abstractive summarization sentences may be generated or a new representation of the article(s) may be output.\n",
    "\n",
    "### Extractive\n",
    "\n",
    "* Select relevant **phrases of the input document** and **concatenate** them to form a summary (like \"copy-and-paste\"). The network calculates the most important sentences from the article and gets them together to provide the most meaningful information from the article.\n",
    "  * Pros: They are quite robust since they use existing natural-language phrases that are taken straight from the input.\n",
    "  * Cons: But they lack in flexibility since they cannot use novel words or connectors. They also cannot paraphrase like people sometimes do (less fluent).\n",
    "\n",
    "\n",
    "### Abstractive\n",
    "\n",
    "* Generate a summary that keeps original intent. It's just like humans do. The network creates new sentences to encapsulate maximum gist of the article and generates that as output. The sentences in the summary may or may not be contained in the article.\n",
    "  * Pros: They can use words that were not in the original input. It enables to make more fluent and natural summaries.\n",
    "  * Cons: But it is also a much harder problem as you now require the model to generate coherent phrases and connectors.\n",
    "\n",
    "Extractive & Abstractive is not conflicting ways. You can use both to generate the summary. And there are a way collaborate with human.\n",
    "\n",
    "* Aided Summarization\n",
    "  * Combines automatic methods with human input.\n",
    "  * Computer suggests important information from the document, and the human decide to use it or not. It uses information retrieval, and text mining way.\n"
   ]
  },
  {
   "cell_type": "markdown",
   "id": "389d4d26-4604-4340-adad-74d394cdc7c6",
   "metadata": {
    "id": "389d4d26-4604-4340-adad-74d394cdc7c6"
   },
   "source": [
    "The beginning of the abstractive summarization, [Banko et al. (2000)](http://www.anthology.aclweb.org/P/P00/P00-1041.pdf) suggest to use machine translatation model to abstractive summarization model. As like the machine translation model converts a source language text to a target one, the summarization system converts a source document to a target summary.\n",
    "\n",
    "Nowadays, **encoder-decoder** model that is one of the neural network models is mainly used in machine translation. So this model is also widely used in abstractive summarization model. [The summarization model that used encoder-decoder model first](http://www.aclweb.org/anthology/N16-1012) achieved state-of-the-art on the two sentence-level summarization dataset, DUC-2004 and Gigaword.\n",
    "\n",
    "#### Encoder-Decoder Model\n",
    "\n",
    "The encoder-decoder model is composed of encoder and decoder like its name. The encoder converts an input document to a latent representation (vector), and the decoder generates a summary by using it.\n",
    "\n",
    "One of the well-known Encoder-Decoder models is T5 which we will be using in this lecture. T5 is one of the most recent and novel transformers model. T5 in many ways is one of its kind transformers architecture that not only gives state of the art results in many NLP tasks, but also has a very radical approach to NLP tasks.\n",
    "Text-2-Text - According to the graphic taken from the T5 paper. All NLP tasks are converted to a text-to-text problem. Tasks such as translation, classification, summarization and question answering, all of them are treated as a text-to-text conversion problem, rather than seen as separate unique problem statements.\n",
    "Unified approach for NLP Deep Learning - Since the task is reflected purely in the text input and output, you can use the same model, objective, training procedure, and decoding process to ANY task. Above framework can be used for any task - show Q&A, summarization, etc.\n",
    "\n",
    "![](images/t5.png)\n",
    "\n",
    "We will be taking inputs from the T5 paper to prepare our dataset prior to fine tuning and training.\n",
    "\n"
   ]
  },
  {
   "cell_type": "markdown",
   "id": "6099ef1a-644a-45bd-97c8-1d75af44b8fc",
   "metadata": {
    "id": "6099ef1a-644a-45bd-97c8-1d75af44b8fc"
   },
   "source": [
    "### Preparing the Dataset for data processing: Class\n",
    "We will start with creation of Dataset class - This defines how the text is pre-processed before sending it to the neural network. This dataset will be used the the Dataloader method that will feed the data in batches to the neural network for suitable training and processing. The Dataloader and Dataset will be used inside the Trainer(). \n",
    "\n",
    "#### CustomDataset Dataset Class\n",
    "\n",
    "* This class is defined to accept the data as input and generate tokenized output that is used by the T5 model for training.\n",
    "\n",
    "* add_prefix() inside Dataset Class is to add a prefix \"summarize: \", this is important when you use T5\n",
    "\n",
    "* We are using the T5 tokenizer to tokenize the data in the text and ctext column of the dataframe.\n",
    "\n",
    "* The tokenizer uses the batch_encode_plus method to perform tokenization and generate the necessary outputs, namely: source_id, source_mask from the actual text and target_id and target_mask from the summary text.\n",
    "To read further into the tokenizer, refer to this document\n",
    "\n",
    "* The CustomDataset class is used to create 1 dataset for each call, hench is called twice in the Trainer() for training and for validation.\n",
    "\n",
    "* Training Dataset is used to fine tune the model: 80% of the original data\n",
    "\n",
    "* Validation Dataset is used to evaluate the performance of the model. The model has not seen this data during training."
   ]
  },
  {
   "cell_type": "code",
   "execution_count": 2,
   "id": "09e12853-3104-43d9-bafb-a9fcf170e271",
   "metadata": {
    "id": "09e12853-3104-43d9-bafb-a9fcf170e271"
   },
   "outputs": [],
   "source": [
    "from torch.utils.data import Dataset\n",
    "import torch\n",
    "import pandas as pd\n",
    "\n",
    "class Dataset(Dataset):\n",
    "    \"\"\"\n",
    "    Creating a custom dataset for reading the dataset and\n",
    "    loading it into the dataloader to pass it to the\n",
    "    neural network for finetuning the model\n",
    "\n",
    "    \"\"\"\n",
    "\n",
    "    def __init__(\n",
    "        self, data, tokenizer, model_name, source_len, target_len, source_text, target_text, #train = True,\n",
    "    ):\n",
    "        \"\"\"\n",
    "        Initializes a Dataset class\n",
    "\n",
    "        Args:yo\n",
    "            data: Input data\n",
    "            tokenizer (transformers.tokenizer): Transformers tokenizer\n",
    "            source_len (int): Max length of source text\n",
    "            target_len (int): Max length of target text\n",
    "            source_text (str): column name of source text\n",
    "            target_text (str): column name of target text\n",
    "        \"\"\"\n",
    "        self.tokenizer = tokenizer\n",
    "        self.data = data\n",
    "        self.source_len = source_len\n",
    "        self.summ_len = target_len\n",
    "        \n",
    "        # Xsum contains about 200000+ samples, so lets just take a small portion\n",
    "        self.source_text = self.data[source_text][:1000]\n",
    "        if \"t5\" in model_name:\n",
    "            self.source_text = self.add_prefix(self.source_text)\n",
    "        self.target_text = self.data[target_text][1:1000]\n",
    "\n",
    "    def __len__(self):\n",
    "        \"\"\"returns the length of data\"\"\"\n",
    "\n",
    "        return len(self.target_text)\n",
    "\n",
    "    def __getitem__(self, index):\n",
    "        \"\"\"return the input ids, attention masks and target ids\"\"\"\n",
    "\n",
    "        source_text = str(self.source_text[index])\n",
    "        target_text = str(self.target_text[index])\n",
    "\n",
    "        # cleaning data so as to ensure data is in string type\n",
    "        source_text = \" \".join(source_text.split())\n",
    "        target_text = \" \".join(target_text.split())\n",
    "\n",
    "        source = self.tokenizer.batch_encode_plus(\n",
    "            [source_text],\n",
    "            max_length=self.source_len,\n",
    "            pad_to_max_length=True,\n",
    "            truncation=True,\n",
    "            padding=\"max_length\",\n",
    "            return_tensors=\"pt\",\n",
    "        )\n",
    "        \n",
    "        target = self.tokenizer.batch_encode_plus(\n",
    "            [target_text],\n",
    "            max_length=self.summ_len,\n",
    "            pad_to_max_length=True,\n",
    "            truncation=True,\n",
    "            padding=\"max_length\",\n",
    "            return_tensors=\"pt\",\n",
    "        )\n",
    "\n",
    "        source_ids = source[\"input_ids\"].squeeze()\n",
    "        source_mask = source[\"attention_mask\"].squeeze()\n",
    "        target_ids = target[\"input_ids\"].squeeze()\n",
    "        target_mask = target[\"attention_mask\"].squeeze()\n",
    "\n",
    "        return {\n",
    "            \"source_ids\": source_ids.to(dtype=torch.long),\n",
    "            \"source_mask\": source_mask.to(dtype=torch.long),\n",
    "            \"target_ids\": target_ids.to(dtype=torch.long),\n",
    "            \"target_ids_y\": target_ids.to(dtype=torch.long),\n",
    "        }\n",
    "    \n",
    "    def add_prefix(self, examples):\n",
    "        prefix = \"summarize: \"\n",
    "        inputs = [prefix + doc for doc in examples]\n",
    "        return inputs"
   ]
  },
  {
   "cell_type": "markdown",
   "id": "3e3de05c-6739-4ffd-bc05-2c4450be2c1d",
   "metadata": {
    "id": "3e3de05c-6739-4ffd-bc05-2c4450be2c1d"
   },
   "source": [
    "#### Fine Tuning the Model: Function\n",
    "Here we define a training function that trains the model on the training dataset created above, specified number of times (EPOCH), An epoch defines how many times the complete data will be passed through the network.\n",
    "\n",
    "This function is called in the Trainer()\n",
    "\n",
    "Following events happen in this function to fine tune the neural network:\n",
    "\n",
    "The epoch, tokenizer, model, device details, testing_ dataloader optimizer and scheduler are passed to the train () when its called from the Trainer()\n",
    "The dataloader passes data to the model based on the batch size.\n",
    "language_model_labels are calculated from the target_ids also, source_id and attention_mask are extracted.\n",
    "The model outputs first element gives the loss for the forward pass.\n",
    "Loss value is used to optimize the weights of the neurons in the network.\n",
    "After every 10 step the loss value is logged in the wandb service. This log is then used to generate graphs for analysis.\n"
   ]
  },
  {
   "cell_type": "code",
   "execution_count": 3,
   "id": "f5ca4fee-35b8-41c4-b135-0335ccc65d55",
   "metadata": {
    "id": "f5ca4fee-35b8-41c4-b135-0335ccc65d55"
   },
   "outputs": [],
   "source": [
    "def train(epoch, tokenizer, model, device, loader, optimizer, scheduler):\n",
    "    \n",
    "    \"\"\"\n",
    "    Function to be called for training with the parameters passed from main function\n",
    "\n",
    "    \"\"\"\n",
    "\n",
    "    model.train()\n",
    "    losses = 0\n",
    "    for _, data in enumerate(loader, 0):\n",
    "        y = data[\"target_ids\"].to(device, dtype=torch.long)\n",
    "        y_ids = y[:, :-1].contiguous()\n",
    "        lm_labels = y[:, 1:].clone().detach()\n",
    "        lm_labels[y[:, 1:] == tokenizer.pad_token_id] = -100\n",
    "        ids = data[\"source_ids\"].to(device, dtype=torch.long)\n",
    "        mask = data[\"source_mask\"].to(device, dtype=torch.long)\n",
    "\n",
    "        outputs = model(\n",
    "            input_ids=ids,\n",
    "            attention_mask=mask,\n",
    "            decoder_input_ids=y_ids,\n",
    "            labels=lm_labels,\n",
    "        )\n",
    "        loss = outputs[0]\n",
    "        if _ % 10 == 0:\n",
    "            print(\"STEP: \", _,\"/\",len(loader))\n",
    "            training_logger.add_row(str(epoch), str(f'{_}/{len(loader)}'), str(loss))\n",
    "            console.print(training_logger)\n",
    "            \n",
    "        optimizer.zero_grad()\n",
    "        loss.backward()\n",
    "        optimizer.step()\n",
    "        losses += loss.detach()\n",
    "\n",
    "    scheduler.step()\n",
    "    losses = losses/len(loader)\n",
    "    return losses"
   ]
  },
  {
   "cell_type": "markdown",
   "id": "ee49059c-3317-46f3-8212-a2d946899422",
   "metadata": {
    "id": "ee49059c-3317-46f3-8212-a2d946899422"
   },
   "source": [
    "#### Validating the Model Performance: Function\n",
    "During the validation stage we pass the unseen data(Testing Dataset), trained model, tokenizer and device details to the function to perform the validation run. This step generates new summary for dataset that it has not seen during the training session.\n",
    "\n",
    "This function is called in the Trainer()\n",
    "\n",
    "This unseen data is the 20% of the data which was seperated during the Dataset creation stage. During the validation stage the weights of the model are not updated. We use the generate method for generating new text for the summary.\n",
    "\n",
    "It depends on the Beam-Search coding method developed for sequence generation for models with LM head.\n",
    "\n",
    "The generated text and originally summary are decoded from tokens to text and returned to the main()\n",
    "\n"
   ]
  },
  {
   "cell_type": "code",
   "execution_count": 4,
   "id": "c1d7aa72-b247-419d-9a45-670761f0796b",
   "metadata": {
    "id": "c1d7aa72-b247-419d-9a45-670761f0796b"
   },
   "outputs": [],
   "source": [
    "def validate(epoch, tokenizer, model, device, loader):\n",
    "\n",
    "    \"\"\"\n",
    "    Function to evaluate model for predictions\n",
    "\n",
    "    \"\"\"\n",
    "    model.eval()\n",
    "    predictions = []\n",
    "    actuals = []\n",
    "    with torch.no_grad():\n",
    "        for _, data in enumerate(loader, 0):\n",
    "            y = data['target_ids'].to(device, dtype = torch.long)\n",
    "            ids = data['source_ids'].to(device, dtype = torch.long)\n",
    "            mask = data['source_mask'].to(device, dtype = torch.long)\n",
    "\n",
    "            generated_ids = model.generate(\n",
    "                  input_ids = ids,\n",
    "                  attention_mask = mask, \n",
    "                  max_length=150, \n",
    "                  num_beams=2,\n",
    "                  repetition_penalty=2.5, \n",
    "                  length_penalty=1.0, \n",
    "                  early_stopping=True\n",
    "                  )\n",
    "            preds = [tokenizer.decode(g, skip_special_tokens=True, clean_up_tokenization_spaces=True) for g in generated_ids]\n",
    "            target = [tokenizer.decode(t, skip_special_tokens=True, clean_up_tokenization_spaces=True)for t in y]\n",
    "            if _ % 10==0:\n",
    "                console.print(f'Completed {_}')\n",
    "\n",
    "            predictions.extend(preds)\n",
    "            actuals.extend(target)\n",
    "\n",
    "    return predictions, actuals"
   ]
  },
  {
   "cell_type": "markdown",
   "id": "b379bea1-8143-4607-b11b-2bd545355443",
   "metadata": {
    "id": "b379bea1-8143-4607-b11b-2bd545355443"
   },
   "source": [
    "#### Trainer: Function\n",
    "In Trainer Function dataset, source text, target text, model parameters, output directory and device are passed into.\n",
    "\n",
    "Inside this function the tokenizer and the pretrained weights of the defined model are downloaded. Moreover our customdataset class is also called here, loader parameters are defined, loaders are created, optimizer is defined and most importanlty, training loop is called. \n",
    "\n",
    "After each time the train() is called, validate() is called after. One thing that is still missing is the performance metric.\n",
    "\n",
    "In the Seq2Seq Part I, we have learnt to implement `BLEU score`, and other evaluation methods were asked to be explored. One of the commonly used metric to evaluate a summarization task is called `ROUGE score`.\n",
    "\n",
    "#### ROUGE Score\n",
    "\n",
    "ROUGE stands for Recall-Oriented Understudy for Gisting Evaluation. It is essentially a set of metrics for evaluating automatic summarization of texts as well as machine translations.\n",
    "\n",
    "It works by comparing an automatically produced summary or translation against a set of reference summaries (typically human-produced). Let’s say that we have the following system and reference summaries:\n",
    "\n",
    "\n",
    "System Summary (what the machine produced): <br>\n",
    "`the cat was found under the bed`\n",
    "\n",
    "Reference Summary (gold standard — usually by humans):<br>\n",
    "`the cat was under the bed`\n",
    "\n",
    "If we consider just the individual words, the number of overlapping words between the system summary and reference summary is 6. This, however, does not tell you much as a metric. To get a good quantitative value, we can actually compute the precision and recall using the overlap.\n",
    "\n",
    "Simply put, recall (in the context of ROUGE) refers to how much of the reference summary the system summary is recovering or capturing. If we are just considering the individual words, it can be computed as:\n",
    "\n",
    "$$  \\big( \\frac{number\\:of\\:overlapping\\:words'}{{total\\:words\\:in\\:the\\:reference\\:summary}} \\big) $$ \n",
    "\n",
    "$$ \\text{Recall} = \\big( \\frac{6}{6} \\big)  = {1.0}$$  \n",
    "\n",
    "This means that all the words in the reference summary have been captured by the system summary, which indeed is the case for this example.\n",
    "\n",
    "This looks really good for a text summarization system. But it does not tell you the other side of the story. A machine generated summary (system summary) can be extremely long, capturing all words in the reference summary. But, many of the words in the system summary may be useless, making the summary unnecessarily verbose.\n",
    "\n",
    "This is where precision comes into play. In terms of precision, what you are essentially measuring is, how much of the system summary was in fact relevant or needed? Precision is measured as:\n",
    "\n",
    "$$  \\big( \\frac{number\\:of\\:overlapping\\:words'}{{total\\:words\\:in\\:the\\:system\\:summary}} \\big) $$ \n",
    "\n",
    "$$ \\text{Precision} = \\big( \\frac{6}{7} \\big)  = {0.86}$$  \n",
    "\n",
    "Now, let's say System Summary 2: \n",
    "\n",
    "`the tiny little cat was found under the big funny bed`\n",
    "\n",
    "The Precision now becomes:\n",
    "\n",
    "$$ \\text{Precision} = \\big( \\frac{6}{11} \\big)  = {0.55}$$  \n",
    "\n",
    "Now, this doesn’t look so good, does it? That is because we have quite a few unnecessary words in the summary. The precision aspect becomes really crucial when you are trying to generate summaries that are concise in nature. Therefore, it is always best to compute both the precision and recall and then report the F-Measure.\n",
    "\n",
    "If your summaries are in some way forced to be concise through some constraints, then you could consider using just the recall, since precision is of less concern in this scenario.\n",
    "\n",
    "ROUGE-N, ROUGE-S, and ROUGE-L can be thought of as the granularity of texts being compared between the system summaries and reference summaries.\n",
    "\n",
    "* ROUGE-N — measures unigram, bigram, trigram and higher order n-gram overlap\n",
    "* ROUGE-L — measures longest matching sequence of words using LCS. An advantage of using LCS is that it does not require consecutive matches but in-sequence matches that reflect sentence level word order. Since it automatically includes longest in-sequence common n-grams, you don’t need a predefined n-gram length.\n",
    "* ROUGE-S — Is any pair of words in a sentence in order, allowing for arbitrary gaps. This can also be called skip-gram concurrence. For example, skip-bigram measures the overlap of word pairs that can have a maximum of two gaps in between words. As an example, for the phrase “cat in the hat” the skip-bigrams would be “cat in, cat the, cat hat, in the, in hat, the hat”."
   ]
  },
  {
   "cell_type": "markdown",
   "id": "c654eb16-8c7c-4cda-b5c3-275ddc62d7e3",
   "metadata": {
    "id": "c654eb16-8c7c-4cda-b5c3-275ddc62d7e3"
   },
   "source": [
    "### Q1. Please implement Rouge Score as our evaluation metric as a function that is called the for-loop (3 pt)\n",
    "Hint: similar to BLEU"
   ]
  },
  {
   "cell_type": "code",
   "execution_count": 5,
   "id": "wL5vgMricsOz",
   "metadata": {
    "id": "wL5vgMricsOz"
   },
   "outputs": [],
   "source": [
    "#!pip install ignite"
   ]
  },
  {
   "cell_type": "code",
   "execution_count": 6,
   "id": "14U8JZOhhbWN",
   "metadata": {
    "id": "14U8JZOhhbWN"
   },
   "outputs": [],
   "source": [
    "#!pip3 install pytorch-ignite"
   ]
  },
  {
   "cell_type": "code",
   "execution_count": 7,
   "id": "42f5e378-e8d4-434c-a9ec-1017588d50d4",
   "metadata": {
    "id": "42f5e378-e8d4-434c-a9ec-1017588d50d4"
   },
   "outputs": [],
   "source": [
    "\n",
    "from ignite.metrics import Rouge\n",
    "\n",
    "def compute_metrics(predictions, actuals, tokenizer):\n",
    "    m = Rouge(variants = [\"L\",2], multiref = \"best\")\n",
    "    m.update((predictions, actuals))\n",
    "    rouge = m.compute()\n",
    "\n",
    "    # <your code here>\n",
    "    return rouge"
   ]
  },
  {
   "cell_type": "code",
   "execution_count": 8,
   "id": "e94b1834-d91b-4489-9680-d4959fd9f584",
   "metadata": {
    "id": "e94b1834-d91b-4489-9680-d4959fd9f584"
   },
   "outputs": [],
   "source": [
    "def Trainer(\n",
    "    dataset, source_text, target_text, model_params, output_dir=\"./outputs/\", device = \"cuda\"\n",
    "):\n",
    "\n",
    "    \"\"\"\n",
    "    trainer\n",
    "\n",
    "    \"\"\"\n",
    "    \n",
    "    losses = []\n",
    "    \n",
    "    # Set random seeds and deterministic pytorch for reproducibility\n",
    "    torch.manual_seed(model_params[\"SEED\"])  # pytorch random seed\n",
    "    np.random.seed(model_params[\"SEED\"])  # numpy random seed\n",
    "    torch.backends.cudnn.deterministic = True\n",
    "\n",
    "    # logging\n",
    "    console.log(f\"\"\"[Model]: Loading {model_params[\"MODEL\"]}...\\n\"\"\")\n",
    "\n",
    "    # Defining the model. We are using t5-base model and added a Language model layer on top for generation of Summary.\n",
    "    # tokenzier for encoding the text\n",
    "    # Further this model is sent to device (GPU/TPU) for using the hardware.\n",
    "    if \"bart\" in model_params[\"MODEL\"]:\n",
    "        tokenizer = BartTokenizer.from_pretrained(f'facebook/{model_params[\"MODEL\"]}')\n",
    "        model = BartForConditionalGeneration.from_pretrained(f'facebook/{model_params[\"MODEL\"]}')\n",
    "    elif \"t5\" in model_params[\"MODEL\"]:\n",
    "        tokenizer = T5Tokenizer.from_pretrained(model_params[\"MODEL\"])\n",
    "        model = T5ForConditionalGeneration.from_pretrained(model_params[\"MODEL\"])\n",
    "    elif \"pegasus\" in model_params[\"MODEL\"]:\n",
    "        tokenizer = PegasusTokenizer.from_pretrained(f'google/{model_params[\"MODEL\"]}')\n",
    "        model = PegasusForConditionalGeneration.from_pretrained(f'google/{model_params[\"MODEL\"]}')\n",
    "    else:\n",
    "        raise ValueError(\"Undefined model\")\n",
    "        \n",
    "    model = model.to(device)\n",
    "\n",
    "    # logging\n",
    "    console.log(f\"[Data]: Reading data...\\n\")\n",
    "\n",
    "    # Creation of Dataset and Dataloader\n",
    "    train_dataset = dataset[\"train\"]\n",
    "    val_dataset = dataset[\"validation\"]\n",
    "    \n",
    "    console.print(f\"FULL Dataset: {dataset.shape}\")\n",
    "    console.print(f\"TRAIN Dataset: {train_dataset.shape}\")\n",
    "    console.print(f\"TEST Dataset: {val_dataset.shape}\\n\")\n",
    "    \n",
    "    del dataset\n",
    "    \n",
    "    # Creating the Training and Validation dataset for further creation of Dataloader\n",
    "    training_set = Dataset(\n",
    "        train_dataset,\n",
    "        tokenizer,\n",
    "        model_params[\"MODEL\"],\n",
    "        model_params[\"MAX_SOURCE_TEXT_LENGTH\"],\n",
    "        model_params[\"MAX_TARGET_TEXT_LENGTH\"],\n",
    "        source_text,\n",
    "        target_text,\n",
    "#         train = True,\n",
    "    )\n",
    "    val_set = Dataset(\n",
    "        val_dataset,\n",
    "        tokenizer,\n",
    "        model_params[\"MODEL\"],\n",
    "        model_params[\"MAX_SOURCE_TEXT_LENGTH\"],\n",
    "        model_params[\"MAX_TARGET_TEXT_LENGTH\"],\n",
    "        source_text,\n",
    "        target_text,\n",
    "#         train = False,\n",
    "    )\n",
    "    \n",
    "    del train_dataset, val_dataset\n",
    "    \n",
    "    # Defining the parameters for creation of dataloaders\n",
    "    train_params = {\n",
    "        \"batch_size\": model_params[\"TRAIN_BATCH_SIZE\"],\n",
    "        \"shuffle\": True,\n",
    "        \"num_workers\": 0,\n",
    "    }\n",
    "\n",
    "    val_params = {\n",
    "        \"batch_size\": model_params[\"VALID_BATCH_SIZE\"],\n",
    "        \"shuffle\": False,\n",
    "        \"num_workers\": 0,\n",
    "    }\n",
    "\n",
    "    # Creation of Dataloaders for testing and validation. This will be used down for training and validation stage for the model.\n",
    "    training_loader = DataLoader(training_set, **train_params)\n",
    "    val_loader = DataLoader(val_set, **val_params)\n",
    "    \n",
    "    print(\"TRAIN LOADER: \", len(training_loader))\n",
    "    print(\"VAL LOADER: \", len(val_loader))\n",
    "    \n",
    "    del train_params, val_params\n",
    "    \n",
    "    # Defining the optimizer that will be used to tune the weights of the network in the training session.\n",
    "    optimizer = torch.optim.Adam(\n",
    "        params=model.parameters(), lr=model_params[\"LEARNING_RATE\"]\n",
    "    )\n",
    "    \n",
    "    if model_params[\"SCHEDULER\"] == \"linear\":\n",
    "        scheduler = torch.optim.lr_scheduler.LinearLR(optimizer)\n",
    "    \n",
    "    # Training loop\n",
    "    console.log(f\"[Initiating Fine Tuning]...\\n\")\n",
    "\n",
    "    for epoch in range(model_params[\"TRAIN_EPOCHS\"]):\n",
    "\n",
    "        loss = train(epoch, tokenizer, model, device, training_loader, optimizer, scheduler)\n",
    "        losses.append(loss.cpu().numpy())\n",
    "\n",
    "        # evaluating test dataset        \n",
    "        predictions, actuals = validate(epoch, tokenizer, model, device, val_loader)\n",
    "        \n",
    "        final_df = pd.DataFrame({\"Generated Text\": predictions, \"Actual Text\": actuals})\n",
    "        final_df.to_csv(os.path.join(output_dir, f\"\"\"predictions_{model_params['MODEL']}_epoch{epoch}.csv\"\"\"))\n",
    "        print(\"SAVE TO CSV FINISHED\")\n",
    "        \n",
    "        \n",
    "        rouge = compute_metrics(predictions, actuals, tokenizer)\n",
    "        \n",
    "        rouge_df = pd.DataFrame.from_dict(rouge, orient='index')\n",
    "        rouge_df.to_csv(os.path.join(output_dir, f\"\"\"rouge_{model_params['MODEL']}_epoch{epoch}.csv\"\"\"))\n",
    "        print(\"SAVE ROUGE TO CSV FINISHED\")\n",
    "    \n",
    "    console.log(f\"[Saving Model]...\\n\")\n",
    "    # Saving the model after training\n",
    "    path = os.path.join(output_dir, \"model_files\")\n",
    "    model.save_pretrained(path)\n",
    "    tokenizer.save_pretrained(path)\n",
    "    \n",
    "    # converting list to array\n",
    "    arr = np.array(losses)\n",
    "    np.save(os.path.join(output_dir, f\"\"\"losses_{model_params['MODEL']}_epoch{model_params['TRAIN_EPOCHS']}\"\"\"), arr)\n",
    "\n",
    "    console.save_text(os.path.join(output_dir, \"logs.txt\"))\n",
    "\n",
    "    console.log(f\"[Validation Completed.]\\n\")\n",
    "    console.print(\n",
    "        f\"\"\"[Model] Model saved @ {os.path.join(output_dir, \"model_files\")}\\n\"\"\"\n",
    "    )\n",
    "    console.print(\n",
    "        f\"\"\"[Validation] Generation on Validation data saved @ {os.path.join(output_dir,'predictions.csv')}\\n\"\"\"\n",
    "    )\n",
    "    console.print(f\"\"\"[Logs] Logs saved @ {os.path.join(output_dir,'logs.txt')}\\n\"\"\")"
   ]
  },
  {
   "cell_type": "markdown",
   "id": "0d088318-d8d5-421e-8d9c-58a7b1381e58",
   "metadata": {
    "id": "0d088318-d8d5-421e-8d9c-58a7b1381e58"
   },
   "source": [
    "### Load data"
   ]
  },
  {
   "cell_type": "code",
   "execution_count": 9,
   "id": "8a6c8802-3454-4005-ac49-ba4a9b00eaf9",
   "metadata": {
    "colab": {
     "base_uri": "https://localhost:8080/"
    },
    "id": "8a6c8802-3454-4005-ac49-ba4a9b00eaf9",
    "outputId": "ac96be21-7ef0-44d2-91da-f303c1e0a8eb"
   },
   "outputs": [
    {
     "name": "stdout",
     "output_type": "stream",
     "text": [
      "configured device:  cpu\n"
     ]
    }
   ],
   "source": [
    "from torch import cuda\n",
    "device = 'cuda' if cuda.is_available() else 'cpu'\n",
    "print(\"configured device: \", device)"
   ]
  },
  {
   "cell_type": "code",
   "execution_count": 10,
   "id": "65393688-b610-4eca-b678-379964242528",
   "metadata": {
    "colab": {
     "base_uri": "https://localhost:8080/",
     "height": 281,
     "referenced_widgets": [
      "5972fd3441c94fa8bbfdcdd05f6c7c51",
      "f60297177b0c47cfa37b70a6128ed360",
      "723981c437164b0b8c0177822550b55a",
      "bed4b4f28d5a45bbbe199a92c2ff1aab",
      "f8c4dd03ddba4f34b0f82d3ff8e70d14",
      "5d813c19853942b6b2b8225230ccb995",
      "82fee0991e3048459b4715d079608893",
      "b9103b534ac9480f8041cdb8cb2300e6",
      "8b2698b9a4df49948534e61bd693f4d0",
      "0d00b0ab3d404bdda0bfda30c617a235",
      "4f0e952690454e8f97d8917fa9f8680d",
      "999c95beadd445328468e9884a22ce38",
      "b9879668b76e4afbaedb879ad8677e86",
      "e9d1d1b1a58a47558563b2b3a993bff8",
      "2e2ea2bc3acc4ce78ec9bc731d2ef133",
      "fd4d0f1fa8d64edf96bbe59689d367c2",
      "63b17d40996744ed8cf8a78deba8617b",
      "ea9cc8f1efba43d39c378ed17a680b3a",
      "a0345bd952534261aa8fcff01310055c",
      "032b79be70a849cf8402d9177d11da9c",
      "62942c332cd0498f8266baa4642d93c9",
      "7d9e91ae75ca4c09bdab9161a863e830",
      "f0424e9bc3954d8f91f340fa00b55d81",
      "06a30516e73b42fab2040b99c19b0985",
      "c1ba8c89ce504b0fb6322ebcf637c3c7",
      "b079709d0f9a457cb1b7025090860e19",
      "621f0246f3134d9fa4e7e6e25dc0f9b7",
      "2a1e9e3b7539469b851ea1f8d501b81b",
      "9a46fe1c318b42d6938f9c192f679a9c",
      "e91ecd1b97e74d99b3d75e970a00b89a",
      "6e0676a041224814a849abe8ce0b85ba",
      "b666815240b6473b8b78d87baf6d6f75",
      "21053cb36e2243428d47d8f6d6b21ff2",
      "127e74458ec8468280730300a9b586d4",
      "26d727dca9a04020bee6ac8d1fac0db1",
      "8b4901158a3c4b3e96a5e400334e032b",
      "2bbb2096d2c2440a9ceebf763f1f9629",
      "6384bb485f3744749a0567e2accb838e",
      "7a44d60a22794453be6a7191eaf6691a",
      "ddf424a08cc44ab2abc9ba824caa9705",
      "16ce1488733e4997bc9ad877053fb76a",
      "8df3ee3368dd46bdb8ec4e7d752a8712",
      "19a912c23981460e9377d467520606f3",
      "b2e68839e3f44a8aadecee1289353a61",
      "81a7dfe6981e4a8d914aa970f3ce341d",
      "6f72e8c3329d4c98bb7d2acdcfd7e9ae",
      "b26b95da95d84574a91f6b62964a2c34",
      "2f6543c408e240fda41b92ea6190b329",
      "e02f23ffefbf49db8393f56f9de1554c",
      "da71d26abde04604928f9d263f58e34f",
      "1040f397f49546aeb9ed7a203fe151a5",
      "cc30da002321497d8298c2c1b20a7234",
      "4884749777bd43ad90fa1c4dce884768",
      "6003c3fb628844acb6cf58d60048decc",
      "fa030fc33aec4a25b617baf2c1ea3601",
      "4e818611992b4f6fb37300f110bdeb5e",
      "dc235faa8a2c4893b3d8f1b195c035a4",
      "e647c94e38884e9ca6029a7086ef750e",
      "56a662d9f95d476e9e6ba9f9a2d180b0",
      "2a0946d1f38146168385d078fc65eada",
      "1e465e92106747e4b66ddfd5cd4d1303",
      "305e57d0b0ee42caae5592dc1c11df1f",
      "79609303a2b7417d8471219c42bc485d",
      "7faf47521f0149edbe1c7425070f892d",
      "804a1ea9f4a6443e819914508bdf83a7",
      "8d7172c309ed4e0ba20e2fade7001575",
      "f393c918b9ac4ab6b80deda02a89007b",
      "beb3e139cda84527b38931115d2dcbb7",
      "c66542385aca4f8bb06273f120aa242a",
      "4085b42683d94d57b72011b135090135",
      "4f85e5b0893b462b871830054ed4d982",
      "063972864fe84abfa2013fadd6cec4cf",
      "f16c7d4b9af64b0398c130853b91a33f",
      "bf7356aee3d1467da5b008bfa59bc853",
      "7c389421f76943c3b0c077a9d65b5c69",
      "02f0c56e38a94e61bfdda0d1645ace31",
      "1c2f7d63c86b4173881ceddba98c1f35",
      "0922ca94eb8c4f6f8d7c1f5a92a61695",
      "4981d146bc3b4609859d3dc2cb2b0fbc",
      "32661caeac90472a87b9e38b98f0b926",
      "6f92a22e03e041bfbfcfe00a77626e20",
      "391d511e3521404c8d6f2ae36295f3aa",
      "57f56368328648048ee499f0a87eae39",
      "8aeb2eecfe1f4b35889d1aa45538ac77",
      "59f91e2169b54e8aabf78e23adfa14de",
      "1599590e4eaa4ff7a8a942cd0da1115d",
      "6d3ca216686f4e688156fb0d69072008",
      "8b0973584909496a8f537667625ffe18",
      "a594dd0300cb4831b24f104191ecd140",
      "b2147085644647d892f37501678835d5",
      "edb907c659da4513af14b0ee3c463074",
      "e96bd3e7dac14b58af51859e573972c4",
      "5aa9e6c9210f485a835414bdcd58ef03",
      "d223c672d245477b97a59bf92e77584f",
      "f8a04973f2604bdc94d8afb6c98289f3",
      "bcb0ee620e824fb2a65a699510cc4517",
      "0138dc4a190b478bbe4a9bc69643c2c6",
      "47bd15a4aada49b9a943744550c72be2",
      "a61183be01e649b2aa0ea4dc77d039a8"
     ]
    },
    "id": "65393688-b610-4eca-b678-379964242528",
    "outputId": "c1fc4782-3937-4a21-d0e4-af2f63c2a1b8"
   },
   "outputs": [
    {
     "data": {
      "application/vnd.jupyter.widget-view+json": {
       "model_id": "5972fd3441c94fa8bbfdcdd05f6c7c51",
       "version_major": 2,
       "version_minor": 0
      },
      "text/plain": [
       "Downloading:   0%|          | 0.00/2.05k [00:00<?, ?B/s]"
      ]
     },
     "metadata": {},
     "output_type": "display_data"
    },
    {
     "data": {
      "application/vnd.jupyter.widget-view+json": {
       "model_id": "999c95beadd445328468e9884a22ce38",
       "version_major": 2,
       "version_minor": 0
      },
      "text/plain": [
       "Downloading:   0%|          | 0.00/954 [00:00<?, ?B/s]"
      ]
     },
     "metadata": {},
     "output_type": "display_data"
    },
    {
     "name": "stderr",
     "output_type": "stream",
     "text": [
      "Using custom data configuration default\n"
     ]
    },
    {
     "name": "stdout",
     "output_type": "stream",
     "text": [
      "Downloading and preparing dataset xsum/default (download: 245.38 MiB, generated: 507.60 MiB, post-processed: Unknown size, total: 752.98 MiB) to /root/.cache/huggingface/datasets/xsum/default/1.2.0/32c23220eadddb1149b16ed2e9430a05293768cfffbdfd151058697d4c11f934...\n"
     ]
    },
    {
     "data": {
      "application/vnd.jupyter.widget-view+json": {
       "model_id": "f0424e9bc3954d8f91f340fa00b55d81",
       "version_major": 2,
       "version_minor": 0
      },
      "text/plain": [
       "  0%|          | 0/2 [00:00<?, ?it/s]"
      ]
     },
     "metadata": {},
     "output_type": "display_data"
    },
    {
     "data": {
      "application/vnd.jupyter.widget-view+json": {
       "model_id": "127e74458ec8468280730300a9b586d4",
       "version_major": 2,
       "version_minor": 0
      },
      "text/plain": [
       "Downloading:   0%|          | 0.00/255M [00:00<?, ?B/s]"
      ]
     },
     "metadata": {},
     "output_type": "display_data"
    },
    {
     "data": {
      "application/vnd.jupyter.widget-view+json": {
       "model_id": "81a7dfe6981e4a8d914aa970f3ce341d",
       "version_major": 2,
       "version_minor": 0
      },
      "text/plain": [
       "Downloading:   0%|          | 0.00/1.00M [00:00<?, ?B/s]"
      ]
     },
     "metadata": {},
     "output_type": "display_data"
    },
    {
     "data": {
      "application/vnd.jupyter.widget-view+json": {
       "model_id": "4e818611992b4f6fb37300f110bdeb5e",
       "version_major": 2,
       "version_minor": 0
      },
      "text/plain": [
       "0 examples [00:00, ? examples/s]"
      ]
     },
     "metadata": {},
     "output_type": "display_data"
    },
    {
     "data": {
      "application/vnd.jupyter.widget-view+json": {
       "model_id": "f393c918b9ac4ab6b80deda02a89007b",
       "version_major": 2,
       "version_minor": 0
      },
      "text/plain": [
       "0 examples [00:00, ? examples/s]"
      ]
     },
     "metadata": {},
     "output_type": "display_data"
    },
    {
     "data": {
      "application/vnd.jupyter.widget-view+json": {
       "model_id": "0922ca94eb8c4f6f8d7c1f5a92a61695",
       "version_major": 2,
       "version_minor": 0
      },
      "text/plain": [
       "0 examples [00:00, ? examples/s]"
      ]
     },
     "metadata": {},
     "output_type": "display_data"
    },
    {
     "name": "stdout",
     "output_type": "stream",
     "text": [
      "Dataset xsum downloaded and prepared to /root/.cache/huggingface/datasets/xsum/default/1.2.0/32c23220eadddb1149b16ed2e9430a05293768cfffbdfd151058697d4c11f934. Subsequent calls will reuse this data.\n"
     ]
    },
    {
     "data": {
      "application/vnd.jupyter.widget-view+json": {
       "model_id": "a594dd0300cb4831b24f104191ecd140",
       "version_major": 2,
       "version_minor": 0
      },
      "text/plain": [
       "  0%|          | 0/3 [00:00<?, ?it/s]"
      ]
     },
     "metadata": {},
     "output_type": "display_data"
    }
   ],
   "source": [
    "data = 'xsum'\n",
    "\n",
    "if data == 'cnn_dailymail':\n",
    "    dataset = load_dataset(data, '3.0.0')\n",
    "    source_text = \"article\"\n",
    "    target_text = \"highlights\"\n",
    "elif data == \"xsum\":\n",
    "    dataset = load_dataset(data)\n",
    "    source_text = \"document\"\n",
    "    target_text = \"summary\"\n",
    "else:\n",
    "    raise ValueError(\"Undefined dataset\")"
   ]
  },
  {
   "cell_type": "markdown",
   "id": "b1ba1ee9-27fe-487d-b6a9-bb6ee22ece5b",
   "metadata": {
    "id": "b1ba1ee9-27fe-487d-b6a9-bb6ee22ece5b"
   },
   "source": [
    "### Let's define model parameters specific to T5"
   ]
  },
  {
   "cell_type": "code",
   "execution_count": 11,
   "id": "7379a76f-66ab-4635-bfd4-cc0c3268f0f2",
   "metadata": {
    "id": "7379a76f-66ab-4635-bfd4-cc0c3268f0f2"
   },
   "outputs": [],
   "source": [
    "# let's define model parameters specific to BART\n",
    "model_params = {\n",
    "    \"MODEL\": \"t5-small\",  # model_type: t5-base/t5-large\n",
    "    \"TRAIN_BATCH_SIZE\": 16,  # training batch size\n",
    "    \"VALID_BATCH_SIZE\": 16,  # validation batch size\n",
    "    \"TRAIN_EPOCHS\": 3,  # number of training epochs\n",
    "    \"VAL_EPOCHS\": 1,  # number of validation epochs\n",
    "    \"LEARNING_RATE\": 2e-05,  # learning rate default betas=(0.9, 0.999), eps=1e-08\n",
    "    \"SCHEDULER\": \"linear\",\n",
    "    \"MAX_SOURCE_TEXT_LENGTH\": 512,  # max length of source text\n",
    "    \"MAX_TARGET_TEXT_LENGTH\": 36,  # max length of target text\n",
    "    \"SEED\": 42,  # set seed for reproducibility\n",
    "}"
   ]
  },
  {
   "cell_type": "code",
   "execution_count": 13,
   "id": "c40942e4-523c-4890-9746-488830fedc35",
   "metadata": {
    "colab": {
     "base_uri": "https://localhost:8080/",
     "height": 1000
    },
    "id": "c40942e4-523c-4890-9746-488830fedc35",
    "outputId": "9ebab5f0-b832-4c4f-e2ef-8517f36ecfe2"
   },
   "outputs": [
    {
     "data": {
      "text/html": [
       "<pre style=\"white-space:pre;overflow-x:auto;line-height:normal;font-family:Menlo,'DejaVu Sans Mono',consolas,'Courier New',monospace\"><span style=\"color: #7fbfbf; text-decoration-color: #7fbfbf\">[10:12:56] </span><span style=\"font-weight: bold\">[</span>Model<span style=\"font-weight: bold\">]</span>: Loading t5-small<span style=\"color: #808000; text-decoration-color: #808000\">...</span>                     <span style=\"color: #7f7f7f; text-decoration-color: #7f7f7f\">&lt;ipython-input-8-8830e8dcc794&gt;:18</span>\n",
       "<span style=\"color: #7fbfbf; text-decoration-color: #7fbfbf\">           </span>                                                 <span style=\"color: #7f7f7f; text-decoration-color: #7f7f7f\">                                 </span>\n",
       "</pre>\n"
      ],
      "text/plain": [
       "\u001b[2;36m[10:12:56]\u001b[0m\u001b[2;36m \u001b[0m\u001b[1m[\u001b[0mModel\u001b[1m]\u001b[0m: Loading t5-small\u001b[33m...\u001b[0m                     \u001b[2m<ipython-input-8-8830e8dcc794>\u001b[0m\u001b[2m:\u001b[0m\u001b[2m18\u001b[0m\n",
       "\u001b[2;36m           \u001b[0m                                                 \u001b[2m                                 \u001b[0m\n"
      ]
     },
     "metadata": {},
     "output_type": "display_data"
    },
    {
     "data": {
      "text/html": [
       "<pre style=\"white-space:pre;overflow-x:auto;line-height:normal;font-family:Menlo,'DejaVu Sans Mono',consolas,'Courier New',monospace\"><span style=\"color: #7fbfbf; text-decoration-color: #7fbfbf\">[10:13:02] </span><span style=\"font-weight: bold\">[</span>Data<span style=\"font-weight: bold\">]</span>: Reading data<span style=\"color: #808000; text-decoration-color: #808000\">...</span>                          <span style=\"color: #7f7f7f; text-decoration-color: #7f7f7f\">&lt;ipython-input-8-8830e8dcc794&gt;:38</span>\n",
       "<span style=\"color: #7fbfbf; text-decoration-color: #7fbfbf\">           </span>                                                 <span style=\"color: #7f7f7f; text-decoration-color: #7f7f7f\">                                 </span>\n",
       "</pre>\n"
      ],
      "text/plain": [
       "\u001b[2;36m[10:13:02]\u001b[0m\u001b[2;36m \u001b[0m\u001b[1m[\u001b[0mData\u001b[1m]\u001b[0m: Reading data\u001b[33m...\u001b[0m                          \u001b[2m<ipython-input-8-8830e8dcc794>\u001b[0m\u001b[2m:\u001b[0m\u001b[2m38\u001b[0m\n",
       "\u001b[2;36m           \u001b[0m                                                 \u001b[2m                                 \u001b[0m\n"
      ]
     },
     "metadata": {},
     "output_type": "display_data"
    },
    {
     "data": {
      "text/html": [
       "<pre style=\"white-space:pre;overflow-x:auto;line-height:normal;font-family:Menlo,'DejaVu Sans Mono',consolas,'Courier New',monospace\">FULL Dataset: <span style=\"font-weight: bold\">{</span><span style=\"color: #008000; text-decoration-color: #008000\">'train'</span>: <span style=\"font-weight: bold\">(</span><span style=\"color: #008080; text-decoration-color: #008080; font-weight: bold\">204045</span>, <span style=\"color: #008080; text-decoration-color: #008080; font-weight: bold\">3</span><span style=\"font-weight: bold\">)</span>, <span style=\"color: #008000; text-decoration-color: #008000\">'validation'</span>: <span style=\"font-weight: bold\">(</span><span style=\"color: #008080; text-decoration-color: #008080; font-weight: bold\">11332</span>, <span style=\"color: #008080; text-decoration-color: #008080; font-weight: bold\">3</span><span style=\"font-weight: bold\">)</span>, <span style=\"color: #008000; text-decoration-color: #008000\">'test'</span>: <span style=\"font-weight: bold\">(</span><span style=\"color: #008080; text-decoration-color: #008080; font-weight: bold\">11334</span>, <span style=\"color: #008080; text-decoration-color: #008080; font-weight: bold\">3</span><span style=\"font-weight: bold\">)}</span>\n",
       "</pre>\n"
      ],
      "text/plain": [
       "FULL Dataset: \u001b[1m{\u001b[0m\u001b[32m'train'\u001b[0m: \u001b[1m(\u001b[0m\u001b[1;36m204045\u001b[0m, \u001b[1;36m3\u001b[0m\u001b[1m)\u001b[0m, \u001b[32m'validation'\u001b[0m: \u001b[1m(\u001b[0m\u001b[1;36m11332\u001b[0m, \u001b[1;36m3\u001b[0m\u001b[1m)\u001b[0m, \u001b[32m'test'\u001b[0m: \u001b[1m(\u001b[0m\u001b[1;36m11334\u001b[0m, \u001b[1;36m3\u001b[0m\u001b[1m)\u001b[0m\u001b[1m}\u001b[0m\n"
      ]
     },
     "metadata": {},
     "output_type": "display_data"
    },
    {
     "data": {
      "text/html": [
       "<pre style=\"white-space:pre;overflow-x:auto;line-height:normal;font-family:Menlo,'DejaVu Sans Mono',consolas,'Courier New',monospace\">TRAIN Dataset: <span style=\"font-weight: bold\">(</span><span style=\"color: #008080; text-decoration-color: #008080; font-weight: bold\">204045</span>, <span style=\"color: #008080; text-decoration-color: #008080; font-weight: bold\">3</span><span style=\"font-weight: bold\">)</span>\n",
       "</pre>\n"
      ],
      "text/plain": [
       "TRAIN Dataset: \u001b[1m(\u001b[0m\u001b[1;36m204045\u001b[0m, \u001b[1;36m3\u001b[0m\u001b[1m)\u001b[0m\n"
      ]
     },
     "metadata": {},
     "output_type": "display_data"
    },
    {
     "data": {
      "text/html": [
       "<pre style=\"white-space:pre;overflow-x:auto;line-height:normal;font-family:Menlo,'DejaVu Sans Mono',consolas,'Courier New',monospace\">TEST Dataset: <span style=\"font-weight: bold\">(</span><span style=\"color: #008080; text-decoration-color: #008080; font-weight: bold\">11332</span>, <span style=\"color: #008080; text-decoration-color: #008080; font-weight: bold\">3</span><span style=\"font-weight: bold\">)</span>\n",
       "\n",
       "</pre>\n"
      ],
      "text/plain": [
       "TEST Dataset: \u001b[1m(\u001b[0m\u001b[1;36m11332\u001b[0m, \u001b[1;36m3\u001b[0m\u001b[1m)\u001b[0m\n",
       "\n"
      ]
     },
     "metadata": {},
     "output_type": "display_data"
    },
    {
     "metadata": {
      "tags": null
     },
     "name": "stdout",
     "output_type": "stream",
     "text": [
      "TRAIN LOADER:  63\n",
      "VAL LOADER:  63\n"
     ]
    },
    {
     "data": {
      "text/html": [
       "<pre style=\"white-space:pre;overflow-x:auto;line-height:normal;font-family:Menlo,'DejaVu Sans Mono',consolas,'Courier New',monospace\"><span style=\"color: #7fbfbf; text-decoration-color: #7fbfbf\">[10:13:06] </span><span style=\"font-weight: bold\">[</span>Initiating Fine Tuning<span style=\"font-weight: bold\">]</span><span style=\"color: #808000; text-decoration-color: #808000\">...</span>                     <span style=\"color: #7f7f7f; text-decoration-color: #7f7f7f\">&lt;ipython-input-8-8830e8dcc794&gt;:105</span>\n",
       "<span style=\"color: #7fbfbf; text-decoration-color: #7fbfbf\">           </span>                                                <span style=\"color: #7f7f7f; text-decoration-color: #7f7f7f\">                                  </span>\n",
       "</pre>\n"
      ],
      "text/plain": [
       "\u001b[2;36m[10:13:06]\u001b[0m\u001b[2;36m \u001b[0m\u001b[1m[\u001b[0mInitiating Fine Tuning\u001b[1m]\u001b[0m\u001b[33m...\u001b[0m                     \u001b[2m<ipython-input-8-8830e8dcc794>\u001b[0m\u001b[2m:\u001b[0m\u001b[2m105\u001b[0m\n",
       "\u001b[2;36m           \u001b[0m                                                \u001b[2m                                  \u001b[0m\n"
      ]
     },
     "metadata": {},
     "output_type": "display_data"
    },
    {
     "metadata": {
      "tags": null
     },
     "name": "stdout",
     "output_type": "stream",
     "text": [
      "STEP:  0 / 63\n"
     ]
    },
    {
     "data": {
      "text/html": [
       "<pre style=\"white-space:pre;overflow-x:auto;line-height:normal;font-family:Menlo,'DejaVu Sans Mono',consolas,'Courier New',monospace\"><span style=\"font-style: italic\">                      Training Status                       </span>\n",
       "+----------------------------------------------------------+\n",
       "|<span style=\"font-weight: bold\">Epoch </span>|<span style=\"font-weight: bold\"> Steps </span>|<span style=\"font-weight: bold\">                    Loss                   </span>|\n",
       "|------+-------+-------------------------------------------|\n",
       "|  0   | 0/63  | tensor(6.7876, grad_fn=&lt;NllLossBackward0&gt;)|\n",
       "+----------------------------------------------------------+\n",
       "</pre>\n"
      ],
      "text/plain": [
       "\u001b[3m                      Training Status                       \u001b[0m\n",
       "+----------------------------------------------------------+\n",
       "|\u001b[1mEpoch\u001b[0m\u001b[1m \u001b[0m|\u001b[1m \u001b[0m\u001b[1mSteps\u001b[0m\u001b[1m \u001b[0m|\u001b[1m \u001b[0m\u001b[1m                   Loss                   \u001b[0m|\n",
       "|------+-------+-------------------------------------------|\n",
       "|  0   | 0/63  | tensor(6.7876, grad_fn=<NllLossBackward0>)|\n",
       "+----------------------------------------------------------+\n"
      ]
     },
     "metadata": {},
     "output_type": "display_data"
    },
    {
     "metadata": {
      "tags": null
     },
     "name": "stdout",
     "output_type": "stream",
     "text": [
      "STEP:  10 / 63\n"
     ]
    },
    {
     "data": {
      "text/html": [
       "<pre style=\"white-space:pre;overflow-x:auto;line-height:normal;font-family:Menlo,'DejaVu Sans Mono',consolas,'Courier New',monospace\"><span style=\"font-style: italic\">                      Training Status                       </span>\n",
       "+----------------------------------------------------------+\n",
       "|<span style=\"font-weight: bold\">Epoch </span>|<span style=\"font-weight: bold\"> Steps </span>|<span style=\"font-weight: bold\">                    Loss                   </span>|\n",
       "|------+-------+-------------------------------------------|\n",
       "|  0   | 0/63  | tensor(6.7876, grad_fn=&lt;NllLossBackward0&gt;)|\n",
       "|  0   | 10/63 | tensor(6.6259, grad_fn=&lt;NllLossBackward0&gt;)|\n",
       "+----------------------------------------------------------+\n",
       "</pre>\n"
      ],
      "text/plain": [
       "\u001b[3m                      Training Status                       \u001b[0m\n",
       "+----------------------------------------------------------+\n",
       "|\u001b[1mEpoch\u001b[0m\u001b[1m \u001b[0m|\u001b[1m \u001b[0m\u001b[1mSteps\u001b[0m\u001b[1m \u001b[0m|\u001b[1m \u001b[0m\u001b[1m                   Loss                   \u001b[0m|\n",
       "|------+-------+-------------------------------------------|\n",
       "|  0   | 0/63  | tensor(6.7876, grad_fn=<NllLossBackward0>)|\n",
       "|  0   | 10/63 | tensor(6.6259, grad_fn=<NllLossBackward0>)|\n",
       "+----------------------------------------------------------+\n"
      ]
     },
     "metadata": {},
     "output_type": "display_data"
    },
    {
     "metadata": {
      "tags": null
     },
     "name": "stdout",
     "output_type": "stream",
     "text": [
      "STEP:  20 / 63\n"
     ]
    },
    {
     "data": {
      "text/html": [
       "<pre style=\"white-space:pre;overflow-x:auto;line-height:normal;font-family:Menlo,'DejaVu Sans Mono',consolas,'Courier New',monospace\"><span style=\"font-style: italic\">                      Training Status                       </span>\n",
       "+----------------------------------------------------------+\n",
       "|<span style=\"font-weight: bold\">Epoch </span>|<span style=\"font-weight: bold\"> Steps </span>|<span style=\"font-weight: bold\">                    Loss                   </span>|\n",
       "|------+-------+-------------------------------------------|\n",
       "|  0   | 0/63  | tensor(6.7876, grad_fn=&lt;NllLossBackward0&gt;)|\n",
       "|  0   | 10/63 | tensor(6.6259, grad_fn=&lt;NllLossBackward0&gt;)|\n",
       "|  0   | 20/63 | tensor(6.0840, grad_fn=&lt;NllLossBackward0&gt;)|\n",
       "+----------------------------------------------------------+\n",
       "</pre>\n"
      ],
      "text/plain": [
       "\u001b[3m                      Training Status                       \u001b[0m\n",
       "+----------------------------------------------------------+\n",
       "|\u001b[1mEpoch\u001b[0m\u001b[1m \u001b[0m|\u001b[1m \u001b[0m\u001b[1mSteps\u001b[0m\u001b[1m \u001b[0m|\u001b[1m \u001b[0m\u001b[1m                   Loss                   \u001b[0m|\n",
       "|------+-------+-------------------------------------------|\n",
       "|  0   | 0/63  | tensor(6.7876, grad_fn=<NllLossBackward0>)|\n",
       "|  0   | 10/63 | tensor(6.6259, grad_fn=<NllLossBackward0>)|\n",
       "|  0   | 20/63 | tensor(6.0840, grad_fn=<NllLossBackward0>)|\n",
       "+----------------------------------------------------------+\n"
      ]
     },
     "metadata": {},
     "output_type": "display_data"
    },
    {
     "metadata": {
      "tags": null
     },
     "name": "stdout",
     "output_type": "stream",
     "text": [
      "STEP:  30 / 63\n"
     ]
    },
    {
     "data": {
      "text/html": [
       "<pre style=\"white-space:pre;overflow-x:auto;line-height:normal;font-family:Menlo,'DejaVu Sans Mono',consolas,'Courier New',monospace\"><span style=\"font-style: italic\">                      Training Status                       </span>\n",
       "+----------------------------------------------------------+\n",
       "|<span style=\"font-weight: bold\">Epoch </span>|<span style=\"font-weight: bold\"> Steps </span>|<span style=\"font-weight: bold\">                    Loss                   </span>|\n",
       "|------+-------+-------------------------------------------|\n",
       "|  0   | 0/63  | tensor(6.7876, grad_fn=&lt;NllLossBackward0&gt;)|\n",
       "|  0   | 10/63 | tensor(6.6259, grad_fn=&lt;NllLossBackward0&gt;)|\n",
       "|  0   | 20/63 | tensor(6.0840, grad_fn=&lt;NllLossBackward0&gt;)|\n",
       "|  0   | 30/63 | tensor(6.0292, grad_fn=&lt;NllLossBackward0&gt;)|\n",
       "+----------------------------------------------------------+\n",
       "</pre>\n"
      ],
      "text/plain": [
       "\u001b[3m                      Training Status                       \u001b[0m\n",
       "+----------------------------------------------------------+\n",
       "|\u001b[1mEpoch\u001b[0m\u001b[1m \u001b[0m|\u001b[1m \u001b[0m\u001b[1mSteps\u001b[0m\u001b[1m \u001b[0m|\u001b[1m \u001b[0m\u001b[1m                   Loss                   \u001b[0m|\n",
       "|------+-------+-------------------------------------------|\n",
       "|  0   | 0/63  | tensor(6.7876, grad_fn=<NllLossBackward0>)|\n",
       "|  0   | 10/63 | tensor(6.6259, grad_fn=<NllLossBackward0>)|\n",
       "|  0   | 20/63 | tensor(6.0840, grad_fn=<NllLossBackward0>)|\n",
       "|  0   | 30/63 | tensor(6.0292, grad_fn=<NllLossBackward0>)|\n",
       "+----------------------------------------------------------+\n"
      ]
     },
     "metadata": {},
     "output_type": "display_data"
    },
    {
     "metadata": {
      "tags": null
     },
     "name": "stdout",
     "output_type": "stream",
     "text": [
      "STEP:  40 / 63\n"
     ]
    },
    {
     "data": {
      "text/html": [
       "<pre style=\"white-space:pre;overflow-x:auto;line-height:normal;font-family:Menlo,'DejaVu Sans Mono',consolas,'Courier New',monospace\"><span style=\"font-style: italic\">                      Training Status                       </span>\n",
       "+----------------------------------------------------------+\n",
       "|<span style=\"font-weight: bold\">Epoch </span>|<span style=\"font-weight: bold\"> Steps </span>|<span style=\"font-weight: bold\">                    Loss                   </span>|\n",
       "|------+-------+-------------------------------------------|\n",
       "|  0   | 0/63  | tensor(6.7876, grad_fn=&lt;NllLossBackward0&gt;)|\n",
       "|  0   | 10/63 | tensor(6.6259, grad_fn=&lt;NllLossBackward0&gt;)|\n",
       "|  0   | 20/63 | tensor(6.0840, grad_fn=&lt;NllLossBackward0&gt;)|\n",
       "|  0   | 30/63 | tensor(6.0292, grad_fn=&lt;NllLossBackward0&gt;)|\n",
       "|  0   | 40/63 | tensor(6.0061, grad_fn=&lt;NllLossBackward0&gt;)|\n",
       "+----------------------------------------------------------+\n",
       "</pre>\n"
      ],
      "text/plain": [
       "\u001b[3m                      Training Status                       \u001b[0m\n",
       "+----------------------------------------------------------+\n",
       "|\u001b[1mEpoch\u001b[0m\u001b[1m \u001b[0m|\u001b[1m \u001b[0m\u001b[1mSteps\u001b[0m\u001b[1m \u001b[0m|\u001b[1m \u001b[0m\u001b[1m                   Loss                   \u001b[0m|\n",
       "|------+-------+-------------------------------------------|\n",
       "|  0   | 0/63  | tensor(6.7876, grad_fn=<NllLossBackward0>)|\n",
       "|  0   | 10/63 | tensor(6.6259, grad_fn=<NllLossBackward0>)|\n",
       "|  0   | 20/63 | tensor(6.0840, grad_fn=<NllLossBackward0>)|\n",
       "|  0   | 30/63 | tensor(6.0292, grad_fn=<NllLossBackward0>)|\n",
       "|  0   | 40/63 | tensor(6.0061, grad_fn=<NllLossBackward0>)|\n",
       "+----------------------------------------------------------+\n"
      ]
     },
     "metadata": {},
     "output_type": "display_data"
    },
    {
     "metadata": {
      "tags": null
     },
     "name": "stdout",
     "output_type": "stream",
     "text": [
      "STEP:  50 / 63\n"
     ]
    },
    {
     "data": {
      "text/html": [
       "<pre style=\"white-space:pre;overflow-x:auto;line-height:normal;font-family:Menlo,'DejaVu Sans Mono',consolas,'Courier New',monospace\"><span style=\"font-style: italic\">                      Training Status                       </span>\n",
       "+----------------------------------------------------------+\n",
       "|<span style=\"font-weight: bold\">Epoch </span>|<span style=\"font-weight: bold\"> Steps </span>|<span style=\"font-weight: bold\">                    Loss                   </span>|\n",
       "|------+-------+-------------------------------------------|\n",
       "|  0   | 0/63  | tensor(6.7876, grad_fn=&lt;NllLossBackward0&gt;)|\n",
       "|  0   | 10/63 | tensor(6.6259, grad_fn=&lt;NllLossBackward0&gt;)|\n",
       "|  0   | 20/63 | tensor(6.0840, grad_fn=&lt;NllLossBackward0&gt;)|\n",
       "|  0   | 30/63 | tensor(6.0292, grad_fn=&lt;NllLossBackward0&gt;)|\n",
       "|  0   | 40/63 | tensor(6.0061, grad_fn=&lt;NllLossBackward0&gt;)|\n",
       "|  0   | 50/63 | tensor(5.5148, grad_fn=&lt;NllLossBackward0&gt;)|\n",
       "+----------------------------------------------------------+\n",
       "</pre>\n"
      ],
      "text/plain": [
       "\u001b[3m                      Training Status                       \u001b[0m\n",
       "+----------------------------------------------------------+\n",
       "|\u001b[1mEpoch\u001b[0m\u001b[1m \u001b[0m|\u001b[1m \u001b[0m\u001b[1mSteps\u001b[0m\u001b[1m \u001b[0m|\u001b[1m \u001b[0m\u001b[1m                   Loss                   \u001b[0m|\n",
       "|------+-------+-------------------------------------------|\n",
       "|  0   | 0/63  | tensor(6.7876, grad_fn=<NllLossBackward0>)|\n",
       "|  0   | 10/63 | tensor(6.6259, grad_fn=<NllLossBackward0>)|\n",
       "|  0   | 20/63 | tensor(6.0840, grad_fn=<NllLossBackward0>)|\n",
       "|  0   | 30/63 | tensor(6.0292, grad_fn=<NllLossBackward0>)|\n",
       "|  0   | 40/63 | tensor(6.0061, grad_fn=<NllLossBackward0>)|\n",
       "|  0   | 50/63 | tensor(5.5148, grad_fn=<NllLossBackward0>)|\n",
       "+----------------------------------------------------------+\n"
      ]
     },
     "metadata": {},
     "output_type": "display_data"
    },
    {
     "metadata": {
      "tags": null
     },
     "name": "stdout",
     "output_type": "stream",
     "text": [
      "STEP:  60 / 63\n"
     ]
    },
    {
     "data": {
      "text/html": [
       "<pre style=\"white-space:pre;overflow-x:auto;line-height:normal;font-family:Menlo,'DejaVu Sans Mono',consolas,'Courier New',monospace\"><span style=\"font-style: italic\">                      Training Status                       </span>\n",
       "+----------------------------------------------------------+\n",
       "|<span style=\"font-weight: bold\">Epoch </span>|<span style=\"font-weight: bold\"> Steps </span>|<span style=\"font-weight: bold\">                    Loss                   </span>|\n",
       "|------+-------+-------------------------------------------|\n",
       "|  0   | 0/63  | tensor(6.7876, grad_fn=&lt;NllLossBackward0&gt;)|\n",
       "|  0   | 10/63 | tensor(6.6259, grad_fn=&lt;NllLossBackward0&gt;)|\n",
       "|  0   | 20/63 | tensor(6.0840, grad_fn=&lt;NllLossBackward0&gt;)|\n",
       "|  0   | 30/63 | tensor(6.0292, grad_fn=&lt;NllLossBackward0&gt;)|\n",
       "|  0   | 40/63 | tensor(6.0061, grad_fn=&lt;NllLossBackward0&gt;)|\n",
       "|  0   | 50/63 | tensor(5.5148, grad_fn=&lt;NllLossBackward0&gt;)|\n",
       "|  0   | 60/63 | tensor(5.7161, grad_fn=&lt;NllLossBackward0&gt;)|\n",
       "+----------------------------------------------------------+\n",
       "</pre>\n"
      ],
      "text/plain": [
       "\u001b[3m                      Training Status                       \u001b[0m\n",
       "+----------------------------------------------------------+\n",
       "|\u001b[1mEpoch\u001b[0m\u001b[1m \u001b[0m|\u001b[1m \u001b[0m\u001b[1mSteps\u001b[0m\u001b[1m \u001b[0m|\u001b[1m \u001b[0m\u001b[1m                   Loss                   \u001b[0m|\n",
       "|------+-------+-------------------------------------------|\n",
       "|  0   | 0/63  | tensor(6.7876, grad_fn=<NllLossBackward0>)|\n",
       "|  0   | 10/63 | tensor(6.6259, grad_fn=<NllLossBackward0>)|\n",
       "|  0   | 20/63 | tensor(6.0840, grad_fn=<NllLossBackward0>)|\n",
       "|  0   | 30/63 | tensor(6.0292, grad_fn=<NllLossBackward0>)|\n",
       "|  0   | 40/63 | tensor(6.0061, grad_fn=<NllLossBackward0>)|\n",
       "|  0   | 50/63 | tensor(5.5148, grad_fn=<NllLossBackward0>)|\n",
       "|  0   | 60/63 | tensor(5.7161, grad_fn=<NllLossBackward0>)|\n",
       "+----------------------------------------------------------+\n"
      ]
     },
     "metadata": {},
     "output_type": "display_data"
    },
    {
     "data": {
      "text/html": [
       "<pre style=\"white-space:pre;overflow-x:auto;line-height:normal;font-family:Menlo,'DejaVu Sans Mono',consolas,'Courier New',monospace\">Completed <span style=\"color: #008080; text-decoration-color: #008080; font-weight: bold\">0</span>\n",
       "</pre>\n"
      ],
      "text/plain": [
       "Completed \u001b[1;36m0\u001b[0m\n"
      ]
     },
     "metadata": {},
     "output_type": "display_data"
    },
    {
     "data": {
      "text/html": [
       "<pre style=\"white-space:pre;overflow-x:auto;line-height:normal;font-family:Menlo,'DejaVu Sans Mono',consolas,'Courier New',monospace\">Completed <span style=\"color: #008080; text-decoration-color: #008080; font-weight: bold\">10</span>\n",
       "</pre>\n"
      ],
      "text/plain": [
       "Completed \u001b[1;36m10\u001b[0m\n"
      ]
     },
     "metadata": {},
     "output_type": "display_data"
    },
    {
     "data": {
      "text/html": [
       "<pre style=\"white-space:pre;overflow-x:auto;line-height:normal;font-family:Menlo,'DejaVu Sans Mono',consolas,'Courier New',monospace\">Completed <span style=\"color: #008080; text-decoration-color: #008080; font-weight: bold\">20</span>\n",
       "</pre>\n"
      ],
      "text/plain": [
       "Completed \u001b[1;36m20\u001b[0m\n"
      ]
     },
     "metadata": {},
     "output_type": "display_data"
    },
    {
     "data": {
      "text/html": [
       "<pre style=\"white-space:pre;overflow-x:auto;line-height:normal;font-family:Menlo,'DejaVu Sans Mono',consolas,'Courier New',monospace\">Completed <span style=\"color: #008080; text-decoration-color: #008080; font-weight: bold\">30</span>\n",
       "</pre>\n"
      ],
      "text/plain": [
       "Completed \u001b[1;36m30\u001b[0m\n"
      ]
     },
     "metadata": {},
     "output_type": "display_data"
    },
    {
     "data": {
      "text/html": [
       "<pre style=\"white-space:pre;overflow-x:auto;line-height:normal;font-family:Menlo,'DejaVu Sans Mono',consolas,'Courier New',monospace\">Completed <span style=\"color: #008080; text-decoration-color: #008080; font-weight: bold\">40</span>\n",
       "</pre>\n"
      ],
      "text/plain": [
       "Completed \u001b[1;36m40\u001b[0m\n"
      ]
     },
     "metadata": {},
     "output_type": "display_data"
    },
    {
     "data": {
      "text/html": [
       "<pre style=\"white-space:pre;overflow-x:auto;line-height:normal;font-family:Menlo,'DejaVu Sans Mono',consolas,'Courier New',monospace\">Completed <span style=\"color: #008080; text-decoration-color: #008080; font-weight: bold\">50</span>\n",
       "</pre>\n"
      ],
      "text/plain": [
       "Completed \u001b[1;36m50\u001b[0m\n"
      ]
     },
     "metadata": {},
     "output_type": "display_data"
    },
    {
     "data": {
      "text/html": [
       "<pre style=\"white-space:pre;overflow-x:auto;line-height:normal;font-family:Menlo,'DejaVu Sans Mono',consolas,'Courier New',monospace\">Completed <span style=\"color: #008080; text-decoration-color: #008080; font-weight: bold\">60</span>\n",
       "</pre>\n"
      ],
      "text/plain": [
       "Completed \u001b[1;36m60\u001b[0m\n"
      ]
     },
     "metadata": {},
     "output_type": "display_data"
    },
    {
     "metadata": {
      "tags": null
     },
     "name": "stdout",
     "output_type": "stream",
     "text": [
      "SAVE TO CSV FINISHED\n",
      "SAVE ROUGE TO CSV FINISHED\n",
      "STEP:  0 / 63\n"
     ]
    },
    {
     "data": {
      "text/html": [
       "<pre style=\"white-space:pre;overflow-x:auto;line-height:normal;font-family:Menlo,'DejaVu Sans Mono',consolas,'Courier New',monospace\"><span style=\"font-style: italic\">                      Training Status                       </span>\n",
       "+----------------------------------------------------------+\n",
       "|<span style=\"font-weight: bold\">Epoch </span>|<span style=\"font-weight: bold\"> Steps </span>|<span style=\"font-weight: bold\">                    Loss                   </span>|\n",
       "|------+-------+-------------------------------------------|\n",
       "|  0   | 0/63  | tensor(6.7876, grad_fn=&lt;NllLossBackward0&gt;)|\n",
       "|  0   | 10/63 | tensor(6.6259, grad_fn=&lt;NllLossBackward0&gt;)|\n",
       "|  0   | 20/63 | tensor(6.0840, grad_fn=&lt;NllLossBackward0&gt;)|\n",
       "|  0   | 30/63 | tensor(6.0292, grad_fn=&lt;NllLossBackward0&gt;)|\n",
       "|  0   | 40/63 | tensor(6.0061, grad_fn=&lt;NllLossBackward0&gt;)|\n",
       "|  0   | 50/63 | tensor(5.5148, grad_fn=&lt;NllLossBackward0&gt;)|\n",
       "|  0   | 60/63 | tensor(5.7161, grad_fn=&lt;NllLossBackward0&gt;)|\n",
       "|  1   | 0/63  | tensor(6.3252, grad_fn=&lt;NllLossBackward0&gt;)|\n",
       "+----------------------------------------------------------+\n",
       "</pre>\n"
      ],
      "text/plain": [
       "\u001b[3m                      Training Status                       \u001b[0m\n",
       "+----------------------------------------------------------+\n",
       "|\u001b[1mEpoch\u001b[0m\u001b[1m \u001b[0m|\u001b[1m \u001b[0m\u001b[1mSteps\u001b[0m\u001b[1m \u001b[0m|\u001b[1m \u001b[0m\u001b[1m                   Loss                   \u001b[0m|\n",
       "|------+-------+-------------------------------------------|\n",
       "|  0   | 0/63  | tensor(6.7876, grad_fn=<NllLossBackward0>)|\n",
       "|  0   | 10/63 | tensor(6.6259, grad_fn=<NllLossBackward0>)|\n",
       "|  0   | 20/63 | tensor(6.0840, grad_fn=<NllLossBackward0>)|\n",
       "|  0   | 30/63 | tensor(6.0292, grad_fn=<NllLossBackward0>)|\n",
       "|  0   | 40/63 | tensor(6.0061, grad_fn=<NllLossBackward0>)|\n",
       "|  0   | 50/63 | tensor(5.5148, grad_fn=<NllLossBackward0>)|\n",
       "|  0   | 60/63 | tensor(5.7161, grad_fn=<NllLossBackward0>)|\n",
       "|  1   | 0/63  | tensor(6.3252, grad_fn=<NllLossBackward0>)|\n",
       "+----------------------------------------------------------+\n"
      ]
     },
     "metadata": {},
     "output_type": "display_data"
    },
    {
     "metadata": {
      "tags": null
     },
     "name": "stdout",
     "output_type": "stream",
     "text": [
      "STEP:  10 / 63\n"
     ]
    },
    {
     "data": {
      "text/html": [
       "<pre style=\"white-space:pre;overflow-x:auto;line-height:normal;font-family:Menlo,'DejaVu Sans Mono',consolas,'Courier New',monospace\"><span style=\"font-style: italic\">                      Training Status                       </span>\n",
       "+----------------------------------------------------------+\n",
       "|<span style=\"font-weight: bold\">Epoch </span>|<span style=\"font-weight: bold\"> Steps </span>|<span style=\"font-weight: bold\">                    Loss                   </span>|\n",
       "|------+-------+-------------------------------------------|\n",
       "|  0   | 0/63  | tensor(6.7876, grad_fn=&lt;NllLossBackward0&gt;)|\n",
       "|  0   | 10/63 | tensor(6.6259, grad_fn=&lt;NllLossBackward0&gt;)|\n",
       "|  0   | 20/63 | tensor(6.0840, grad_fn=&lt;NllLossBackward0&gt;)|\n",
       "|  0   | 30/63 | tensor(6.0292, grad_fn=&lt;NllLossBackward0&gt;)|\n",
       "|  0   | 40/63 | tensor(6.0061, grad_fn=&lt;NllLossBackward0&gt;)|\n",
       "|  0   | 50/63 | tensor(5.5148, grad_fn=&lt;NllLossBackward0&gt;)|\n",
       "|  0   | 60/63 | tensor(5.7161, grad_fn=&lt;NllLossBackward0&gt;)|\n",
       "|  1   | 0/63  | tensor(6.3252, grad_fn=&lt;NllLossBackward0&gt;)|\n",
       "|  1   | 10/63 | tensor(5.3373, grad_fn=&lt;NllLossBackward0&gt;)|\n",
       "+----------------------------------------------------------+\n",
       "</pre>\n"
      ],
      "text/plain": [
       "\u001b[3m                      Training Status                       \u001b[0m\n",
       "+----------------------------------------------------------+\n",
       "|\u001b[1mEpoch\u001b[0m\u001b[1m \u001b[0m|\u001b[1m \u001b[0m\u001b[1mSteps\u001b[0m\u001b[1m \u001b[0m|\u001b[1m \u001b[0m\u001b[1m                   Loss                   \u001b[0m|\n",
       "|------+-------+-------------------------------------------|\n",
       "|  0   | 0/63  | tensor(6.7876, grad_fn=<NllLossBackward0>)|\n",
       "|  0   | 10/63 | tensor(6.6259, grad_fn=<NllLossBackward0>)|\n",
       "|  0   | 20/63 | tensor(6.0840, grad_fn=<NllLossBackward0>)|\n",
       "|  0   | 30/63 | tensor(6.0292, grad_fn=<NllLossBackward0>)|\n",
       "|  0   | 40/63 | tensor(6.0061, grad_fn=<NllLossBackward0>)|\n",
       "|  0   | 50/63 | tensor(5.5148, grad_fn=<NllLossBackward0>)|\n",
       "|  0   | 60/63 | tensor(5.7161, grad_fn=<NllLossBackward0>)|\n",
       "|  1   | 0/63  | tensor(6.3252, grad_fn=<NllLossBackward0>)|\n",
       "|  1   | 10/63 | tensor(5.3373, grad_fn=<NllLossBackward0>)|\n",
       "+----------------------------------------------------------+\n"
      ]
     },
     "metadata": {},
     "output_type": "display_data"
    },
    {
     "metadata": {
      "tags": null
     },
     "name": "stdout",
     "output_type": "stream",
     "text": [
      "STEP:  20 / 63\n"
     ]
    },
    {
     "data": {
      "text/html": [
       "<pre style=\"white-space:pre;overflow-x:auto;line-height:normal;font-family:Menlo,'DejaVu Sans Mono',consolas,'Courier New',monospace\"><span style=\"font-style: italic\">                      Training Status                       </span>\n",
       "+----------------------------------------------------------+\n",
       "|<span style=\"font-weight: bold\">Epoch </span>|<span style=\"font-weight: bold\"> Steps </span>|<span style=\"font-weight: bold\">                    Loss                   </span>|\n",
       "|------+-------+-------------------------------------------|\n",
       "|  0   | 0/63  | tensor(6.7876, grad_fn=&lt;NllLossBackward0&gt;)|\n",
       "|  0   | 10/63 | tensor(6.6259, grad_fn=&lt;NllLossBackward0&gt;)|\n",
       "|  0   | 20/63 | tensor(6.0840, grad_fn=&lt;NllLossBackward0&gt;)|\n",
       "|  0   | 30/63 | tensor(6.0292, grad_fn=&lt;NllLossBackward0&gt;)|\n",
       "|  0   | 40/63 | tensor(6.0061, grad_fn=&lt;NllLossBackward0&gt;)|\n",
       "|  0   | 50/63 | tensor(5.5148, grad_fn=&lt;NllLossBackward0&gt;)|\n",
       "|  0   | 60/63 | tensor(5.7161, grad_fn=&lt;NllLossBackward0&gt;)|\n",
       "|  1   | 0/63  | tensor(6.3252, grad_fn=&lt;NllLossBackward0&gt;)|\n",
       "|  1   | 10/63 | tensor(5.3373, grad_fn=&lt;NllLossBackward0&gt;)|\n",
       "|  1   | 20/63 | tensor(5.7541, grad_fn=&lt;NllLossBackward0&gt;)|\n",
       "+----------------------------------------------------------+\n",
       "</pre>\n"
      ],
      "text/plain": [
       "\u001b[3m                      Training Status                       \u001b[0m\n",
       "+----------------------------------------------------------+\n",
       "|\u001b[1mEpoch\u001b[0m\u001b[1m \u001b[0m|\u001b[1m \u001b[0m\u001b[1mSteps\u001b[0m\u001b[1m \u001b[0m|\u001b[1m \u001b[0m\u001b[1m                   Loss                   \u001b[0m|\n",
       "|------+-------+-------------------------------------------|\n",
       "|  0   | 0/63  | tensor(6.7876, grad_fn=<NllLossBackward0>)|\n",
       "|  0   | 10/63 | tensor(6.6259, grad_fn=<NllLossBackward0>)|\n",
       "|  0   | 20/63 | tensor(6.0840, grad_fn=<NllLossBackward0>)|\n",
       "|  0   | 30/63 | tensor(6.0292, grad_fn=<NllLossBackward0>)|\n",
       "|  0   | 40/63 | tensor(6.0061, grad_fn=<NllLossBackward0>)|\n",
       "|  0   | 50/63 | tensor(5.5148, grad_fn=<NllLossBackward0>)|\n",
       "|  0   | 60/63 | tensor(5.7161, grad_fn=<NllLossBackward0>)|\n",
       "|  1   | 0/63  | tensor(6.3252, grad_fn=<NllLossBackward0>)|\n",
       "|  1   | 10/63 | tensor(5.3373, grad_fn=<NllLossBackward0>)|\n",
       "|  1   | 20/63 | tensor(5.7541, grad_fn=<NllLossBackward0>)|\n",
       "+----------------------------------------------------------+\n"
      ]
     },
     "metadata": {},
     "output_type": "display_data"
    },
    {
     "metadata": {
      "tags": null
     },
     "name": "stdout",
     "output_type": "stream",
     "text": [
      "STEP:  30 / 63\n"
     ]
    },
    {
     "data": {
      "text/html": [
       "<pre style=\"white-space:pre;overflow-x:auto;line-height:normal;font-family:Menlo,'DejaVu Sans Mono',consolas,'Courier New',monospace\"><span style=\"font-style: italic\">                      Training Status                       </span>\n",
       "+----------------------------------------------------------+\n",
       "|<span style=\"font-weight: bold\">Epoch </span>|<span style=\"font-weight: bold\"> Steps </span>|<span style=\"font-weight: bold\">                    Loss                   </span>|\n",
       "|------+-------+-------------------------------------------|\n",
       "|  0   | 0/63  | tensor(6.7876, grad_fn=&lt;NllLossBackward0&gt;)|\n",
       "|  0   | 10/63 | tensor(6.6259, grad_fn=&lt;NllLossBackward0&gt;)|\n",
       "|  0   | 20/63 | tensor(6.0840, grad_fn=&lt;NllLossBackward0&gt;)|\n",
       "|  0   | 30/63 | tensor(6.0292, grad_fn=&lt;NllLossBackward0&gt;)|\n",
       "|  0   | 40/63 | tensor(6.0061, grad_fn=&lt;NllLossBackward0&gt;)|\n",
       "|  0   | 50/63 | tensor(5.5148, grad_fn=&lt;NllLossBackward0&gt;)|\n",
       "|  0   | 60/63 | tensor(5.7161, grad_fn=&lt;NllLossBackward0&gt;)|\n",
       "|  1   | 0/63  | tensor(6.3252, grad_fn=&lt;NllLossBackward0&gt;)|\n",
       "|  1   | 10/63 | tensor(5.3373, grad_fn=&lt;NllLossBackward0&gt;)|\n",
       "|  1   | 20/63 | tensor(5.7541, grad_fn=&lt;NllLossBackward0&gt;)|\n",
       "|  1   | 30/63 | tensor(5.8530, grad_fn=&lt;NllLossBackward0&gt;)|\n",
       "+----------------------------------------------------------+\n",
       "</pre>\n"
      ],
      "text/plain": [
       "\u001b[3m                      Training Status                       \u001b[0m\n",
       "+----------------------------------------------------------+\n",
       "|\u001b[1mEpoch\u001b[0m\u001b[1m \u001b[0m|\u001b[1m \u001b[0m\u001b[1mSteps\u001b[0m\u001b[1m \u001b[0m|\u001b[1m \u001b[0m\u001b[1m                   Loss                   \u001b[0m|\n",
       "|------+-------+-------------------------------------------|\n",
       "|  0   | 0/63  | tensor(6.7876, grad_fn=<NllLossBackward0>)|\n",
       "|  0   | 10/63 | tensor(6.6259, grad_fn=<NllLossBackward0>)|\n",
       "|  0   | 20/63 | tensor(6.0840, grad_fn=<NllLossBackward0>)|\n",
       "|  0   | 30/63 | tensor(6.0292, grad_fn=<NllLossBackward0>)|\n",
       "|  0   | 40/63 | tensor(6.0061, grad_fn=<NllLossBackward0>)|\n",
       "|  0   | 50/63 | tensor(5.5148, grad_fn=<NllLossBackward0>)|\n",
       "|  0   | 60/63 | tensor(5.7161, grad_fn=<NllLossBackward0>)|\n",
       "|  1   | 0/63  | tensor(6.3252, grad_fn=<NllLossBackward0>)|\n",
       "|  1   | 10/63 | tensor(5.3373, grad_fn=<NllLossBackward0>)|\n",
       "|  1   | 20/63 | tensor(5.7541, grad_fn=<NllLossBackward0>)|\n",
       "|  1   | 30/63 | tensor(5.8530, grad_fn=<NllLossBackward0>)|\n",
       "+----------------------------------------------------------+\n"
      ]
     },
     "metadata": {},
     "output_type": "display_data"
    },
    {
     "metadata": {
      "tags": null
     },
     "name": "stdout",
     "output_type": "stream",
     "text": [
      "STEP:  40 / 63\n"
     ]
    },
    {
     "data": {
      "text/html": [
       "<pre style=\"white-space:pre;overflow-x:auto;line-height:normal;font-family:Menlo,'DejaVu Sans Mono',consolas,'Courier New',monospace\"><span style=\"font-style: italic\">                      Training Status                       </span>\n",
       "+----------------------------------------------------------+\n",
       "|<span style=\"font-weight: bold\">Epoch </span>|<span style=\"font-weight: bold\"> Steps </span>|<span style=\"font-weight: bold\">                    Loss                   </span>|\n",
       "|------+-------+-------------------------------------------|\n",
       "|  0   | 0/63  | tensor(6.7876, grad_fn=&lt;NllLossBackward0&gt;)|\n",
       "|  0   | 10/63 | tensor(6.6259, grad_fn=&lt;NllLossBackward0&gt;)|\n",
       "|  0   | 20/63 | tensor(6.0840, grad_fn=&lt;NllLossBackward0&gt;)|\n",
       "|  0   | 30/63 | tensor(6.0292, grad_fn=&lt;NllLossBackward0&gt;)|\n",
       "|  0   | 40/63 | tensor(6.0061, grad_fn=&lt;NllLossBackward0&gt;)|\n",
       "|  0   | 50/63 | tensor(5.5148, grad_fn=&lt;NllLossBackward0&gt;)|\n",
       "|  0   | 60/63 | tensor(5.7161, grad_fn=&lt;NllLossBackward0&gt;)|\n",
       "|  1   | 0/63  | tensor(6.3252, grad_fn=&lt;NllLossBackward0&gt;)|\n",
       "|  1   | 10/63 | tensor(5.3373, grad_fn=&lt;NllLossBackward0&gt;)|\n",
       "|  1   | 20/63 | tensor(5.7541, grad_fn=&lt;NllLossBackward0&gt;)|\n",
       "|  1   | 30/63 | tensor(5.8530, grad_fn=&lt;NllLossBackward0&gt;)|\n",
       "|  1   | 40/63 | tensor(5.5298, grad_fn=&lt;NllLossBackward0&gt;)|\n",
       "+----------------------------------------------------------+\n",
       "</pre>\n"
      ],
      "text/plain": [
       "\u001b[3m                      Training Status                       \u001b[0m\n",
       "+----------------------------------------------------------+\n",
       "|\u001b[1mEpoch\u001b[0m\u001b[1m \u001b[0m|\u001b[1m \u001b[0m\u001b[1mSteps\u001b[0m\u001b[1m \u001b[0m|\u001b[1m \u001b[0m\u001b[1m                   Loss                   \u001b[0m|\n",
       "|------+-------+-------------------------------------------|\n",
       "|  0   | 0/63  | tensor(6.7876, grad_fn=<NllLossBackward0>)|\n",
       "|  0   | 10/63 | tensor(6.6259, grad_fn=<NllLossBackward0>)|\n",
       "|  0   | 20/63 | tensor(6.0840, grad_fn=<NllLossBackward0>)|\n",
       "|  0   | 30/63 | tensor(6.0292, grad_fn=<NllLossBackward0>)|\n",
       "|  0   | 40/63 | tensor(6.0061, grad_fn=<NllLossBackward0>)|\n",
       "|  0   | 50/63 | tensor(5.5148, grad_fn=<NllLossBackward0>)|\n",
       "|  0   | 60/63 | tensor(5.7161, grad_fn=<NllLossBackward0>)|\n",
       "|  1   | 0/63  | tensor(6.3252, grad_fn=<NllLossBackward0>)|\n",
       "|  1   | 10/63 | tensor(5.3373, grad_fn=<NllLossBackward0>)|\n",
       "|  1   | 20/63 | tensor(5.7541, grad_fn=<NllLossBackward0>)|\n",
       "|  1   | 30/63 | tensor(5.8530, grad_fn=<NllLossBackward0>)|\n",
       "|  1   | 40/63 | tensor(5.5298, grad_fn=<NllLossBackward0>)|\n",
       "+----------------------------------------------------------+\n"
      ]
     },
     "metadata": {},
     "output_type": "display_data"
    },
    {
     "metadata": {
      "tags": null
     },
     "name": "stdout",
     "output_type": "stream",
     "text": [
      "STEP:  50 / 63\n"
     ]
    },
    {
     "data": {
      "text/html": [
       "<pre style=\"white-space:pre;overflow-x:auto;line-height:normal;font-family:Menlo,'DejaVu Sans Mono',consolas,'Courier New',monospace\"><span style=\"font-style: italic\">                      Training Status                       </span>\n",
       "+----------------------------------------------------------+\n",
       "|<span style=\"font-weight: bold\">Epoch </span>|<span style=\"font-weight: bold\"> Steps </span>|<span style=\"font-weight: bold\">                    Loss                   </span>|\n",
       "|------+-------+-------------------------------------------|\n",
       "|  0   | 0/63  | tensor(6.7876, grad_fn=&lt;NllLossBackward0&gt;)|\n",
       "|  0   | 10/63 | tensor(6.6259, grad_fn=&lt;NllLossBackward0&gt;)|\n",
       "|  0   | 20/63 | tensor(6.0840, grad_fn=&lt;NllLossBackward0&gt;)|\n",
       "|  0   | 30/63 | tensor(6.0292, grad_fn=&lt;NllLossBackward0&gt;)|\n",
       "|  0   | 40/63 | tensor(6.0061, grad_fn=&lt;NllLossBackward0&gt;)|\n",
       "|  0   | 50/63 | tensor(5.5148, grad_fn=&lt;NllLossBackward0&gt;)|\n",
       "|  0   | 60/63 | tensor(5.7161, grad_fn=&lt;NllLossBackward0&gt;)|\n",
       "|  1   | 0/63  | tensor(6.3252, grad_fn=&lt;NllLossBackward0&gt;)|\n",
       "|  1   | 10/63 | tensor(5.3373, grad_fn=&lt;NllLossBackward0&gt;)|\n",
       "|  1   | 20/63 | tensor(5.7541, grad_fn=&lt;NllLossBackward0&gt;)|\n",
       "|  1   | 30/63 | tensor(5.8530, grad_fn=&lt;NllLossBackward0&gt;)|\n",
       "|  1   | 40/63 | tensor(5.5298, grad_fn=&lt;NllLossBackward0&gt;)|\n",
       "|  1   | 50/63 | tensor(5.5679, grad_fn=&lt;NllLossBackward0&gt;)|\n",
       "+----------------------------------------------------------+\n",
       "</pre>\n"
      ],
      "text/plain": [
       "\u001b[3m                      Training Status                       \u001b[0m\n",
       "+----------------------------------------------------------+\n",
       "|\u001b[1mEpoch\u001b[0m\u001b[1m \u001b[0m|\u001b[1m \u001b[0m\u001b[1mSteps\u001b[0m\u001b[1m \u001b[0m|\u001b[1m \u001b[0m\u001b[1m                   Loss                   \u001b[0m|\n",
       "|------+-------+-------------------------------------------|\n",
       "|  0   | 0/63  | tensor(6.7876, grad_fn=<NllLossBackward0>)|\n",
       "|  0   | 10/63 | tensor(6.6259, grad_fn=<NllLossBackward0>)|\n",
       "|  0   | 20/63 | tensor(6.0840, grad_fn=<NllLossBackward0>)|\n",
       "|  0   | 30/63 | tensor(6.0292, grad_fn=<NllLossBackward0>)|\n",
       "|  0   | 40/63 | tensor(6.0061, grad_fn=<NllLossBackward0>)|\n",
       "|  0   | 50/63 | tensor(5.5148, grad_fn=<NllLossBackward0>)|\n",
       "|  0   | 60/63 | tensor(5.7161, grad_fn=<NllLossBackward0>)|\n",
       "|  1   | 0/63  | tensor(6.3252, grad_fn=<NllLossBackward0>)|\n",
       "|  1   | 10/63 | tensor(5.3373, grad_fn=<NllLossBackward0>)|\n",
       "|  1   | 20/63 | tensor(5.7541, grad_fn=<NllLossBackward0>)|\n",
       "|  1   | 30/63 | tensor(5.8530, grad_fn=<NllLossBackward0>)|\n",
       "|  1   | 40/63 | tensor(5.5298, grad_fn=<NllLossBackward0>)|\n",
       "|  1   | 50/63 | tensor(5.5679, grad_fn=<NllLossBackward0>)|\n",
       "+----------------------------------------------------------+\n"
      ]
     },
     "metadata": {},
     "output_type": "display_data"
    },
    {
     "metadata": {
      "tags": null
     },
     "name": "stdout",
     "output_type": "stream",
     "text": [
      "STEP:  60 / 63\n"
     ]
    },
    {
     "data": {
      "text/html": [
       "<pre style=\"white-space:pre;overflow-x:auto;line-height:normal;font-family:Menlo,'DejaVu Sans Mono',consolas,'Courier New',monospace\"><span style=\"font-style: italic\">                      Training Status                       </span>\n",
       "+----------------------------------------------------------+\n",
       "|<span style=\"font-weight: bold\">Epoch </span>|<span style=\"font-weight: bold\"> Steps </span>|<span style=\"font-weight: bold\">                    Loss                   </span>|\n",
       "|------+-------+-------------------------------------------|\n",
       "|  0   | 0/63  | tensor(6.7876, grad_fn=&lt;NllLossBackward0&gt;)|\n",
       "|  0   | 10/63 | tensor(6.6259, grad_fn=&lt;NllLossBackward0&gt;)|\n",
       "|  0   | 20/63 | tensor(6.0840, grad_fn=&lt;NllLossBackward0&gt;)|\n",
       "|  0   | 30/63 | tensor(6.0292, grad_fn=&lt;NllLossBackward0&gt;)|\n",
       "|  0   | 40/63 | tensor(6.0061, grad_fn=&lt;NllLossBackward0&gt;)|\n",
       "|  0   | 50/63 | tensor(5.5148, grad_fn=&lt;NllLossBackward0&gt;)|\n",
       "|  0   | 60/63 | tensor(5.7161, grad_fn=&lt;NllLossBackward0&gt;)|\n",
       "|  1   | 0/63  | tensor(6.3252, grad_fn=&lt;NllLossBackward0&gt;)|\n",
       "|  1   | 10/63 | tensor(5.3373, grad_fn=&lt;NllLossBackward0&gt;)|\n",
       "|  1   | 20/63 | tensor(5.7541, grad_fn=&lt;NllLossBackward0&gt;)|\n",
       "|  1   | 30/63 | tensor(5.8530, grad_fn=&lt;NllLossBackward0&gt;)|\n",
       "|  1   | 40/63 | tensor(5.5298, grad_fn=&lt;NllLossBackward0&gt;)|\n",
       "|  1   | 50/63 | tensor(5.5679, grad_fn=&lt;NllLossBackward0&gt;)|\n",
       "|  1   | 60/63 | tensor(5.2914, grad_fn=&lt;NllLossBackward0&gt;)|\n",
       "+----------------------------------------------------------+\n",
       "</pre>\n"
      ],
      "text/plain": [
       "\u001b[3m                      Training Status                       \u001b[0m\n",
       "+----------------------------------------------------------+\n",
       "|\u001b[1mEpoch\u001b[0m\u001b[1m \u001b[0m|\u001b[1m \u001b[0m\u001b[1mSteps\u001b[0m\u001b[1m \u001b[0m|\u001b[1m \u001b[0m\u001b[1m                   Loss                   \u001b[0m|\n",
       "|------+-------+-------------------------------------------|\n",
       "|  0   | 0/63  | tensor(6.7876, grad_fn=<NllLossBackward0>)|\n",
       "|  0   | 10/63 | tensor(6.6259, grad_fn=<NllLossBackward0>)|\n",
       "|  0   | 20/63 | tensor(6.0840, grad_fn=<NllLossBackward0>)|\n",
       "|  0   | 30/63 | tensor(6.0292, grad_fn=<NllLossBackward0>)|\n",
       "|  0   | 40/63 | tensor(6.0061, grad_fn=<NllLossBackward0>)|\n",
       "|  0   | 50/63 | tensor(5.5148, grad_fn=<NllLossBackward0>)|\n",
       "|  0   | 60/63 | tensor(5.7161, grad_fn=<NllLossBackward0>)|\n",
       "|  1   | 0/63  | tensor(6.3252, grad_fn=<NllLossBackward0>)|\n",
       "|  1   | 10/63 | tensor(5.3373, grad_fn=<NllLossBackward0>)|\n",
       "|  1   | 20/63 | tensor(5.7541, grad_fn=<NllLossBackward0>)|\n",
       "|  1   | 30/63 | tensor(5.8530, grad_fn=<NllLossBackward0>)|\n",
       "|  1   | 40/63 | tensor(5.5298, grad_fn=<NllLossBackward0>)|\n",
       "|  1   | 50/63 | tensor(5.5679, grad_fn=<NllLossBackward0>)|\n",
       "|  1   | 60/63 | tensor(5.2914, grad_fn=<NllLossBackward0>)|\n",
       "+----------------------------------------------------------+\n"
      ]
     },
     "metadata": {},
     "output_type": "display_data"
    },
    {
     "data": {
      "text/html": [
       "<pre style=\"white-space:pre;overflow-x:auto;line-height:normal;font-family:Menlo,'DejaVu Sans Mono',consolas,'Courier New',monospace\">Completed <span style=\"color: #008080; text-decoration-color: #008080; font-weight: bold\">0</span>\n",
       "</pre>\n"
      ],
      "text/plain": [
       "Completed \u001b[1;36m0\u001b[0m\n"
      ]
     },
     "metadata": {},
     "output_type": "display_data"
    },
    {
     "data": {
      "text/html": [
       "<pre style=\"white-space:pre;overflow-x:auto;line-height:normal;font-family:Menlo,'DejaVu Sans Mono',consolas,'Courier New',monospace\">Completed <span style=\"color: #008080; text-decoration-color: #008080; font-weight: bold\">10</span>\n",
       "</pre>\n"
      ],
      "text/plain": [
       "Completed \u001b[1;36m10\u001b[0m\n"
      ]
     },
     "metadata": {},
     "output_type": "display_data"
    },
    {
     "data": {
      "text/html": [
       "<pre style=\"white-space:pre;overflow-x:auto;line-height:normal;font-family:Menlo,'DejaVu Sans Mono',consolas,'Courier New',monospace\">Completed <span style=\"color: #008080; text-decoration-color: #008080; font-weight: bold\">20</span>\n",
       "</pre>\n"
      ],
      "text/plain": [
       "Completed \u001b[1;36m20\u001b[0m\n"
      ]
     },
     "metadata": {},
     "output_type": "display_data"
    },
    {
     "data": {
      "text/html": [
       "<pre style=\"white-space:pre;overflow-x:auto;line-height:normal;font-family:Menlo,'DejaVu Sans Mono',consolas,'Courier New',monospace\">Completed <span style=\"color: #008080; text-decoration-color: #008080; font-weight: bold\">30</span>\n",
       "</pre>\n"
      ],
      "text/plain": [
       "Completed \u001b[1;36m30\u001b[0m\n"
      ]
     },
     "metadata": {},
     "output_type": "display_data"
    },
    {
     "data": {
      "text/html": [
       "<pre style=\"white-space:pre;overflow-x:auto;line-height:normal;font-family:Menlo,'DejaVu Sans Mono',consolas,'Courier New',monospace\">Completed <span style=\"color: #008080; text-decoration-color: #008080; font-weight: bold\">40</span>\n",
       "</pre>\n"
      ],
      "text/plain": [
       "Completed \u001b[1;36m40\u001b[0m\n"
      ]
     },
     "metadata": {},
     "output_type": "display_data"
    },
    {
     "data": {
      "text/html": [
       "<pre style=\"white-space:pre;overflow-x:auto;line-height:normal;font-family:Menlo,'DejaVu Sans Mono',consolas,'Courier New',monospace\">Completed <span style=\"color: #008080; text-decoration-color: #008080; font-weight: bold\">50</span>\n",
       "</pre>\n"
      ],
      "text/plain": [
       "Completed \u001b[1;36m50\u001b[0m\n"
      ]
     },
     "metadata": {},
     "output_type": "display_data"
    },
    {
     "data": {
      "text/html": [
       "<pre style=\"white-space:pre;overflow-x:auto;line-height:normal;font-family:Menlo,'DejaVu Sans Mono',consolas,'Courier New',monospace\">Completed <span style=\"color: #008080; text-decoration-color: #008080; font-weight: bold\">60</span>\n",
       "</pre>\n"
      ],
      "text/plain": [
       "Completed \u001b[1;36m60\u001b[0m\n"
      ]
     },
     "metadata": {},
     "output_type": "display_data"
    },
    {
     "metadata": {
      "tags": null
     },
     "name": "stdout",
     "output_type": "stream",
     "text": [
      "SAVE TO CSV FINISHED\n",
      "SAVE ROUGE TO CSV FINISHED\n",
      "STEP:  0 / 63\n"
     ]
    },
    {
     "data": {
      "text/html": [
       "<pre style=\"white-space:pre;overflow-x:auto;line-height:normal;font-family:Menlo,'DejaVu Sans Mono',consolas,'Courier New',monospace\"><span style=\"font-style: italic\">                      Training Status                       </span>\n",
       "+----------------------------------------------------------+\n",
       "|<span style=\"font-weight: bold\">Epoch </span>|<span style=\"font-weight: bold\"> Steps </span>|<span style=\"font-weight: bold\">                    Loss                   </span>|\n",
       "|------+-------+-------------------------------------------|\n",
       "|  0   | 0/63  | tensor(6.7876, grad_fn=&lt;NllLossBackward0&gt;)|\n",
       "|  0   | 10/63 | tensor(6.6259, grad_fn=&lt;NllLossBackward0&gt;)|\n",
       "|  0   | 20/63 | tensor(6.0840, grad_fn=&lt;NllLossBackward0&gt;)|\n",
       "|  0   | 30/63 | tensor(6.0292, grad_fn=&lt;NllLossBackward0&gt;)|\n",
       "|  0   | 40/63 | tensor(6.0061, grad_fn=&lt;NllLossBackward0&gt;)|\n",
       "|  0   | 50/63 | tensor(5.5148, grad_fn=&lt;NllLossBackward0&gt;)|\n",
       "|  0   | 60/63 | tensor(5.7161, grad_fn=&lt;NllLossBackward0&gt;)|\n",
       "|  1   | 0/63  | tensor(6.3252, grad_fn=&lt;NllLossBackward0&gt;)|\n",
       "|  1   | 10/63 | tensor(5.3373, grad_fn=&lt;NllLossBackward0&gt;)|\n",
       "|  1   | 20/63 | tensor(5.7541, grad_fn=&lt;NllLossBackward0&gt;)|\n",
       "|  1   | 30/63 | tensor(5.8530, grad_fn=&lt;NllLossBackward0&gt;)|\n",
       "|  1   | 40/63 | tensor(5.5298, grad_fn=&lt;NllLossBackward0&gt;)|\n",
       "|  1   | 50/63 | tensor(5.5679, grad_fn=&lt;NllLossBackward0&gt;)|\n",
       "|  1   | 60/63 | tensor(5.2914, grad_fn=&lt;NllLossBackward0&gt;)|\n",
       "|  2   | 0/63  | tensor(5.5819, grad_fn=&lt;NllLossBackward0&gt;)|\n",
       "+----------------------------------------------------------+\n",
       "</pre>\n"
      ],
      "text/plain": [
       "\u001b[3m                      Training Status                       \u001b[0m\n",
       "+----------------------------------------------------------+\n",
       "|\u001b[1mEpoch\u001b[0m\u001b[1m \u001b[0m|\u001b[1m \u001b[0m\u001b[1mSteps\u001b[0m\u001b[1m \u001b[0m|\u001b[1m \u001b[0m\u001b[1m                   Loss                   \u001b[0m|\n",
       "|------+-------+-------------------------------------------|\n",
       "|  0   | 0/63  | tensor(6.7876, grad_fn=<NllLossBackward0>)|\n",
       "|  0   | 10/63 | tensor(6.6259, grad_fn=<NllLossBackward0>)|\n",
       "|  0   | 20/63 | tensor(6.0840, grad_fn=<NllLossBackward0>)|\n",
       "|  0   | 30/63 | tensor(6.0292, grad_fn=<NllLossBackward0>)|\n",
       "|  0   | 40/63 | tensor(6.0061, grad_fn=<NllLossBackward0>)|\n",
       "|  0   | 50/63 | tensor(5.5148, grad_fn=<NllLossBackward0>)|\n",
       "|  0   | 60/63 | tensor(5.7161, grad_fn=<NllLossBackward0>)|\n",
       "|  1   | 0/63  | tensor(6.3252, grad_fn=<NllLossBackward0>)|\n",
       "|  1   | 10/63 | tensor(5.3373, grad_fn=<NllLossBackward0>)|\n",
       "|  1   | 20/63 | tensor(5.7541, grad_fn=<NllLossBackward0>)|\n",
       "|  1   | 30/63 | tensor(5.8530, grad_fn=<NllLossBackward0>)|\n",
       "|  1   | 40/63 | tensor(5.5298, grad_fn=<NllLossBackward0>)|\n",
       "|  1   | 50/63 | tensor(5.5679, grad_fn=<NllLossBackward0>)|\n",
       "|  1   | 60/63 | tensor(5.2914, grad_fn=<NllLossBackward0>)|\n",
       "|  2   | 0/63  | tensor(5.5819, grad_fn=<NllLossBackward0>)|\n",
       "+----------------------------------------------------------+\n"
      ]
     },
     "metadata": {},
     "output_type": "display_data"
    },
    {
     "metadata": {
      "tags": null
     },
     "name": "stdout",
     "output_type": "stream",
     "text": [
      "STEP:  10 / 63\n"
     ]
    },
    {
     "data": {
      "text/html": [
       "<pre style=\"white-space:pre;overflow-x:auto;line-height:normal;font-family:Menlo,'DejaVu Sans Mono',consolas,'Courier New',monospace\"><span style=\"font-style: italic\">                      Training Status                       </span>\n",
       "+----------------------------------------------------------+\n",
       "|<span style=\"font-weight: bold\">Epoch </span>|<span style=\"font-weight: bold\"> Steps </span>|<span style=\"font-weight: bold\">                    Loss                   </span>|\n",
       "|------+-------+-------------------------------------------|\n",
       "|  0   | 0/63  | tensor(6.7876, grad_fn=&lt;NllLossBackward0&gt;)|\n",
       "|  0   | 10/63 | tensor(6.6259, grad_fn=&lt;NllLossBackward0&gt;)|\n",
       "|  0   | 20/63 | tensor(6.0840, grad_fn=&lt;NllLossBackward0&gt;)|\n",
       "|  0   | 30/63 | tensor(6.0292, grad_fn=&lt;NllLossBackward0&gt;)|\n",
       "|  0   | 40/63 | tensor(6.0061, grad_fn=&lt;NllLossBackward0&gt;)|\n",
       "|  0   | 50/63 | tensor(5.5148, grad_fn=&lt;NllLossBackward0&gt;)|\n",
       "|  0   | 60/63 | tensor(5.7161, grad_fn=&lt;NllLossBackward0&gt;)|\n",
       "|  1   | 0/63  | tensor(6.3252, grad_fn=&lt;NllLossBackward0&gt;)|\n",
       "|  1   | 10/63 | tensor(5.3373, grad_fn=&lt;NllLossBackward0&gt;)|\n",
       "|  1   | 20/63 | tensor(5.7541, grad_fn=&lt;NllLossBackward0&gt;)|\n",
       "|  1   | 30/63 | tensor(5.8530, grad_fn=&lt;NllLossBackward0&gt;)|\n",
       "|  1   | 40/63 | tensor(5.5298, grad_fn=&lt;NllLossBackward0&gt;)|\n",
       "|  1   | 50/63 | tensor(5.5679, grad_fn=&lt;NllLossBackward0&gt;)|\n",
       "|  1   | 60/63 | tensor(5.2914, grad_fn=&lt;NllLossBackward0&gt;)|\n",
       "|  2   | 0/63  | tensor(5.5819, grad_fn=&lt;NllLossBackward0&gt;)|\n",
       "|  2   | 10/63 | tensor(5.6125, grad_fn=&lt;NllLossBackward0&gt;)|\n",
       "+----------------------------------------------------------+\n",
       "</pre>\n"
      ],
      "text/plain": [
       "\u001b[3m                      Training Status                       \u001b[0m\n",
       "+----------------------------------------------------------+\n",
       "|\u001b[1mEpoch\u001b[0m\u001b[1m \u001b[0m|\u001b[1m \u001b[0m\u001b[1mSteps\u001b[0m\u001b[1m \u001b[0m|\u001b[1m \u001b[0m\u001b[1m                   Loss                   \u001b[0m|\n",
       "|------+-------+-------------------------------------------|\n",
       "|  0   | 0/63  | tensor(6.7876, grad_fn=<NllLossBackward0>)|\n",
       "|  0   | 10/63 | tensor(6.6259, grad_fn=<NllLossBackward0>)|\n",
       "|  0   | 20/63 | tensor(6.0840, grad_fn=<NllLossBackward0>)|\n",
       "|  0   | 30/63 | tensor(6.0292, grad_fn=<NllLossBackward0>)|\n",
       "|  0   | 40/63 | tensor(6.0061, grad_fn=<NllLossBackward0>)|\n",
       "|  0   | 50/63 | tensor(5.5148, grad_fn=<NllLossBackward0>)|\n",
       "|  0   | 60/63 | tensor(5.7161, grad_fn=<NllLossBackward0>)|\n",
       "|  1   | 0/63  | tensor(6.3252, grad_fn=<NllLossBackward0>)|\n",
       "|  1   | 10/63 | tensor(5.3373, grad_fn=<NllLossBackward0>)|\n",
       "|  1   | 20/63 | tensor(5.7541, grad_fn=<NllLossBackward0>)|\n",
       "|  1   | 30/63 | tensor(5.8530, grad_fn=<NllLossBackward0>)|\n",
       "|  1   | 40/63 | tensor(5.5298, grad_fn=<NllLossBackward0>)|\n",
       "|  1   | 50/63 | tensor(5.5679, grad_fn=<NllLossBackward0>)|\n",
       "|  1   | 60/63 | tensor(5.2914, grad_fn=<NllLossBackward0>)|\n",
       "|  2   | 0/63  | tensor(5.5819, grad_fn=<NllLossBackward0>)|\n",
       "|  2   | 10/63 | tensor(5.6125, grad_fn=<NllLossBackward0>)|\n",
       "+----------------------------------------------------------+\n"
      ]
     },
     "metadata": {},
     "output_type": "display_data"
    },
    {
     "metadata": {
      "tags": null
     },
     "name": "stdout",
     "output_type": "stream",
     "text": [
      "STEP:  20 / 63\n"
     ]
    },
    {
     "data": {
      "text/html": [
       "<pre style=\"white-space:pre;overflow-x:auto;line-height:normal;font-family:Menlo,'DejaVu Sans Mono',consolas,'Courier New',monospace\"><span style=\"font-style: italic\">                      Training Status                       </span>\n",
       "+----------------------------------------------------------+\n",
       "|<span style=\"font-weight: bold\">Epoch </span>|<span style=\"font-weight: bold\"> Steps </span>|<span style=\"font-weight: bold\">                    Loss                   </span>|\n",
       "|------+-------+-------------------------------------------|\n",
       "|  0   | 0/63  | tensor(6.7876, grad_fn=&lt;NllLossBackward0&gt;)|\n",
       "|  0   | 10/63 | tensor(6.6259, grad_fn=&lt;NllLossBackward0&gt;)|\n",
       "|  0   | 20/63 | tensor(6.0840, grad_fn=&lt;NllLossBackward0&gt;)|\n",
       "|  0   | 30/63 | tensor(6.0292, grad_fn=&lt;NllLossBackward0&gt;)|\n",
       "|  0   | 40/63 | tensor(6.0061, grad_fn=&lt;NllLossBackward0&gt;)|\n",
       "|  0   | 50/63 | tensor(5.5148, grad_fn=&lt;NllLossBackward0&gt;)|\n",
       "|  0   | 60/63 | tensor(5.7161, grad_fn=&lt;NllLossBackward0&gt;)|\n",
       "|  1   | 0/63  | tensor(6.3252, grad_fn=&lt;NllLossBackward0&gt;)|\n",
       "|  1   | 10/63 | tensor(5.3373, grad_fn=&lt;NllLossBackward0&gt;)|\n",
       "|  1   | 20/63 | tensor(5.7541, grad_fn=&lt;NllLossBackward0&gt;)|\n",
       "|  1   | 30/63 | tensor(5.8530, grad_fn=&lt;NllLossBackward0&gt;)|\n",
       "|  1   | 40/63 | tensor(5.5298, grad_fn=&lt;NllLossBackward0&gt;)|\n",
       "|  1   | 50/63 | tensor(5.5679, grad_fn=&lt;NllLossBackward0&gt;)|\n",
       "|  1   | 60/63 | tensor(5.2914, grad_fn=&lt;NllLossBackward0&gt;)|\n",
       "|  2   | 0/63  | tensor(5.5819, grad_fn=&lt;NllLossBackward0&gt;)|\n",
       "|  2   | 10/63 | tensor(5.6125, grad_fn=&lt;NllLossBackward0&gt;)|\n",
       "|  2   | 20/63 | tensor(5.2992, grad_fn=&lt;NllLossBackward0&gt;)|\n",
       "+----------------------------------------------------------+\n",
       "</pre>\n"
      ],
      "text/plain": [
       "\u001b[3m                      Training Status                       \u001b[0m\n",
       "+----------------------------------------------------------+\n",
       "|\u001b[1mEpoch\u001b[0m\u001b[1m \u001b[0m|\u001b[1m \u001b[0m\u001b[1mSteps\u001b[0m\u001b[1m \u001b[0m|\u001b[1m \u001b[0m\u001b[1m                   Loss                   \u001b[0m|\n",
       "|------+-------+-------------------------------------------|\n",
       "|  0   | 0/63  | tensor(6.7876, grad_fn=<NllLossBackward0>)|\n",
       "|  0   | 10/63 | tensor(6.6259, grad_fn=<NllLossBackward0>)|\n",
       "|  0   | 20/63 | tensor(6.0840, grad_fn=<NllLossBackward0>)|\n",
       "|  0   | 30/63 | tensor(6.0292, grad_fn=<NllLossBackward0>)|\n",
       "|  0   | 40/63 | tensor(6.0061, grad_fn=<NllLossBackward0>)|\n",
       "|  0   | 50/63 | tensor(5.5148, grad_fn=<NllLossBackward0>)|\n",
       "|  0   | 60/63 | tensor(5.7161, grad_fn=<NllLossBackward0>)|\n",
       "|  1   | 0/63  | tensor(6.3252, grad_fn=<NllLossBackward0>)|\n",
       "|  1   | 10/63 | tensor(5.3373, grad_fn=<NllLossBackward0>)|\n",
       "|  1   | 20/63 | tensor(5.7541, grad_fn=<NllLossBackward0>)|\n",
       "|  1   | 30/63 | tensor(5.8530, grad_fn=<NllLossBackward0>)|\n",
       "|  1   | 40/63 | tensor(5.5298, grad_fn=<NllLossBackward0>)|\n",
       "|  1   | 50/63 | tensor(5.5679, grad_fn=<NllLossBackward0>)|\n",
       "|  1   | 60/63 | tensor(5.2914, grad_fn=<NllLossBackward0>)|\n",
       "|  2   | 0/63  | tensor(5.5819, grad_fn=<NllLossBackward0>)|\n",
       "|  2   | 10/63 | tensor(5.6125, grad_fn=<NllLossBackward0>)|\n",
       "|  2   | 20/63 | tensor(5.2992, grad_fn=<NllLossBackward0>)|\n",
       "+----------------------------------------------------------+\n"
      ]
     },
     "metadata": {},
     "output_type": "display_data"
    },
    {
     "metadata": {
      "tags": null
     },
     "name": "stdout",
     "output_type": "stream",
     "text": [
      "STEP:  30 / 63\n"
     ]
    },
    {
     "data": {
      "text/html": [
       "<pre style=\"white-space:pre;overflow-x:auto;line-height:normal;font-family:Menlo,'DejaVu Sans Mono',consolas,'Courier New',monospace\"><span style=\"font-style: italic\">                      Training Status                       </span>\n",
       "+----------------------------------------------------------+\n",
       "|<span style=\"font-weight: bold\">Epoch </span>|<span style=\"font-weight: bold\"> Steps </span>|<span style=\"font-weight: bold\">                    Loss                   </span>|\n",
       "|------+-------+-------------------------------------------|\n",
       "|  0   | 0/63  | tensor(6.7876, grad_fn=&lt;NllLossBackward0&gt;)|\n",
       "|  0   | 10/63 | tensor(6.6259, grad_fn=&lt;NllLossBackward0&gt;)|\n",
       "|  0   | 20/63 | tensor(6.0840, grad_fn=&lt;NllLossBackward0&gt;)|\n",
       "|  0   | 30/63 | tensor(6.0292, grad_fn=&lt;NllLossBackward0&gt;)|\n",
       "|  0   | 40/63 | tensor(6.0061, grad_fn=&lt;NllLossBackward0&gt;)|\n",
       "|  0   | 50/63 | tensor(5.5148, grad_fn=&lt;NllLossBackward0&gt;)|\n",
       "|  0   | 60/63 | tensor(5.7161, grad_fn=&lt;NllLossBackward0&gt;)|\n",
       "|  1   | 0/63  | tensor(6.3252, grad_fn=&lt;NllLossBackward0&gt;)|\n",
       "|  1   | 10/63 | tensor(5.3373, grad_fn=&lt;NllLossBackward0&gt;)|\n",
       "|  1   | 20/63 | tensor(5.7541, grad_fn=&lt;NllLossBackward0&gt;)|\n",
       "|  1   | 30/63 | tensor(5.8530, grad_fn=&lt;NllLossBackward0&gt;)|\n",
       "|  1   | 40/63 | tensor(5.5298, grad_fn=&lt;NllLossBackward0&gt;)|\n",
       "|  1   | 50/63 | tensor(5.5679, grad_fn=&lt;NllLossBackward0&gt;)|\n",
       "|  1   | 60/63 | tensor(5.2914, grad_fn=&lt;NllLossBackward0&gt;)|\n",
       "|  2   | 0/63  | tensor(5.5819, grad_fn=&lt;NllLossBackward0&gt;)|\n",
       "|  2   | 10/63 | tensor(5.6125, grad_fn=&lt;NllLossBackward0&gt;)|\n",
       "|  2   | 20/63 | tensor(5.2992, grad_fn=&lt;NllLossBackward0&gt;)|\n",
       "|  2   | 30/63 | tensor(5.2333, grad_fn=&lt;NllLossBackward0&gt;)|\n",
       "+----------------------------------------------------------+\n",
       "</pre>\n"
      ],
      "text/plain": [
       "\u001b[3m                      Training Status                       \u001b[0m\n",
       "+----------------------------------------------------------+\n",
       "|\u001b[1mEpoch\u001b[0m\u001b[1m \u001b[0m|\u001b[1m \u001b[0m\u001b[1mSteps\u001b[0m\u001b[1m \u001b[0m|\u001b[1m \u001b[0m\u001b[1m                   Loss                   \u001b[0m|\n",
       "|------+-------+-------------------------------------------|\n",
       "|  0   | 0/63  | tensor(6.7876, grad_fn=<NllLossBackward0>)|\n",
       "|  0   | 10/63 | tensor(6.6259, grad_fn=<NllLossBackward0>)|\n",
       "|  0   | 20/63 | tensor(6.0840, grad_fn=<NllLossBackward0>)|\n",
       "|  0   | 30/63 | tensor(6.0292, grad_fn=<NllLossBackward0>)|\n",
       "|  0   | 40/63 | tensor(6.0061, grad_fn=<NllLossBackward0>)|\n",
       "|  0   | 50/63 | tensor(5.5148, grad_fn=<NllLossBackward0>)|\n",
       "|  0   | 60/63 | tensor(5.7161, grad_fn=<NllLossBackward0>)|\n",
       "|  1   | 0/63  | tensor(6.3252, grad_fn=<NllLossBackward0>)|\n",
       "|  1   | 10/63 | tensor(5.3373, grad_fn=<NllLossBackward0>)|\n",
       "|  1   | 20/63 | tensor(5.7541, grad_fn=<NllLossBackward0>)|\n",
       "|  1   | 30/63 | tensor(5.8530, grad_fn=<NllLossBackward0>)|\n",
       "|  1   | 40/63 | tensor(5.5298, grad_fn=<NllLossBackward0>)|\n",
       "|  1   | 50/63 | tensor(5.5679, grad_fn=<NllLossBackward0>)|\n",
       "|  1   | 60/63 | tensor(5.2914, grad_fn=<NllLossBackward0>)|\n",
       "|  2   | 0/63  | tensor(5.5819, grad_fn=<NllLossBackward0>)|\n",
       "|  2   | 10/63 | tensor(5.6125, grad_fn=<NllLossBackward0>)|\n",
       "|  2   | 20/63 | tensor(5.2992, grad_fn=<NllLossBackward0>)|\n",
       "|  2   | 30/63 | tensor(5.2333, grad_fn=<NllLossBackward0>)|\n",
       "+----------------------------------------------------------+\n"
      ]
     },
     "metadata": {},
     "output_type": "display_data"
    },
    {
     "metadata": {
      "tags": null
     },
     "name": "stdout",
     "output_type": "stream",
     "text": [
      "STEP:  40 / 63\n"
     ]
    },
    {
     "data": {
      "text/html": [
       "<pre style=\"white-space:pre;overflow-x:auto;line-height:normal;font-family:Menlo,'DejaVu Sans Mono',consolas,'Courier New',monospace\"><span style=\"font-style: italic\">                      Training Status                       </span>\n",
       "+----------------------------------------------------------+\n",
       "|<span style=\"font-weight: bold\">Epoch </span>|<span style=\"font-weight: bold\"> Steps </span>|<span style=\"font-weight: bold\">                    Loss                   </span>|\n",
       "|------+-------+-------------------------------------------|\n",
       "|  0   | 0/63  | tensor(6.7876, grad_fn=&lt;NllLossBackward0&gt;)|\n",
       "|  0   | 10/63 | tensor(6.6259, grad_fn=&lt;NllLossBackward0&gt;)|\n",
       "|  0   | 20/63 | tensor(6.0840, grad_fn=&lt;NllLossBackward0&gt;)|\n",
       "|  0   | 30/63 | tensor(6.0292, grad_fn=&lt;NllLossBackward0&gt;)|\n",
       "|  0   | 40/63 | tensor(6.0061, grad_fn=&lt;NllLossBackward0&gt;)|\n",
       "|  0   | 50/63 | tensor(5.5148, grad_fn=&lt;NllLossBackward0&gt;)|\n",
       "|  0   | 60/63 | tensor(5.7161, grad_fn=&lt;NllLossBackward0&gt;)|\n",
       "|  1   | 0/63  | tensor(6.3252, grad_fn=&lt;NllLossBackward0&gt;)|\n",
       "|  1   | 10/63 | tensor(5.3373, grad_fn=&lt;NllLossBackward0&gt;)|\n",
       "|  1   | 20/63 | tensor(5.7541, grad_fn=&lt;NllLossBackward0&gt;)|\n",
       "|  1   | 30/63 | tensor(5.8530, grad_fn=&lt;NllLossBackward0&gt;)|\n",
       "|  1   | 40/63 | tensor(5.5298, grad_fn=&lt;NllLossBackward0&gt;)|\n",
       "|  1   | 50/63 | tensor(5.5679, grad_fn=&lt;NllLossBackward0&gt;)|\n",
       "|  1   | 60/63 | tensor(5.2914, grad_fn=&lt;NllLossBackward0&gt;)|\n",
       "|  2   | 0/63  | tensor(5.5819, grad_fn=&lt;NllLossBackward0&gt;)|\n",
       "|  2   | 10/63 | tensor(5.6125, grad_fn=&lt;NllLossBackward0&gt;)|\n",
       "|  2   | 20/63 | tensor(5.2992, grad_fn=&lt;NllLossBackward0&gt;)|\n",
       "|  2   | 30/63 | tensor(5.2333, grad_fn=&lt;NllLossBackward0&gt;)|\n",
       "|  2   | 40/63 | tensor(5.6432, grad_fn=&lt;NllLossBackward0&gt;)|\n",
       "+----------------------------------------------------------+\n",
       "</pre>\n"
      ],
      "text/plain": [
       "\u001b[3m                      Training Status                       \u001b[0m\n",
       "+----------------------------------------------------------+\n",
       "|\u001b[1mEpoch\u001b[0m\u001b[1m \u001b[0m|\u001b[1m \u001b[0m\u001b[1mSteps\u001b[0m\u001b[1m \u001b[0m|\u001b[1m \u001b[0m\u001b[1m                   Loss                   \u001b[0m|\n",
       "|------+-------+-------------------------------------------|\n",
       "|  0   | 0/63  | tensor(6.7876, grad_fn=<NllLossBackward0>)|\n",
       "|  0   | 10/63 | tensor(6.6259, grad_fn=<NllLossBackward0>)|\n",
       "|  0   | 20/63 | tensor(6.0840, grad_fn=<NllLossBackward0>)|\n",
       "|  0   | 30/63 | tensor(6.0292, grad_fn=<NllLossBackward0>)|\n",
       "|  0   | 40/63 | tensor(6.0061, grad_fn=<NllLossBackward0>)|\n",
       "|  0   | 50/63 | tensor(5.5148, grad_fn=<NllLossBackward0>)|\n",
       "|  0   | 60/63 | tensor(5.7161, grad_fn=<NllLossBackward0>)|\n",
       "|  1   | 0/63  | tensor(6.3252, grad_fn=<NllLossBackward0>)|\n",
       "|  1   | 10/63 | tensor(5.3373, grad_fn=<NllLossBackward0>)|\n",
       "|  1   | 20/63 | tensor(5.7541, grad_fn=<NllLossBackward0>)|\n",
       "|  1   | 30/63 | tensor(5.8530, grad_fn=<NllLossBackward0>)|\n",
       "|  1   | 40/63 | tensor(5.5298, grad_fn=<NllLossBackward0>)|\n",
       "|  1   | 50/63 | tensor(5.5679, grad_fn=<NllLossBackward0>)|\n",
       "|  1   | 60/63 | tensor(5.2914, grad_fn=<NllLossBackward0>)|\n",
       "|  2   | 0/63  | tensor(5.5819, grad_fn=<NllLossBackward0>)|\n",
       "|  2   | 10/63 | tensor(5.6125, grad_fn=<NllLossBackward0>)|\n",
       "|  2   | 20/63 | tensor(5.2992, grad_fn=<NllLossBackward0>)|\n",
       "|  2   | 30/63 | tensor(5.2333, grad_fn=<NllLossBackward0>)|\n",
       "|  2   | 40/63 | tensor(5.6432, grad_fn=<NllLossBackward0>)|\n",
       "+----------------------------------------------------------+\n"
      ]
     },
     "metadata": {},
     "output_type": "display_data"
    },
    {
     "metadata": {
      "tags": null
     },
     "name": "stdout",
     "output_type": "stream",
     "text": [
      "STEP:  50 / 63\n"
     ]
    },
    {
     "data": {
      "text/html": [
       "<pre style=\"white-space:pre;overflow-x:auto;line-height:normal;font-family:Menlo,'DejaVu Sans Mono',consolas,'Courier New',monospace\"><span style=\"font-style: italic\">                      Training Status                       </span>\n",
       "+----------------------------------------------------------+\n",
       "|<span style=\"font-weight: bold\">Epoch </span>|<span style=\"font-weight: bold\"> Steps </span>|<span style=\"font-weight: bold\">                    Loss                   </span>|\n",
       "|------+-------+-------------------------------------------|\n",
       "|  0   | 0/63  | tensor(6.7876, grad_fn=&lt;NllLossBackward0&gt;)|\n",
       "|  0   | 10/63 | tensor(6.6259, grad_fn=&lt;NllLossBackward0&gt;)|\n",
       "|  0   | 20/63 | tensor(6.0840, grad_fn=&lt;NllLossBackward0&gt;)|\n",
       "|  0   | 30/63 | tensor(6.0292, grad_fn=&lt;NllLossBackward0&gt;)|\n",
       "|  0   | 40/63 | tensor(6.0061, grad_fn=&lt;NllLossBackward0&gt;)|\n",
       "|  0   | 50/63 | tensor(5.5148, grad_fn=&lt;NllLossBackward0&gt;)|\n",
       "|  0   | 60/63 | tensor(5.7161, grad_fn=&lt;NllLossBackward0&gt;)|\n",
       "|  1   | 0/63  | tensor(6.3252, grad_fn=&lt;NllLossBackward0&gt;)|\n",
       "|  1   | 10/63 | tensor(5.3373, grad_fn=&lt;NllLossBackward0&gt;)|\n",
       "|  1   | 20/63 | tensor(5.7541, grad_fn=&lt;NllLossBackward0&gt;)|\n",
       "|  1   | 30/63 | tensor(5.8530, grad_fn=&lt;NllLossBackward0&gt;)|\n",
       "|  1   | 40/63 | tensor(5.5298, grad_fn=&lt;NllLossBackward0&gt;)|\n",
       "|  1   | 50/63 | tensor(5.5679, grad_fn=&lt;NllLossBackward0&gt;)|\n",
       "|  1   | 60/63 | tensor(5.2914, grad_fn=&lt;NllLossBackward0&gt;)|\n",
       "|  2   | 0/63  | tensor(5.5819, grad_fn=&lt;NllLossBackward0&gt;)|\n",
       "|  2   | 10/63 | tensor(5.6125, grad_fn=&lt;NllLossBackward0&gt;)|\n",
       "|  2   | 20/63 | tensor(5.2992, grad_fn=&lt;NllLossBackward0&gt;)|\n",
       "|  2   | 30/63 | tensor(5.2333, grad_fn=&lt;NllLossBackward0&gt;)|\n",
       "|  2   | 40/63 | tensor(5.6432, grad_fn=&lt;NllLossBackward0&gt;)|\n",
       "|  2   | 50/63 | tensor(5.2692, grad_fn=&lt;NllLossBackward0&gt;)|\n",
       "+----------------------------------------------------------+\n",
       "</pre>\n"
      ],
      "text/plain": [
       "\u001b[3m                      Training Status                       \u001b[0m\n",
       "+----------------------------------------------------------+\n",
       "|\u001b[1mEpoch\u001b[0m\u001b[1m \u001b[0m|\u001b[1m \u001b[0m\u001b[1mSteps\u001b[0m\u001b[1m \u001b[0m|\u001b[1m \u001b[0m\u001b[1m                   Loss                   \u001b[0m|\n",
       "|------+-------+-------------------------------------------|\n",
       "|  0   | 0/63  | tensor(6.7876, grad_fn=<NllLossBackward0>)|\n",
       "|  0   | 10/63 | tensor(6.6259, grad_fn=<NllLossBackward0>)|\n",
       "|  0   | 20/63 | tensor(6.0840, grad_fn=<NllLossBackward0>)|\n",
       "|  0   | 30/63 | tensor(6.0292, grad_fn=<NllLossBackward0>)|\n",
       "|  0   | 40/63 | tensor(6.0061, grad_fn=<NllLossBackward0>)|\n",
       "|  0   | 50/63 | tensor(5.5148, grad_fn=<NllLossBackward0>)|\n",
       "|  0   | 60/63 | tensor(5.7161, grad_fn=<NllLossBackward0>)|\n",
       "|  1   | 0/63  | tensor(6.3252, grad_fn=<NllLossBackward0>)|\n",
       "|  1   | 10/63 | tensor(5.3373, grad_fn=<NllLossBackward0>)|\n",
       "|  1   | 20/63 | tensor(5.7541, grad_fn=<NllLossBackward0>)|\n",
       "|  1   | 30/63 | tensor(5.8530, grad_fn=<NllLossBackward0>)|\n",
       "|  1   | 40/63 | tensor(5.5298, grad_fn=<NllLossBackward0>)|\n",
       "|  1   | 50/63 | tensor(5.5679, grad_fn=<NllLossBackward0>)|\n",
       "|  1   | 60/63 | tensor(5.2914, grad_fn=<NllLossBackward0>)|\n",
       "|  2   | 0/63  | tensor(5.5819, grad_fn=<NllLossBackward0>)|\n",
       "|  2   | 10/63 | tensor(5.6125, grad_fn=<NllLossBackward0>)|\n",
       "|  2   | 20/63 | tensor(5.2992, grad_fn=<NllLossBackward0>)|\n",
       "|  2   | 30/63 | tensor(5.2333, grad_fn=<NllLossBackward0>)|\n",
       "|  2   | 40/63 | tensor(5.6432, grad_fn=<NllLossBackward0>)|\n",
       "|  2   | 50/63 | tensor(5.2692, grad_fn=<NllLossBackward0>)|\n",
       "+----------------------------------------------------------+\n"
      ]
     },
     "metadata": {},
     "output_type": "display_data"
    },
    {
     "metadata": {
      "tags": null
     },
     "name": "stdout",
     "output_type": "stream",
     "text": [
      "STEP:  60 / 63\n"
     ]
    },
    {
     "data": {
      "text/html": [
       "<pre style=\"white-space:pre;overflow-x:auto;line-height:normal;font-family:Menlo,'DejaVu Sans Mono',consolas,'Courier New',monospace\"><span style=\"font-style: italic\">                      Training Status                       </span>\n",
       "+----------------------------------------------------------+\n",
       "|<span style=\"font-weight: bold\">Epoch </span>|<span style=\"font-weight: bold\"> Steps </span>|<span style=\"font-weight: bold\">                    Loss                   </span>|\n",
       "|------+-------+-------------------------------------------|\n",
       "|  0   | 0/63  | tensor(6.7876, grad_fn=&lt;NllLossBackward0&gt;)|\n",
       "|  0   | 10/63 | tensor(6.6259, grad_fn=&lt;NllLossBackward0&gt;)|\n",
       "|  0   | 20/63 | tensor(6.0840, grad_fn=&lt;NllLossBackward0&gt;)|\n",
       "|  0   | 30/63 | tensor(6.0292, grad_fn=&lt;NllLossBackward0&gt;)|\n",
       "|  0   | 40/63 | tensor(6.0061, grad_fn=&lt;NllLossBackward0&gt;)|\n",
       "|  0   | 50/63 | tensor(5.5148, grad_fn=&lt;NllLossBackward0&gt;)|\n",
       "|  0   | 60/63 | tensor(5.7161, grad_fn=&lt;NllLossBackward0&gt;)|\n",
       "|  1   | 0/63  | tensor(6.3252, grad_fn=&lt;NllLossBackward0&gt;)|\n",
       "|  1   | 10/63 | tensor(5.3373, grad_fn=&lt;NllLossBackward0&gt;)|\n",
       "|  1   | 20/63 | tensor(5.7541, grad_fn=&lt;NllLossBackward0&gt;)|\n",
       "|  1   | 30/63 | tensor(5.8530, grad_fn=&lt;NllLossBackward0&gt;)|\n",
       "|  1   | 40/63 | tensor(5.5298, grad_fn=&lt;NllLossBackward0&gt;)|\n",
       "|  1   | 50/63 | tensor(5.5679, grad_fn=&lt;NllLossBackward0&gt;)|\n",
       "|  1   | 60/63 | tensor(5.2914, grad_fn=&lt;NllLossBackward0&gt;)|\n",
       "|  2   | 0/63  | tensor(5.5819, grad_fn=&lt;NllLossBackward0&gt;)|\n",
       "|  2   | 10/63 | tensor(5.6125, grad_fn=&lt;NllLossBackward0&gt;)|\n",
       "|  2   | 20/63 | tensor(5.2992, grad_fn=&lt;NllLossBackward0&gt;)|\n",
       "|  2   | 30/63 | tensor(5.2333, grad_fn=&lt;NllLossBackward0&gt;)|\n",
       "|  2   | 40/63 | tensor(5.6432, grad_fn=&lt;NllLossBackward0&gt;)|\n",
       "|  2   | 50/63 | tensor(5.2692, grad_fn=&lt;NllLossBackward0&gt;)|\n",
       "|  2   | 60/63 | tensor(5.1072, grad_fn=&lt;NllLossBackward0&gt;)|\n",
       "+----------------------------------------------------------+\n",
       "</pre>\n"
      ],
      "text/plain": [
       "\u001b[3m                      Training Status                       \u001b[0m\n",
       "+----------------------------------------------------------+\n",
       "|\u001b[1mEpoch\u001b[0m\u001b[1m \u001b[0m|\u001b[1m \u001b[0m\u001b[1mSteps\u001b[0m\u001b[1m \u001b[0m|\u001b[1m \u001b[0m\u001b[1m                   Loss                   \u001b[0m|\n",
       "|------+-------+-------------------------------------------|\n",
       "|  0   | 0/63  | tensor(6.7876, grad_fn=<NllLossBackward0>)|\n",
       "|  0   | 10/63 | tensor(6.6259, grad_fn=<NllLossBackward0>)|\n",
       "|  0   | 20/63 | tensor(6.0840, grad_fn=<NllLossBackward0>)|\n",
       "|  0   | 30/63 | tensor(6.0292, grad_fn=<NllLossBackward0>)|\n",
       "|  0   | 40/63 | tensor(6.0061, grad_fn=<NllLossBackward0>)|\n",
       "|  0   | 50/63 | tensor(5.5148, grad_fn=<NllLossBackward0>)|\n",
       "|  0   | 60/63 | tensor(5.7161, grad_fn=<NllLossBackward0>)|\n",
       "|  1   | 0/63  | tensor(6.3252, grad_fn=<NllLossBackward0>)|\n",
       "|  1   | 10/63 | tensor(5.3373, grad_fn=<NllLossBackward0>)|\n",
       "|  1   | 20/63 | tensor(5.7541, grad_fn=<NllLossBackward0>)|\n",
       "|  1   | 30/63 | tensor(5.8530, grad_fn=<NllLossBackward0>)|\n",
       "|  1   | 40/63 | tensor(5.5298, grad_fn=<NllLossBackward0>)|\n",
       "|  1   | 50/63 | tensor(5.5679, grad_fn=<NllLossBackward0>)|\n",
       "|  1   | 60/63 | tensor(5.2914, grad_fn=<NllLossBackward0>)|\n",
       "|  2   | 0/63  | tensor(5.5819, grad_fn=<NllLossBackward0>)|\n",
       "|  2   | 10/63 | tensor(5.6125, grad_fn=<NllLossBackward0>)|\n",
       "|  2   | 20/63 | tensor(5.2992, grad_fn=<NllLossBackward0>)|\n",
       "|  2   | 30/63 | tensor(5.2333, grad_fn=<NllLossBackward0>)|\n",
       "|  2   | 40/63 | tensor(5.6432, grad_fn=<NllLossBackward0>)|\n",
       "|  2   | 50/63 | tensor(5.2692, grad_fn=<NllLossBackward0>)|\n",
       "|  2   | 60/63 | tensor(5.1072, grad_fn=<NllLossBackward0>)|\n",
       "+----------------------------------------------------------+\n"
      ]
     },
     "metadata": {},
     "output_type": "display_data"
    },
    {
     "data": {
      "text/html": [
       "<pre style=\"white-space:pre;overflow-x:auto;line-height:normal;font-family:Menlo,'DejaVu Sans Mono',consolas,'Courier New',monospace\">Completed <span style=\"color: #008080; text-decoration-color: #008080; font-weight: bold\">0</span>\n",
       "</pre>\n"
      ],
      "text/plain": [
       "Completed \u001b[1;36m0\u001b[0m\n"
      ]
     },
     "metadata": {},
     "output_type": "display_data"
    },
    {
     "data": {
      "text/html": [
       "<pre style=\"white-space:pre;overflow-x:auto;line-height:normal;font-family:Menlo,'DejaVu Sans Mono',consolas,'Courier New',monospace\">Completed <span style=\"color: #008080; text-decoration-color: #008080; font-weight: bold\">10</span>\n",
       "</pre>\n"
      ],
      "text/plain": [
       "Completed \u001b[1;36m10\u001b[0m\n"
      ]
     },
     "metadata": {},
     "output_type": "display_data"
    },
    {
     "data": {
      "text/html": [
       "<pre style=\"white-space:pre;overflow-x:auto;line-height:normal;font-family:Menlo,'DejaVu Sans Mono',consolas,'Courier New',monospace\">Completed <span style=\"color: #008080; text-decoration-color: #008080; font-weight: bold\">20</span>\n",
       "</pre>\n"
      ],
      "text/plain": [
       "Completed \u001b[1;36m20\u001b[0m\n"
      ]
     },
     "metadata": {},
     "output_type": "display_data"
    },
    {
     "data": {
      "text/html": [
       "<pre style=\"white-space:pre;overflow-x:auto;line-height:normal;font-family:Menlo,'DejaVu Sans Mono',consolas,'Courier New',monospace\">Completed <span style=\"color: #008080; text-decoration-color: #008080; font-weight: bold\">30</span>\n",
       "</pre>\n"
      ],
      "text/plain": [
       "Completed \u001b[1;36m30\u001b[0m\n"
      ]
     },
     "metadata": {},
     "output_type": "display_data"
    },
    {
     "data": {
      "text/html": [
       "<pre style=\"white-space:pre;overflow-x:auto;line-height:normal;font-family:Menlo,'DejaVu Sans Mono',consolas,'Courier New',monospace\">Completed <span style=\"color: #008080; text-decoration-color: #008080; font-weight: bold\">40</span>\n",
       "</pre>\n"
      ],
      "text/plain": [
       "Completed \u001b[1;36m40\u001b[0m\n"
      ]
     },
     "metadata": {},
     "output_type": "display_data"
    },
    {
     "data": {
      "text/html": [
       "<pre style=\"white-space:pre;overflow-x:auto;line-height:normal;font-family:Menlo,'DejaVu Sans Mono',consolas,'Courier New',monospace\">Completed <span style=\"color: #008080; text-decoration-color: #008080; font-weight: bold\">50</span>\n",
       "</pre>\n"
      ],
      "text/plain": [
       "Completed \u001b[1;36m50\u001b[0m\n"
      ]
     },
     "metadata": {},
     "output_type": "display_data"
    },
    {
     "data": {
      "text/html": [
       "<pre style=\"white-space:pre;overflow-x:auto;line-height:normal;font-family:Menlo,'DejaVu Sans Mono',consolas,'Courier New',monospace\">Completed <span style=\"color: #008080; text-decoration-color: #008080; font-weight: bold\">60</span>\n",
       "</pre>\n"
      ],
      "text/plain": [
       "Completed \u001b[1;36m60\u001b[0m\n"
      ]
     },
     "metadata": {},
     "output_type": "display_data"
    },
    {
     "name": "stdout",
     "output_type": "stream",
     "text": [
      "SAVE TO CSV FINISHED\n",
      "SAVE ROUGE TO CSV FINISHED\n"
     ]
    },
    {
     "data": {
      "text/html": [
       "<pre style=\"white-space:pre;overflow-x:auto;line-height:normal;font-family:Menlo,'DejaVu Sans Mono',consolas,'Courier New',monospace\"><span style=\"color: #7fbfbf; text-decoration-color: #7fbfbf\">[13:26:42] </span><span style=\"font-weight: bold\">[</span>Saving Model<span style=\"font-weight: bold\">]</span><span style=\"color: #808000; text-decoration-color: #808000\">...</span>                               <span style=\"color: #7f7f7f; text-decoration-color: #7f7f7f\">&lt;ipython-input-8-8830e8dcc794&gt;:126</span>\n",
       "<span style=\"color: #7fbfbf; text-decoration-color: #7fbfbf\">           </span>                                                <span style=\"color: #7f7f7f; text-decoration-color: #7f7f7f\">                                  </span>\n",
       "</pre>\n"
      ],
      "text/plain": [
       "\u001b[2;36m[13:26:42]\u001b[0m\u001b[2;36m \u001b[0m\u001b[1m[\u001b[0mSaving Model\u001b[1m]\u001b[0m\u001b[33m...\u001b[0m                               \u001b[2m<ipython-input-8-8830e8dcc794>\u001b[0m\u001b[2m:\u001b[0m\u001b[2m126\u001b[0m\n",
       "\u001b[2;36m           \u001b[0m                                                \u001b[2m                                  \u001b[0m\n"
      ]
     },
     "metadata": {},
     "output_type": "display_data"
    },
    {
     "data": {
      "text/html": [
       "<pre style=\"white-space:pre;overflow-x:auto;line-height:normal;font-family:Menlo,'DejaVu Sans Mono',consolas,'Courier New',monospace\"><span style=\"color: #7fbfbf; text-decoration-color: #7fbfbf\">[13:26:43] </span><span style=\"font-weight: bold\">[</span>Validation Completed.<span style=\"font-weight: bold\">]</span>                         <span style=\"color: #7f7f7f; text-decoration-color: #7f7f7f\">&lt;ipython-input-8-8830e8dcc794&gt;:138</span>\n",
       "<span style=\"color: #7fbfbf; text-decoration-color: #7fbfbf\">           </span>                                                <span style=\"color: #7f7f7f; text-decoration-color: #7f7f7f\">                                  </span>\n",
       "</pre>\n"
      ],
      "text/plain": [
       "\u001b[2;36m[13:26:43]\u001b[0m\u001b[2;36m \u001b[0m\u001b[1m[\u001b[0mValidation Completed.\u001b[1m]\u001b[0m                         \u001b[2m<ipython-input-8-8830e8dcc794>\u001b[0m\u001b[2m:\u001b[0m\u001b[2m138\u001b[0m\n",
       "\u001b[2;36m           \u001b[0m                                                \u001b[2m                                  \u001b[0m\n"
      ]
     },
     "metadata": {},
     "output_type": "display_data"
    },
    {
     "data": {
      "text/html": [
       "<pre style=\"white-space:pre;overflow-x:auto;line-height:normal;font-family:Menlo,'DejaVu Sans Mono',consolas,'Courier New',monospace\"><span style=\"font-weight: bold\">[</span>Model<span style=\"font-weight: bold\">]</span> Model saved @ .<span style=\"color: #800080; text-decoration-color: #800080\">/outputs/</span><span style=\"color: #ff00ff; text-decoration-color: #ff00ff\">model_files</span>\n",
       "\n",
       "</pre>\n"
      ],
      "text/plain": [
       "\u001b[1m[\u001b[0mModel\u001b[1m]\u001b[0m Model saved @ .\u001b[35m/outputs/\u001b[0m\u001b[95mmodel_files\u001b[0m\n",
       "\n"
      ]
     },
     "metadata": {},
     "output_type": "display_data"
    },
    {
     "data": {
      "text/html": [
       "<pre style=\"white-space:pre;overflow-x:auto;line-height:normal;font-family:Menlo,'DejaVu Sans Mono',consolas,'Courier New',monospace\"><span style=\"font-weight: bold\">[</span>Validation<span style=\"font-weight: bold\">]</span> Generation on Validation data saved @ .<span style=\"color: #800080; text-decoration-color: #800080\">/outputs/</span><span style=\"color: #ff00ff; text-decoration-color: #ff00ff\">predictions.csv</span>\n",
       "\n",
       "</pre>\n"
      ],
      "text/plain": [
       "\u001b[1m[\u001b[0mValidation\u001b[1m]\u001b[0m Generation on Validation data saved @ .\u001b[35m/outputs/\u001b[0m\u001b[95mpredictions.csv\u001b[0m\n",
       "\n"
      ]
     },
     "metadata": {},
     "output_type": "display_data"
    },
    {
     "data": {
      "text/html": [
       "<pre style=\"white-space:pre;overflow-x:auto;line-height:normal;font-family:Menlo,'DejaVu Sans Mono',consolas,'Courier New',monospace\"><span style=\"font-weight: bold\">[</span>Logs<span style=\"font-weight: bold\">]</span> Logs saved @ .<span style=\"color: #800080; text-decoration-color: #800080\">/outputs/</span><span style=\"color: #ff00ff; text-decoration-color: #ff00ff\">logs.txt</span>\n",
       "\n",
       "</pre>\n"
      ],
      "text/plain": [
       "\u001b[1m[\u001b[0mLogs\u001b[1m]\u001b[0m Logs saved @ .\u001b[35m/outputs/\u001b[0m\u001b[95mlogs.txt\u001b[0m\n",
       "\n"
      ]
     },
     "metadata": {},
     "output_type": "display_data"
    }
   ],
   "source": [
    "console = Console(record=True)\n",
    "\n",
    "training_logger = Table(\n",
    "    Column(\"Epoch\", justify=\"center\"),\n",
    "    Column(\"Steps\", justify=\"center\"),\n",
    "    Column(\"Loss\", justify=\"center\"),\n",
    "    title=\"Training Status\",\n",
    "    pad_edge=False,\n",
    "    box=box.ASCII,\n",
    ")\n",
    "\n",
    "Trainer(\n",
    "    dataset=dataset,\n",
    "    source_text=source_text, \n",
    "    target_text=target_text,\n",
    "    model_params=model_params,\n",
    "    output_dir=f\"\"\"./outputs/\"\"\",\n",
    "    device = device,\n",
    ")\n"
   ]
  },
  {
   "cell_type": "markdown",
   "id": "f53d1cbf-a541-4f96-b4bf-978b35bdb629",
   "metadata": {
    "id": "f53d1cbf-a541-4f96-b4bf-978b35bdb629"
   },
   "source": [
    "#### But is ROUGE score the best metric to evaluatate a summary?\n",
    "\n",
    "Here are examples of the generated text. Let's take a closer look at the results.\n",
    "\n",
    "##### Example 1:\n",
    "\n",
    "![](images/generatedexample.png)\n",
    "\n",
    "At the highlighted row, you will notice that in the Generated Text, it exists `Graeme Roy`, while the Actual Summary it is `Jason Roy`\n",
    "\n",
    "##### Example 2:\n",
    "\n",
    "![](images/generatedtext.png)\n",
    "\n",
    "![](images/actualtext.png)\n",
    "\n",
    "You can see that the name `Yvette Cooper` is contained in the sample **8th** of the Actual Summary, but it appeared in the sample **71st** of the Generated Text.\n",
    "\n",
    "This problem is called **Name Entity Halluciation**  which is one of comon problems found in Text Summarization task. Since summarization models are optimized to generate summaries that highly overlap with human references, the faithfulness of the summary is not guaranteed. ROUGE Score is insensitive to semantic errors.\n",
    "\n",
    "These n-gram based approaches weight all portions of the text equally, even when only a small fraction of the n-grams carry most of the semantic content. As a result, factual inconsistency caused by small changes may be drowned out by otherwise high n-gram overlap. \n",
    "\n",
    "Another type of problem is called **Factual Consistency** <br>\n",
    "For example: <br>\n",
    "the sentence: `My name is Beau.` and <br> \n",
    "the sentence: `My name is not Beau.` <br>\n",
    "share nearly all unigrams and bigrams despite having the opposite meaning. "
   ]
  },
  {
   "cell_type": "markdown",
   "id": "ec221e15-4873-43e6-934a-ca2fc461196e",
   "metadata": {
    "id": "ec221e15-4873-43e6-934a-ca2fc461196e"
   },
   "source": [
    "### Q2. Please spend some time explore 2 useful metrices that can be used to evaluate summary. Explain what they are briefly and explain how they could be useful and why could they not. (1 pt)"
   ]
  },
  {
   "cell_type": "markdown",
   "id": "7b5b9d6e-5d3c-4917-95ff-957243ca8ad9",
   "metadata": {
    "id": "7b5b9d6e-5d3c-4917-95ff-957243ca8ad9"
   },
   "source": [
    "#### <font color=\"red\">Write your answer here.</font> "
   ]
  },
  {
   "cell_type": "markdown",
   "id": "11b854f9-0416-4ef4-844e-f4c1089405b9",
   "metadata": {
    "id": "11b854f9-0416-4ef4-844e-f4c1089405b9"
   },
   "source": [
    "### Reference:\n",
    "https://paperswithcode.com/method/t5#:~:text=T5%2C%20or%20Text%2Dto%2D,to%20generate%20some%20target%20text."
   ]
  },
  {
   "cell_type": "code",
   "execution_count": 13,
   "id": "05920693-935a-453e-845c-85edd19c06a7",
   "metadata": {
    "id": "05920693-935a-453e-845c-85edd19c06a7"
   },
   "outputs": [],
   "source": []
  }
 ],
 "metadata": {
  "colab": {
   "name": "A5 Seq2Seq Part II.ipynb",
   "provenance": []
  },
  "kernelspec": {
   "display_name": "Python 3 (ipykernel)",
   "language": "python",
   "name": "python3"
  },
  "language_info": {
   "codemirror_mode": {
    "name": "ipython",
    "version": 3
   },
   "file_extension": ".py",
   "mimetype": "text/x-python",
   "name": "python",
   "nbconvert_exporter": "python",
   "pygments_lexer": "ipython3",
   "version": "3.9.6"
  },
  "widgets": {
   "application/vnd.jupyter.widget-state+json": {
    "0138dc4a190b478bbe4a9bc69643c2c6": {
     "model_module": "@jupyter-widgets/base",
     "model_module_version": "1.2.0",
     "model_name": "LayoutModel",
     "state": {
      "_model_module": "@jupyter-widgets/base",
      "_model_module_version": "1.2.0",
      "_model_name": "LayoutModel",
      "_view_count": null,
      "_view_module": "@jupyter-widgets/base",
      "_view_module_version": "1.2.0",
      "_view_name": "LayoutView",
      "align_content": null,
      "align_items": null,
      "align_self": null,
      "border": null,
      "bottom": null,
      "display": null,
      "flex": null,
      "flex_flow": null,
      "grid_area": null,
      "grid_auto_columns": null,
      "grid_auto_flow": null,
      "grid_auto_rows": null,
      "grid_column": null,
      "grid_gap": null,
      "grid_row": null,
      "grid_template_areas": null,
      "grid_template_columns": null,
      "grid_template_rows": null,
      "height": null,
      "justify_content": null,
      "justify_items": null,
      "left": null,
      "margin": null,
      "max_height": null,
      "max_width": null,
      "min_height": null,
      "min_width": null,
      "object_fit": null,
      "object_position": null,
      "order": null,
      "overflow": null,
      "overflow_x": null,
      "overflow_y": null,
      "padding": null,
      "right": null,
      "top": null,
      "visibility": null,
      "width": null
     }
    },
    "02f0c56e38a94e61bfdda0d1645ace31": {
     "model_module": "@jupyter-widgets/controls",
     "model_module_version": "1.5.0",
     "model_name": "DescriptionStyleModel",
     "state": {
      "_model_module": "@jupyter-widgets/controls",
      "_model_module_version": "1.5.0",
      "_model_name": "DescriptionStyleModel",
      "_view_count": null,
      "_view_module": "@jupyter-widgets/base",
      "_view_module_version": "1.2.0",
      "_view_name": "StyleView",
      "description_width": ""
     }
    },
    "032b79be70a849cf8402d9177d11da9c": {
     "model_module": "@jupyter-widgets/base",
     "model_module_version": "1.2.0",
     "model_name": "LayoutModel",
     "state": {
      "_model_module": "@jupyter-widgets/base",
      "_model_module_version": "1.2.0",
      "_model_name": "LayoutModel",
      "_view_count": null,
      "_view_module": "@jupyter-widgets/base",
      "_view_module_version": "1.2.0",
      "_view_name": "LayoutView",
      "align_content": null,
      "align_items": null,
      "align_self": null,
      "border": null,
      "bottom": null,
      "display": null,
      "flex": null,
      "flex_flow": null,
      "grid_area": null,
      "grid_auto_columns": null,
      "grid_auto_flow": null,
      "grid_auto_rows": null,
      "grid_column": null,
      "grid_gap": null,
      "grid_row": null,
      "grid_template_areas": null,
      "grid_template_columns": null,
      "grid_template_rows": null,
      "height": null,
      "justify_content": null,
      "justify_items": null,
      "left": null,
      "margin": null,
      "max_height": null,
      "max_width": null,
      "min_height": null,
      "min_width": null,
      "object_fit": null,
      "object_position": null,
      "order": null,
      "overflow": null,
      "overflow_x": null,
      "overflow_y": null,
      "padding": null,
      "right": null,
      "top": null,
      "visibility": null,
      "width": null
     }
    },
    "063972864fe84abfa2013fadd6cec4cf": {
     "model_module": "@jupyter-widgets/controls",
     "model_module_version": "1.5.0",
     "model_name": "DescriptionStyleModel",
     "state": {
      "_model_module": "@jupyter-widgets/controls",
      "_model_module_version": "1.5.0",
      "_model_name": "DescriptionStyleModel",
      "_view_count": null,
      "_view_module": "@jupyter-widgets/base",
      "_view_module_version": "1.2.0",
      "_view_name": "StyleView",
      "description_width": ""
     }
    },
    "06a30516e73b42fab2040b99c19b0985": {
     "model_module": "@jupyter-widgets/base",
     "model_module_version": "1.2.0",
     "model_name": "LayoutModel",
     "state": {
      "_model_module": "@jupyter-widgets/base",
      "_model_module_version": "1.2.0",
      "_model_name": "LayoutModel",
      "_view_count": null,
      "_view_module": "@jupyter-widgets/base",
      "_view_module_version": "1.2.0",
      "_view_name": "LayoutView",
      "align_content": null,
      "align_items": null,
      "align_self": null,
      "border": null,
      "bottom": null,
      "display": null,
      "flex": null,
      "flex_flow": null,
      "grid_area": null,
      "grid_auto_columns": null,
      "grid_auto_flow": null,
      "grid_auto_rows": null,
      "grid_column": null,
      "grid_gap": null,
      "grid_row": null,
      "grid_template_areas": null,
      "grid_template_columns": null,
      "grid_template_rows": null,
      "height": null,
      "justify_content": null,
      "justify_items": null,
      "left": null,
      "margin": null,
      "max_height": null,
      "max_width": null,
      "min_height": null,
      "min_width": null,
      "object_fit": null,
      "object_position": null,
      "order": null,
      "overflow": null,
      "overflow_x": null,
      "overflow_y": null,
      "padding": null,
      "right": null,
      "top": null,
      "visibility": null,
      "width": null
     }
    },
    "0922ca94eb8c4f6f8d7c1f5a92a61695": {
     "model_module": "@jupyter-widgets/controls",
     "model_module_version": "1.5.0",
     "model_name": "HBoxModel",
     "state": {
      "_dom_classes": [],
      "_model_module": "@jupyter-widgets/controls",
      "_model_module_version": "1.5.0",
      "_model_name": "HBoxModel",
      "_view_count": null,
      "_view_module": "@jupyter-widgets/controls",
      "_view_module_version": "1.5.0",
      "_view_name": "HBoxView",
      "box_style": "",
      "children": [
       "IPY_MODEL_32661caeac90472a87b9e38b98f0b926",
       "IPY_MODEL_6f92a22e03e041bfbfcfe00a77626e20",
       "IPY_MODEL_391d511e3521404c8d6f2ae36295f3aa"
      ],
      "layout": "IPY_MODEL_4981d146bc3b4609859d3dc2cb2b0fbc"
     }
    },
    "0d00b0ab3d404bdda0bfda30c617a235": {
     "model_module": "@jupyter-widgets/controls",
     "model_module_version": "1.5.0",
     "model_name": "DescriptionStyleModel",
     "state": {
      "_model_module": "@jupyter-widgets/controls",
      "_model_module_version": "1.5.0",
      "_model_name": "DescriptionStyleModel",
      "_view_count": null,
      "_view_module": "@jupyter-widgets/base",
      "_view_module_version": "1.2.0",
      "_view_name": "StyleView",
      "description_width": ""
     }
    },
    "1040f397f49546aeb9ed7a203fe151a5": {
     "model_module": "@jupyter-widgets/base",
     "model_module_version": "1.2.0",
     "model_name": "LayoutModel",
     "state": {
      "_model_module": "@jupyter-widgets/base",
      "_model_module_version": "1.2.0",
      "_model_name": "LayoutModel",
      "_view_count": null,
      "_view_module": "@jupyter-widgets/base",
      "_view_module_version": "1.2.0",
      "_view_name": "LayoutView",
      "align_content": null,
      "align_items": null,
      "align_self": null,
      "border": null,
      "bottom": null,
      "display": null,
      "flex": null,
      "flex_flow": null,
      "grid_area": null,
      "grid_auto_columns": null,
      "grid_auto_flow": null,
      "grid_auto_rows": null,
      "grid_column": null,
      "grid_gap": null,
      "grid_row": null,
      "grid_template_areas": null,
      "grid_template_columns": null,
      "grid_template_rows": null,
      "height": null,
      "justify_content": null,
      "justify_items": null,
      "left": null,
      "margin": null,
      "max_height": null,
      "max_width": null,
      "min_height": null,
      "min_width": null,
      "object_fit": null,
      "object_position": null,
      "order": null,
      "overflow": null,
      "overflow_x": null,
      "overflow_y": null,
      "padding": null,
      "right": null,
      "top": null,
      "visibility": null,
      "width": null
     }
    },
    "127e74458ec8468280730300a9b586d4": {
     "model_module": "@jupyter-widgets/controls",
     "model_module_version": "1.5.0",
     "model_name": "HBoxModel",
     "state": {
      "_dom_classes": [],
      "_model_module": "@jupyter-widgets/controls",
      "_model_module_version": "1.5.0",
      "_model_name": "HBoxModel",
      "_view_count": null,
      "_view_module": "@jupyter-widgets/controls",
      "_view_module_version": "1.5.0",
      "_view_name": "HBoxView",
      "box_style": "",
      "children": [
       "IPY_MODEL_8b4901158a3c4b3e96a5e400334e032b",
       "IPY_MODEL_2bbb2096d2c2440a9ceebf763f1f9629",
       "IPY_MODEL_6384bb485f3744749a0567e2accb838e"
      ],
      "layout": "IPY_MODEL_26d727dca9a04020bee6ac8d1fac0db1"
     }
    },
    "1599590e4eaa4ff7a8a942cd0da1115d": {
     "model_module": "@jupyter-widgets/base",
     "model_module_version": "1.2.0",
     "model_name": "LayoutModel",
     "state": {
      "_model_module": "@jupyter-widgets/base",
      "_model_module_version": "1.2.0",
      "_model_name": "LayoutModel",
      "_view_count": null,
      "_view_module": "@jupyter-widgets/base",
      "_view_module_version": "1.2.0",
      "_view_name": "LayoutView",
      "align_content": null,
      "align_items": null,
      "align_self": null,
      "border": null,
      "bottom": null,
      "display": null,
      "flex": null,
      "flex_flow": null,
      "grid_area": null,
      "grid_auto_columns": null,
      "grid_auto_flow": null,
      "grid_auto_rows": null,
      "grid_column": null,
      "grid_gap": null,
      "grid_row": null,
      "grid_template_areas": null,
      "grid_template_columns": null,
      "grid_template_rows": null,
      "height": null,
      "justify_content": null,
      "justify_items": null,
      "left": null,
      "margin": null,
      "max_height": null,
      "max_width": null,
      "min_height": null,
      "min_width": null,
      "object_fit": null,
      "object_position": null,
      "order": null,
      "overflow": null,
      "overflow_x": null,
      "overflow_y": null,
      "padding": null,
      "right": null,
      "top": null,
      "visibility": null,
      "width": "20px"
     }
    },
    "16ce1488733e4997bc9ad877053fb76a": {
     "model_module": "@jupyter-widgets/controls",
     "model_module_version": "1.5.0",
     "model_name": "ProgressStyleModel",
     "state": {
      "_model_module": "@jupyter-widgets/controls",
      "_model_module_version": "1.5.0",
      "_model_name": "ProgressStyleModel",
      "_view_count": null,
      "_view_module": "@jupyter-widgets/base",
      "_view_module_version": "1.2.0",
      "_view_name": "StyleView",
      "bar_color": null,
      "description_width": ""
     }
    },
    "19a912c23981460e9377d467520606f3": {
     "model_module": "@jupyter-widgets/controls",
     "model_module_version": "1.5.0",
     "model_name": "DescriptionStyleModel",
     "state": {
      "_model_module": "@jupyter-widgets/controls",
      "_model_module_version": "1.5.0",
      "_model_name": "DescriptionStyleModel",
      "_view_count": null,
      "_view_module": "@jupyter-widgets/base",
      "_view_module_version": "1.2.0",
      "_view_name": "StyleView",
      "description_width": ""
     }
    },
    "1c2f7d63c86b4173881ceddba98c1f35": {
     "model_module": "@jupyter-widgets/base",
     "model_module_version": "1.2.0",
     "model_name": "LayoutModel",
     "state": {
      "_model_module": "@jupyter-widgets/base",
      "_model_module_version": "1.2.0",
      "_model_name": "LayoutModel",
      "_view_count": null,
      "_view_module": "@jupyter-widgets/base",
      "_view_module_version": "1.2.0",
      "_view_name": "LayoutView",
      "align_content": null,
      "align_items": null,
      "align_self": null,
      "border": null,
      "bottom": null,
      "display": null,
      "flex": null,
      "flex_flow": null,
      "grid_area": null,
      "grid_auto_columns": null,
      "grid_auto_flow": null,
      "grid_auto_rows": null,
      "grid_column": null,
      "grid_gap": null,
      "grid_row": null,
      "grid_template_areas": null,
      "grid_template_columns": null,
      "grid_template_rows": null,
      "height": null,
      "justify_content": null,
      "justify_items": null,
      "left": null,
      "margin": null,
      "max_height": null,
      "max_width": null,
      "min_height": null,
      "min_width": null,
      "object_fit": null,
      "object_position": null,
      "order": null,
      "overflow": null,
      "overflow_x": null,
      "overflow_y": null,
      "padding": null,
      "right": null,
      "top": null,
      "visibility": null,
      "width": null
     }
    },
    "1e465e92106747e4b66ddfd5cd4d1303": {
     "model_module": "@jupyter-widgets/controls",
     "model_module_version": "1.5.0",
     "model_name": "DescriptionStyleModel",
     "state": {
      "_model_module": "@jupyter-widgets/controls",
      "_model_module_version": "1.5.0",
      "_model_name": "DescriptionStyleModel",
      "_view_count": null,
      "_view_module": "@jupyter-widgets/base",
      "_view_module_version": "1.2.0",
      "_view_name": "StyleView",
      "description_width": ""
     }
    },
    "21053cb36e2243428d47d8f6d6b21ff2": {
     "model_module": "@jupyter-widgets/base",
     "model_module_version": "1.2.0",
     "model_name": "LayoutModel",
     "state": {
      "_model_module": "@jupyter-widgets/base",
      "_model_module_version": "1.2.0",
      "_model_name": "LayoutModel",
      "_view_count": null,
      "_view_module": "@jupyter-widgets/base",
      "_view_module_version": "1.2.0",
      "_view_name": "LayoutView",
      "align_content": null,
      "align_items": null,
      "align_self": null,
      "border": null,
      "bottom": null,
      "display": null,
      "flex": null,
      "flex_flow": null,
      "grid_area": null,
      "grid_auto_columns": null,
      "grid_auto_flow": null,
      "grid_auto_rows": null,
      "grid_column": null,
      "grid_gap": null,
      "grid_row": null,
      "grid_template_areas": null,
      "grid_template_columns": null,
      "grid_template_rows": null,
      "height": null,
      "justify_content": null,
      "justify_items": null,
      "left": null,
      "margin": null,
      "max_height": null,
      "max_width": null,
      "min_height": null,
      "min_width": null,
      "object_fit": null,
      "object_position": null,
      "order": null,
      "overflow": null,
      "overflow_x": null,
      "overflow_y": null,
      "padding": null,
      "right": null,
      "top": null,
      "visibility": null,
      "width": null
     }
    },
    "26d727dca9a04020bee6ac8d1fac0db1": {
     "model_module": "@jupyter-widgets/base",
     "model_module_version": "1.2.0",
     "model_name": "LayoutModel",
     "state": {
      "_model_module": "@jupyter-widgets/base",
      "_model_module_version": "1.2.0",
      "_model_name": "LayoutModel",
      "_view_count": null,
      "_view_module": "@jupyter-widgets/base",
      "_view_module_version": "1.2.0",
      "_view_name": "LayoutView",
      "align_content": null,
      "align_items": null,
      "align_self": null,
      "border": null,
      "bottom": null,
      "display": null,
      "flex": null,
      "flex_flow": null,
      "grid_area": null,
      "grid_auto_columns": null,
      "grid_auto_flow": null,
      "grid_auto_rows": null,
      "grid_column": null,
      "grid_gap": null,
      "grid_row": null,
      "grid_template_areas": null,
      "grid_template_columns": null,
      "grid_template_rows": null,
      "height": null,
      "justify_content": null,
      "justify_items": null,
      "left": null,
      "margin": null,
      "max_height": null,
      "max_width": null,
      "min_height": null,
      "min_width": null,
      "object_fit": null,
      "object_position": null,
      "order": null,
      "overflow": null,
      "overflow_x": null,
      "overflow_y": null,
      "padding": null,
      "right": null,
      "top": null,
      "visibility": null,
      "width": null
     }
    },
    "2a0946d1f38146168385d078fc65eada": {
     "model_module": "@jupyter-widgets/controls",
     "model_module_version": "1.5.0",
     "model_name": "HTMLModel",
     "state": {
      "_dom_classes": [],
      "_model_module": "@jupyter-widgets/controls",
      "_model_module_version": "1.5.0",
      "_model_name": "HTMLModel",
      "_view_count": null,
      "_view_module": "@jupyter-widgets/controls",
      "_view_module_version": "1.5.0",
      "_view_name": "HTMLView",
      "description": "",
      "description_tooltip": null,
      "layout": "IPY_MODEL_8d7172c309ed4e0ba20e2fade7001575",
      "placeholder": "​",
      "style": "IPY_MODEL_804a1ea9f4a6443e819914508bdf83a7",
      "value": " 203846/0 [00:47&lt;00:00, 4457.08 examples/s]"
     }
    },
    "2a1e9e3b7539469b851ea1f8d501b81b": {
     "model_module": "@jupyter-widgets/controls",
     "model_module_version": "1.5.0",
     "model_name": "DescriptionStyleModel",
     "state": {
      "_model_module": "@jupyter-widgets/controls",
      "_model_module_version": "1.5.0",
      "_model_name": "DescriptionStyleModel",
      "_view_count": null,
      "_view_module": "@jupyter-widgets/base",
      "_view_module_version": "1.2.0",
      "_view_name": "StyleView",
      "description_width": ""
     }
    },
    "2bbb2096d2c2440a9ceebf763f1f9629": {
     "model_module": "@jupyter-widgets/controls",
     "model_module_version": "1.5.0",
     "model_name": "FloatProgressModel",
     "state": {
      "_dom_classes": [],
      "_model_module": "@jupyter-widgets/controls",
      "_model_module_version": "1.5.0",
      "_model_name": "FloatProgressModel",
      "_view_count": null,
      "_view_module": "@jupyter-widgets/controls",
      "_view_module_version": "1.5.0",
      "_view_name": "ProgressView",
      "bar_style": "success",
      "description": "",
      "description_tooltip": null,
      "layout": "IPY_MODEL_8df3ee3368dd46bdb8ec4e7d752a8712",
      "max": 254582292,
      "min": 0,
      "orientation": "horizontal",
      "style": "IPY_MODEL_16ce1488733e4997bc9ad877053fb76a",
      "value": 254582292
     }
    },
    "2e2ea2bc3acc4ce78ec9bc731d2ef133": {
     "model_module": "@jupyter-widgets/controls",
     "model_module_version": "1.5.0",
     "model_name": "FloatProgressModel",
     "state": {
      "_dom_classes": [],
      "_model_module": "@jupyter-widgets/controls",
      "_model_module_version": "1.5.0",
      "_model_name": "FloatProgressModel",
      "_view_count": null,
      "_view_module": "@jupyter-widgets/controls",
      "_view_module_version": "1.5.0",
      "_view_name": "ProgressView",
      "bar_style": "success",
      "description": "",
      "description_tooltip": null,
      "layout": "IPY_MODEL_032b79be70a849cf8402d9177d11da9c",
      "max": 954,
      "min": 0,
      "orientation": "horizontal",
      "style": "IPY_MODEL_a0345bd952534261aa8fcff01310055c",
      "value": 954
     }
    },
    "2f6543c408e240fda41b92ea6190b329": {
     "model_module": "@jupyter-widgets/controls",
     "model_module_version": "1.5.0",
     "model_name": "FloatProgressModel",
     "state": {
      "_dom_classes": [],
      "_model_module": "@jupyter-widgets/controls",
      "_model_module_version": "1.5.0",
      "_model_name": "FloatProgressModel",
      "_view_count": null,
      "_view_module": "@jupyter-widgets/controls",
      "_view_module_version": "1.5.0",
      "_view_name": "ProgressView",
      "bar_style": "success",
      "description": "",
      "description_tooltip": null,
      "layout": "IPY_MODEL_4884749777bd43ad90fa1c4dce884768",
      "max": 1001503,
      "min": 0,
      "orientation": "horizontal",
      "style": "IPY_MODEL_cc30da002321497d8298c2c1b20a7234",
      "value": 1001503
     }
    },
    "305e57d0b0ee42caae5592dc1c11df1f": {
     "model_module": "@jupyter-widgets/base",
     "model_module_version": "1.2.0",
     "model_name": "LayoutModel",
     "state": {
      "_model_module": "@jupyter-widgets/base",
      "_model_module_version": "1.2.0",
      "_model_name": "LayoutModel",
      "_view_count": null,
      "_view_module": "@jupyter-widgets/base",
      "_view_module_version": "1.2.0",
      "_view_name": "LayoutView",
      "align_content": null,
      "align_items": null,
      "align_self": null,
      "border": null,
      "bottom": null,
      "display": null,
      "flex": null,
      "flex_flow": null,
      "grid_area": null,
      "grid_auto_columns": null,
      "grid_auto_flow": null,
      "grid_auto_rows": null,
      "grid_column": null,
      "grid_gap": null,
      "grid_row": null,
      "grid_template_areas": null,
      "grid_template_columns": null,
      "grid_template_rows": null,
      "height": null,
      "justify_content": null,
      "justify_items": null,
      "left": null,
      "margin": null,
      "max_height": null,
      "max_width": null,
      "min_height": null,
      "min_width": null,
      "object_fit": null,
      "object_position": null,
      "order": null,
      "overflow": null,
      "overflow_x": null,
      "overflow_y": null,
      "padding": null,
      "right": null,
      "top": null,
      "visibility": null,
      "width": null
     }
    },
    "32661caeac90472a87b9e38b98f0b926": {
     "model_module": "@jupyter-widgets/controls",
     "model_module_version": "1.5.0",
     "model_name": "HTMLModel",
     "state": {
      "_dom_classes": [],
      "_model_module": "@jupyter-widgets/controls",
      "_model_module_version": "1.5.0",
      "_model_name": "HTMLModel",
      "_view_count": null,
      "_view_module": "@jupyter-widgets/controls",
      "_view_module_version": "1.5.0",
      "_view_name": "HTMLView",
      "description": "",
      "description_tooltip": null,
      "layout": "IPY_MODEL_8aeb2eecfe1f4b35889d1aa45538ac77",
      "placeholder": "​",
      "style": "IPY_MODEL_57f56368328648048ee499f0a87eae39",
      "value": ""
     }
    },
    "391d511e3521404c8d6f2ae36295f3aa": {
     "model_module": "@jupyter-widgets/controls",
     "model_module_version": "1.5.0",
     "model_name": "HTMLModel",
     "state": {
      "_dom_classes": [],
      "_model_module": "@jupyter-widgets/controls",
      "_model_module_version": "1.5.0",
      "_model_name": "HTMLModel",
      "_view_count": null,
      "_view_module": "@jupyter-widgets/controls",
      "_view_module_version": "1.5.0",
      "_view_name": "HTMLView",
      "description": "",
      "description_tooltip": null,
      "layout": "IPY_MODEL_8b0973584909496a8f537667625ffe18",
      "placeholder": "​",
      "style": "IPY_MODEL_6d3ca216686f4e688156fb0d69072008",
      "value": " 11302/0 [00:24&lt;00:00, 523.02 examples/s]"
     }
    },
    "4085b42683d94d57b72011b135090135": {
     "model_module": "@jupyter-widgets/controls",
     "model_module_version": "1.5.0",
     "model_name": "FloatProgressModel",
     "state": {
      "_dom_classes": [],
      "_model_module": "@jupyter-widgets/controls",
      "_model_module_version": "1.5.0",
      "_model_name": "FloatProgressModel",
      "_view_count": null,
      "_view_module": "@jupyter-widgets/controls",
      "_view_module_version": "1.5.0",
      "_view_name": "ProgressView",
      "bar_style": "info",
      "description": "",
      "description_tooltip": null,
      "layout": "IPY_MODEL_7c389421f76943c3b0c077a9d65b5c69",
      "max": 1,
      "min": 0,
      "orientation": "horizontal",
      "style": "IPY_MODEL_bf7356aee3d1467da5b008bfa59bc853",
      "value": 1
     }
    },
    "47bd15a4aada49b9a943744550c72be2": {
     "model_module": "@jupyter-widgets/controls",
     "model_module_version": "1.5.0",
     "model_name": "DescriptionStyleModel",
     "state": {
      "_model_module": "@jupyter-widgets/controls",
      "_model_module_version": "1.5.0",
      "_model_name": "DescriptionStyleModel",
      "_view_count": null,
      "_view_module": "@jupyter-widgets/base",
      "_view_module_version": "1.2.0",
      "_view_name": "StyleView",
      "description_width": ""
     }
    },
    "4884749777bd43ad90fa1c4dce884768": {
     "model_module": "@jupyter-widgets/base",
     "model_module_version": "1.2.0",
     "model_name": "LayoutModel",
     "state": {
      "_model_module": "@jupyter-widgets/base",
      "_model_module_version": "1.2.0",
      "_model_name": "LayoutModel",
      "_view_count": null,
      "_view_module": "@jupyter-widgets/base",
      "_view_module_version": "1.2.0",
      "_view_name": "LayoutView",
      "align_content": null,
      "align_items": null,
      "align_self": null,
      "border": null,
      "bottom": null,
      "display": null,
      "flex": null,
      "flex_flow": null,
      "grid_area": null,
      "grid_auto_columns": null,
      "grid_auto_flow": null,
      "grid_auto_rows": null,
      "grid_column": null,
      "grid_gap": null,
      "grid_row": null,
      "grid_template_areas": null,
      "grid_template_columns": null,
      "grid_template_rows": null,
      "height": null,
      "justify_content": null,
      "justify_items": null,
      "left": null,
      "margin": null,
      "max_height": null,
      "max_width": null,
      "min_height": null,
      "min_width": null,
      "object_fit": null,
      "object_position": null,
      "order": null,
      "overflow": null,
      "overflow_x": null,
      "overflow_y": null,
      "padding": null,
      "right": null,
      "top": null,
      "visibility": null,
      "width": null
     }
    },
    "4981d146bc3b4609859d3dc2cb2b0fbc": {
     "model_module": "@jupyter-widgets/base",
     "model_module_version": "1.2.0",
     "model_name": "LayoutModel",
     "state": {
      "_model_module": "@jupyter-widgets/base",
      "_model_module_version": "1.2.0",
      "_model_name": "LayoutModel",
      "_view_count": null,
      "_view_module": "@jupyter-widgets/base",
      "_view_module_version": "1.2.0",
      "_view_name": "LayoutView",
      "align_content": null,
      "align_items": null,
      "align_self": null,
      "border": null,
      "bottom": null,
      "display": null,
      "flex": null,
      "flex_flow": null,
      "grid_area": null,
      "grid_auto_columns": null,
      "grid_auto_flow": null,
      "grid_auto_rows": null,
      "grid_column": null,
      "grid_gap": null,
      "grid_row": null,
      "grid_template_areas": null,
      "grid_template_columns": null,
      "grid_template_rows": null,
      "height": null,
      "justify_content": null,
      "justify_items": null,
      "left": null,
      "margin": null,
      "max_height": null,
      "max_width": null,
      "min_height": null,
      "min_width": null,
      "object_fit": null,
      "object_position": null,
      "order": null,
      "overflow": null,
      "overflow_x": null,
      "overflow_y": null,
      "padding": null,
      "right": null,
      "top": null,
      "visibility": null,
      "width": null
     }
    },
    "4e818611992b4f6fb37300f110bdeb5e": {
     "model_module": "@jupyter-widgets/controls",
     "model_module_version": "1.5.0",
     "model_name": "HBoxModel",
     "state": {
      "_dom_classes": [],
      "_model_module": "@jupyter-widgets/controls",
      "_model_module_version": "1.5.0",
      "_model_name": "HBoxModel",
      "_view_count": null,
      "_view_module": "@jupyter-widgets/controls",
      "_view_module_version": "1.5.0",
      "_view_name": "HBoxView",
      "box_style": "",
      "children": [
       "IPY_MODEL_e647c94e38884e9ca6029a7086ef750e",
       "IPY_MODEL_56a662d9f95d476e9e6ba9f9a2d180b0",
       "IPY_MODEL_2a0946d1f38146168385d078fc65eada"
      ],
      "layout": "IPY_MODEL_dc235faa8a2c4893b3d8f1b195c035a4"
     }
    },
    "4f0e952690454e8f97d8917fa9f8680d": {
     "model_module": "@jupyter-widgets/base",
     "model_module_version": "1.2.0",
     "model_name": "LayoutModel",
     "state": {
      "_model_module": "@jupyter-widgets/base",
      "_model_module_version": "1.2.0",
      "_model_name": "LayoutModel",
      "_view_count": null,
      "_view_module": "@jupyter-widgets/base",
      "_view_module_version": "1.2.0",
      "_view_name": "LayoutView",
      "align_content": null,
      "align_items": null,
      "align_self": null,
      "border": null,
      "bottom": null,
      "display": null,
      "flex": null,
      "flex_flow": null,
      "grid_area": null,
      "grid_auto_columns": null,
      "grid_auto_flow": null,
      "grid_auto_rows": null,
      "grid_column": null,
      "grid_gap": null,
      "grid_row": null,
      "grid_template_areas": null,
      "grid_template_columns": null,
      "grid_template_rows": null,
      "height": null,
      "justify_content": null,
      "justify_items": null,
      "left": null,
      "margin": null,
      "max_height": null,
      "max_width": null,
      "min_height": null,
      "min_width": null,
      "object_fit": null,
      "object_position": null,
      "order": null,
      "overflow": null,
      "overflow_x": null,
      "overflow_y": null,
      "padding": null,
      "right": null,
      "top": null,
      "visibility": null,
      "width": null
     }
    },
    "4f85e5b0893b462b871830054ed4d982": {
     "model_module": "@jupyter-widgets/controls",
     "model_module_version": "1.5.0",
     "model_name": "HTMLModel",
     "state": {
      "_dom_classes": [],
      "_model_module": "@jupyter-widgets/controls",
      "_model_module_version": "1.5.0",
      "_model_name": "HTMLModel",
      "_view_count": null,
      "_view_module": "@jupyter-widgets/controls",
      "_view_module_version": "1.5.0",
      "_view_name": "HTMLView",
      "description": "",
      "description_tooltip": null,
      "layout": "IPY_MODEL_1c2f7d63c86b4173881ceddba98c1f35",
      "placeholder": "​",
      "style": "IPY_MODEL_02f0c56e38a94e61bfdda0d1645ace31",
      "value": " 11282/0 [00:23&lt;00:00, 499.84 examples/s]"
     }
    },
    "56a662d9f95d476e9e6ba9f9a2d180b0": {
     "model_module": "@jupyter-widgets/controls",
     "model_module_version": "1.5.0",
     "model_name": "FloatProgressModel",
     "state": {
      "_dom_classes": [],
      "_model_module": "@jupyter-widgets/controls",
      "_model_module_version": "1.5.0",
      "_model_name": "FloatProgressModel",
      "_view_count": null,
      "_view_module": "@jupyter-widgets/controls",
      "_view_module_version": "1.5.0",
      "_view_name": "ProgressView",
      "bar_style": "info",
      "description": "",
      "description_tooltip": null,
      "layout": "IPY_MODEL_7faf47521f0149edbe1c7425070f892d",
      "max": 1,
      "min": 0,
      "orientation": "horizontal",
      "style": "IPY_MODEL_79609303a2b7417d8471219c42bc485d",
      "value": 1
     }
    },
    "57f56368328648048ee499f0a87eae39": {
     "model_module": "@jupyter-widgets/controls",
     "model_module_version": "1.5.0",
     "model_name": "DescriptionStyleModel",
     "state": {
      "_model_module": "@jupyter-widgets/controls",
      "_model_module_version": "1.5.0",
      "_model_name": "DescriptionStyleModel",
      "_view_count": null,
      "_view_module": "@jupyter-widgets/base",
      "_view_module_version": "1.2.0",
      "_view_name": "StyleView",
      "description_width": ""
     }
    },
    "5972fd3441c94fa8bbfdcdd05f6c7c51": {
     "model_module": "@jupyter-widgets/controls",
     "model_module_version": "1.5.0",
     "model_name": "HBoxModel",
     "state": {
      "_dom_classes": [],
      "_model_module": "@jupyter-widgets/controls",
      "_model_module_version": "1.5.0",
      "_model_name": "HBoxModel",
      "_view_count": null,
      "_view_module": "@jupyter-widgets/controls",
      "_view_module_version": "1.5.0",
      "_view_name": "HBoxView",
      "box_style": "",
      "children": [
       "IPY_MODEL_723981c437164b0b8c0177822550b55a",
       "IPY_MODEL_bed4b4f28d5a45bbbe199a92c2ff1aab",
       "IPY_MODEL_f8c4dd03ddba4f34b0f82d3ff8e70d14"
      ],
      "layout": "IPY_MODEL_f60297177b0c47cfa37b70a6128ed360"
     }
    },
    "59f91e2169b54e8aabf78e23adfa14de": {
     "model_module": "@jupyter-widgets/controls",
     "model_module_version": "1.5.0",
     "model_name": "ProgressStyleModel",
     "state": {
      "_model_module": "@jupyter-widgets/controls",
      "_model_module_version": "1.5.0",
      "_model_name": "ProgressStyleModel",
      "_view_count": null,
      "_view_module": "@jupyter-widgets/base",
      "_view_module_version": "1.2.0",
      "_view_name": "StyleView",
      "bar_color": null,
      "description_width": ""
     }
    },
    "5aa9e6c9210f485a835414bdcd58ef03": {
     "model_module": "@jupyter-widgets/controls",
     "model_module_version": "1.5.0",
     "model_name": "HTMLModel",
     "state": {
      "_dom_classes": [],
      "_model_module": "@jupyter-widgets/controls",
      "_model_module_version": "1.5.0",
      "_model_name": "HTMLModel",
      "_view_count": null,
      "_view_module": "@jupyter-widgets/controls",
      "_view_module_version": "1.5.0",
      "_view_name": "HTMLView",
      "description": "",
      "description_tooltip": null,
      "layout": "IPY_MODEL_a61183be01e649b2aa0ea4dc77d039a8",
      "placeholder": "​",
      "style": "IPY_MODEL_47bd15a4aada49b9a943744550c72be2",
      "value": " 3/3 [00:00&lt;00:00, 48.54it/s]"
     }
    },
    "5d813c19853942b6b2b8225230ccb995": {
     "model_module": "@jupyter-widgets/controls",
     "model_module_version": "1.5.0",
     "model_name": "DescriptionStyleModel",
     "state": {
      "_model_module": "@jupyter-widgets/controls",
      "_model_module_version": "1.5.0",
      "_model_name": "DescriptionStyleModel",
      "_view_count": null,
      "_view_module": "@jupyter-widgets/base",
      "_view_module_version": "1.2.0",
      "_view_name": "StyleView",
      "description_width": ""
     }
    },
    "6003c3fb628844acb6cf58d60048decc": {
     "model_module": "@jupyter-widgets/controls",
     "model_module_version": "1.5.0",
     "model_name": "DescriptionStyleModel",
     "state": {
      "_model_module": "@jupyter-widgets/controls",
      "_model_module_version": "1.5.0",
      "_model_name": "DescriptionStyleModel",
      "_view_count": null,
      "_view_module": "@jupyter-widgets/base",
      "_view_module_version": "1.2.0",
      "_view_name": "StyleView",
      "description_width": ""
     }
    },
    "621f0246f3134d9fa4e7e6e25dc0f9b7": {
     "model_module": "@jupyter-widgets/controls",
     "model_module_version": "1.5.0",
     "model_name": "HTMLModel",
     "state": {
      "_dom_classes": [],
      "_model_module": "@jupyter-widgets/controls",
      "_model_module_version": "1.5.0",
      "_model_name": "HTMLModel",
      "_view_count": null,
      "_view_module": "@jupyter-widgets/controls",
      "_view_module_version": "1.5.0",
      "_view_name": "HTMLView",
      "description": "",
      "description_tooltip": null,
      "layout": "IPY_MODEL_21053cb36e2243428d47d8f6d6b21ff2",
      "placeholder": "​",
      "style": "IPY_MODEL_b666815240b6473b8b78d87baf6d6f75",
      "value": " 2/2 [00:19&lt;00:00,  8.21s/it]"
     }
    },
    "62942c332cd0498f8266baa4642d93c9": {
     "model_module": "@jupyter-widgets/controls",
     "model_module_version": "1.5.0",
     "model_name": "DescriptionStyleModel",
     "state": {
      "_model_module": "@jupyter-widgets/controls",
      "_model_module_version": "1.5.0",
      "_model_name": "DescriptionStyleModel",
      "_view_count": null,
      "_view_module": "@jupyter-widgets/base",
      "_view_module_version": "1.2.0",
      "_view_name": "StyleView",
      "description_width": ""
     }
    },
    "6384bb485f3744749a0567e2accb838e": {
     "model_module": "@jupyter-widgets/controls",
     "model_module_version": "1.5.0",
     "model_name": "HTMLModel",
     "state": {
      "_dom_classes": [],
      "_model_module": "@jupyter-widgets/controls",
      "_model_module_version": "1.5.0",
      "_model_name": "HTMLModel",
      "_view_count": null,
      "_view_module": "@jupyter-widgets/controls",
      "_view_module_version": "1.5.0",
      "_view_name": "HTMLView",
      "description": "",
      "description_tooltip": null,
      "layout": "IPY_MODEL_b2e68839e3f44a8aadecee1289353a61",
      "placeholder": "​",
      "style": "IPY_MODEL_19a912c23981460e9377d467520606f3",
      "value": " 255M/255M [00:16&lt;00:00, 17.0MB/s]"
     }
    },
    "63b17d40996744ed8cf8a78deba8617b": {
     "model_module": "@jupyter-widgets/controls",
     "model_module_version": "1.5.0",
     "model_name": "DescriptionStyleModel",
     "state": {
      "_model_module": "@jupyter-widgets/controls",
      "_model_module_version": "1.5.0",
      "_model_name": "DescriptionStyleModel",
      "_view_count": null,
      "_view_module": "@jupyter-widgets/base",
      "_view_module_version": "1.2.0",
      "_view_name": "StyleView",
      "description_width": ""
     }
    },
    "6d3ca216686f4e688156fb0d69072008": {
     "model_module": "@jupyter-widgets/controls",
     "model_module_version": "1.5.0",
     "model_name": "DescriptionStyleModel",
     "state": {
      "_model_module": "@jupyter-widgets/controls",
      "_model_module_version": "1.5.0",
      "_model_name": "DescriptionStyleModel",
      "_view_count": null,
      "_view_module": "@jupyter-widgets/base",
      "_view_module_version": "1.2.0",
      "_view_name": "StyleView",
      "description_width": ""
     }
    },
    "6e0676a041224814a849abe8ce0b85ba": {
     "model_module": "@jupyter-widgets/base",
     "model_module_version": "1.2.0",
     "model_name": "LayoutModel",
     "state": {
      "_model_module": "@jupyter-widgets/base",
      "_model_module_version": "1.2.0",
      "_model_name": "LayoutModel",
      "_view_count": null,
      "_view_module": "@jupyter-widgets/base",
      "_view_module_version": "1.2.0",
      "_view_name": "LayoutView",
      "align_content": null,
      "align_items": null,
      "align_self": null,
      "border": null,
      "bottom": null,
      "display": null,
      "flex": null,
      "flex_flow": null,
      "grid_area": null,
      "grid_auto_columns": null,
      "grid_auto_flow": null,
      "grid_auto_rows": null,
      "grid_column": null,
      "grid_gap": null,
      "grid_row": null,
      "grid_template_areas": null,
      "grid_template_columns": null,
      "grid_template_rows": null,
      "height": null,
      "justify_content": null,
      "justify_items": null,
      "left": null,
      "margin": null,
      "max_height": null,
      "max_width": null,
      "min_height": null,
      "min_width": null,
      "object_fit": null,
      "object_position": null,
      "order": null,
      "overflow": null,
      "overflow_x": null,
      "overflow_y": null,
      "padding": null,
      "right": null,
      "top": null,
      "visibility": null,
      "width": null
     }
    },
    "6f72e8c3329d4c98bb7d2acdcfd7e9ae": {
     "model_module": "@jupyter-widgets/base",
     "model_module_version": "1.2.0",
     "model_name": "LayoutModel",
     "state": {
      "_model_module": "@jupyter-widgets/base",
      "_model_module_version": "1.2.0",
      "_model_name": "LayoutModel",
      "_view_count": null,
      "_view_module": "@jupyter-widgets/base",
      "_view_module_version": "1.2.0",
      "_view_name": "LayoutView",
      "align_content": null,
      "align_items": null,
      "align_self": null,
      "border": null,
      "bottom": null,
      "display": null,
      "flex": null,
      "flex_flow": null,
      "grid_area": null,
      "grid_auto_columns": null,
      "grid_auto_flow": null,
      "grid_auto_rows": null,
      "grid_column": null,
      "grid_gap": null,
      "grid_row": null,
      "grid_template_areas": null,
      "grid_template_columns": null,
      "grid_template_rows": null,
      "height": null,
      "justify_content": null,
      "justify_items": null,
      "left": null,
      "margin": null,
      "max_height": null,
      "max_width": null,
      "min_height": null,
      "min_width": null,
      "object_fit": null,
      "object_position": null,
      "order": null,
      "overflow": null,
      "overflow_x": null,
      "overflow_y": null,
      "padding": null,
      "right": null,
      "top": null,
      "visibility": null,
      "width": null
     }
    },
    "6f92a22e03e041bfbfcfe00a77626e20": {
     "model_module": "@jupyter-widgets/controls",
     "model_module_version": "1.5.0",
     "model_name": "FloatProgressModel",
     "state": {
      "_dom_classes": [],
      "_model_module": "@jupyter-widgets/controls",
      "_model_module_version": "1.5.0",
      "_model_name": "FloatProgressModel",
      "_view_count": null,
      "_view_module": "@jupyter-widgets/controls",
      "_view_module_version": "1.5.0",
      "_view_name": "ProgressView",
      "bar_style": "info",
      "description": "",
      "description_tooltip": null,
      "layout": "IPY_MODEL_1599590e4eaa4ff7a8a942cd0da1115d",
      "max": 1,
      "min": 0,
      "orientation": "horizontal",
      "style": "IPY_MODEL_59f91e2169b54e8aabf78e23adfa14de",
      "value": 1
     }
    },
    "723981c437164b0b8c0177822550b55a": {
     "model_module": "@jupyter-widgets/controls",
     "model_module_version": "1.5.0",
     "model_name": "HTMLModel",
     "state": {
      "_dom_classes": [],
      "_model_module": "@jupyter-widgets/controls",
      "_model_module_version": "1.5.0",
      "_model_name": "HTMLModel",
      "_view_count": null,
      "_view_module": "@jupyter-widgets/controls",
      "_view_module_version": "1.5.0",
      "_view_name": "HTMLView",
      "description": "",
      "description_tooltip": null,
      "layout": "IPY_MODEL_82fee0991e3048459b4715d079608893",
      "placeholder": "​",
      "style": "IPY_MODEL_5d813c19853942b6b2b8225230ccb995",
      "value": "Downloading: "
     }
    },
    "79609303a2b7417d8471219c42bc485d": {
     "model_module": "@jupyter-widgets/controls",
     "model_module_version": "1.5.0",
     "model_name": "ProgressStyleModel",
     "state": {
      "_model_module": "@jupyter-widgets/controls",
      "_model_module_version": "1.5.0",
      "_model_name": "ProgressStyleModel",
      "_view_count": null,
      "_view_module": "@jupyter-widgets/base",
      "_view_module_version": "1.2.0",
      "_view_name": "StyleView",
      "bar_color": null,
      "description_width": ""
     }
    },
    "7a44d60a22794453be6a7191eaf6691a": {
     "model_module": "@jupyter-widgets/controls",
     "model_module_version": "1.5.0",
     "model_name": "DescriptionStyleModel",
     "state": {
      "_model_module": "@jupyter-widgets/controls",
      "_model_module_version": "1.5.0",
      "_model_name": "DescriptionStyleModel",
      "_view_count": null,
      "_view_module": "@jupyter-widgets/base",
      "_view_module_version": "1.2.0",
      "_view_name": "StyleView",
      "description_width": ""
     }
    },
    "7c389421f76943c3b0c077a9d65b5c69": {
     "model_module": "@jupyter-widgets/base",
     "model_module_version": "1.2.0",
     "model_name": "LayoutModel",
     "state": {
      "_model_module": "@jupyter-widgets/base",
      "_model_module_version": "1.2.0",
      "_model_name": "LayoutModel",
      "_view_count": null,
      "_view_module": "@jupyter-widgets/base",
      "_view_module_version": "1.2.0",
      "_view_name": "LayoutView",
      "align_content": null,
      "align_items": null,
      "align_self": null,
      "border": null,
      "bottom": null,
      "display": null,
      "flex": null,
      "flex_flow": null,
      "grid_area": null,
      "grid_auto_columns": null,
      "grid_auto_flow": null,
      "grid_auto_rows": null,
      "grid_column": null,
      "grid_gap": null,
      "grid_row": null,
      "grid_template_areas": null,
      "grid_template_columns": null,
      "grid_template_rows": null,
      "height": null,
      "justify_content": null,
      "justify_items": null,
      "left": null,
      "margin": null,
      "max_height": null,
      "max_width": null,
      "min_height": null,
      "min_width": null,
      "object_fit": null,
      "object_position": null,
      "order": null,
      "overflow": null,
      "overflow_x": null,
      "overflow_y": null,
      "padding": null,
      "right": null,
      "top": null,
      "visibility": null,
      "width": "20px"
     }
    },
    "7d9e91ae75ca4c09bdab9161a863e830": {
     "model_module": "@jupyter-widgets/base",
     "model_module_version": "1.2.0",
     "model_name": "LayoutModel",
     "state": {
      "_model_module": "@jupyter-widgets/base",
      "_model_module_version": "1.2.0",
      "_model_name": "LayoutModel",
      "_view_count": null,
      "_view_module": "@jupyter-widgets/base",
      "_view_module_version": "1.2.0",
      "_view_name": "LayoutView",
      "align_content": null,
      "align_items": null,
      "align_self": null,
      "border": null,
      "bottom": null,
      "display": null,
      "flex": null,
      "flex_flow": null,
      "grid_area": null,
      "grid_auto_columns": null,
      "grid_auto_flow": null,
      "grid_auto_rows": null,
      "grid_column": null,
      "grid_gap": null,
      "grid_row": null,
      "grid_template_areas": null,
      "grid_template_columns": null,
      "grid_template_rows": null,
      "height": null,
      "justify_content": null,
      "justify_items": null,
      "left": null,
      "margin": null,
      "max_height": null,
      "max_width": null,
      "min_height": null,
      "min_width": null,
      "object_fit": null,
      "object_position": null,
      "order": null,
      "overflow": null,
      "overflow_x": null,
      "overflow_y": null,
      "padding": null,
      "right": null,
      "top": null,
      "visibility": null,
      "width": null
     }
    },
    "7faf47521f0149edbe1c7425070f892d": {
     "model_module": "@jupyter-widgets/base",
     "model_module_version": "1.2.0",
     "model_name": "LayoutModel",
     "state": {
      "_model_module": "@jupyter-widgets/base",
      "_model_module_version": "1.2.0",
      "_model_name": "LayoutModel",
      "_view_count": null,
      "_view_module": "@jupyter-widgets/base",
      "_view_module_version": "1.2.0",
      "_view_name": "LayoutView",
      "align_content": null,
      "align_items": null,
      "align_self": null,
      "border": null,
      "bottom": null,
      "display": null,
      "flex": null,
      "flex_flow": null,
      "grid_area": null,
      "grid_auto_columns": null,
      "grid_auto_flow": null,
      "grid_auto_rows": null,
      "grid_column": null,
      "grid_gap": null,
      "grid_row": null,
      "grid_template_areas": null,
      "grid_template_columns": null,
      "grid_template_rows": null,
      "height": null,
      "justify_content": null,
      "justify_items": null,
      "left": null,
      "margin": null,
      "max_height": null,
      "max_width": null,
      "min_height": null,
      "min_width": null,
      "object_fit": null,
      "object_position": null,
      "order": null,
      "overflow": null,
      "overflow_x": null,
      "overflow_y": null,
      "padding": null,
      "right": null,
      "top": null,
      "visibility": null,
      "width": "20px"
     }
    },
    "804a1ea9f4a6443e819914508bdf83a7": {
     "model_module": "@jupyter-widgets/controls",
     "model_module_version": "1.5.0",
     "model_name": "DescriptionStyleModel",
     "state": {
      "_model_module": "@jupyter-widgets/controls",
      "_model_module_version": "1.5.0",
      "_model_name": "DescriptionStyleModel",
      "_view_count": null,
      "_view_module": "@jupyter-widgets/base",
      "_view_module_version": "1.2.0",
      "_view_name": "StyleView",
      "description_width": ""
     }
    },
    "81a7dfe6981e4a8d914aa970f3ce341d": {
     "model_module": "@jupyter-widgets/controls",
     "model_module_version": "1.5.0",
     "model_name": "HBoxModel",
     "state": {
      "_dom_classes": [],
      "_model_module": "@jupyter-widgets/controls",
      "_model_module_version": "1.5.0",
      "_model_name": "HBoxModel",
      "_view_count": null,
      "_view_module": "@jupyter-widgets/controls",
      "_view_module_version": "1.5.0",
      "_view_name": "HBoxView",
      "box_style": "",
      "children": [
       "IPY_MODEL_b26b95da95d84574a91f6b62964a2c34",
       "IPY_MODEL_2f6543c408e240fda41b92ea6190b329",
       "IPY_MODEL_e02f23ffefbf49db8393f56f9de1554c"
      ],
      "layout": "IPY_MODEL_6f72e8c3329d4c98bb7d2acdcfd7e9ae"
     }
    },
    "82fee0991e3048459b4715d079608893": {
     "model_module": "@jupyter-widgets/base",
     "model_module_version": "1.2.0",
     "model_name": "LayoutModel",
     "state": {
      "_model_module": "@jupyter-widgets/base",
      "_model_module_version": "1.2.0",
      "_model_name": "LayoutModel",
      "_view_count": null,
      "_view_module": "@jupyter-widgets/base",
      "_view_module_version": "1.2.0",
      "_view_name": "LayoutView",
      "align_content": null,
      "align_items": null,
      "align_self": null,
      "border": null,
      "bottom": null,
      "display": null,
      "flex": null,
      "flex_flow": null,
      "grid_area": null,
      "grid_auto_columns": null,
      "grid_auto_flow": null,
      "grid_auto_rows": null,
      "grid_column": null,
      "grid_gap": null,
      "grid_row": null,
      "grid_template_areas": null,
      "grid_template_columns": null,
      "grid_template_rows": null,
      "height": null,
      "justify_content": null,
      "justify_items": null,
      "left": null,
      "margin": null,
      "max_height": null,
      "max_width": null,
      "min_height": null,
      "min_width": null,
      "object_fit": null,
      "object_position": null,
      "order": null,
      "overflow": null,
      "overflow_x": null,
      "overflow_y": null,
      "padding": null,
      "right": null,
      "top": null,
      "visibility": null,
      "width": null
     }
    },
    "8aeb2eecfe1f4b35889d1aa45538ac77": {
     "model_module": "@jupyter-widgets/base",
     "model_module_version": "1.2.0",
     "model_name": "LayoutModel",
     "state": {
      "_model_module": "@jupyter-widgets/base",
      "_model_module_version": "1.2.0",
      "_model_name": "LayoutModel",
      "_view_count": null,
      "_view_module": "@jupyter-widgets/base",
      "_view_module_version": "1.2.0",
      "_view_name": "LayoutView",
      "align_content": null,
      "align_items": null,
      "align_self": null,
      "border": null,
      "bottom": null,
      "display": null,
      "flex": null,
      "flex_flow": null,
      "grid_area": null,
      "grid_auto_columns": null,
      "grid_auto_flow": null,
      "grid_auto_rows": null,
      "grid_column": null,
      "grid_gap": null,
      "grid_row": null,
      "grid_template_areas": null,
      "grid_template_columns": null,
      "grid_template_rows": null,
      "height": null,
      "justify_content": null,
      "justify_items": null,
      "left": null,
      "margin": null,
      "max_height": null,
      "max_width": null,
      "min_height": null,
      "min_width": null,
      "object_fit": null,
      "object_position": null,
      "order": null,
      "overflow": null,
      "overflow_x": null,
      "overflow_y": null,
      "padding": null,
      "right": null,
      "top": null,
      "visibility": null,
      "width": null
     }
    },
    "8b0973584909496a8f537667625ffe18": {
     "model_module": "@jupyter-widgets/base",
     "model_module_version": "1.2.0",
     "model_name": "LayoutModel",
     "state": {
      "_model_module": "@jupyter-widgets/base",
      "_model_module_version": "1.2.0",
      "_model_name": "LayoutModel",
      "_view_count": null,
      "_view_module": "@jupyter-widgets/base",
      "_view_module_version": "1.2.0",
      "_view_name": "LayoutView",
      "align_content": null,
      "align_items": null,
      "align_self": null,
      "border": null,
      "bottom": null,
      "display": null,
      "flex": null,
      "flex_flow": null,
      "grid_area": null,
      "grid_auto_columns": null,
      "grid_auto_flow": null,
      "grid_auto_rows": null,
      "grid_column": null,
      "grid_gap": null,
      "grid_row": null,
      "grid_template_areas": null,
      "grid_template_columns": null,
      "grid_template_rows": null,
      "height": null,
      "justify_content": null,
      "justify_items": null,
      "left": null,
      "margin": null,
      "max_height": null,
      "max_width": null,
      "min_height": null,
      "min_width": null,
      "object_fit": null,
      "object_position": null,
      "order": null,
      "overflow": null,
      "overflow_x": null,
      "overflow_y": null,
      "padding": null,
      "right": null,
      "top": null,
      "visibility": null,
      "width": null
     }
    },
    "8b2698b9a4df49948534e61bd693f4d0": {
     "model_module": "@jupyter-widgets/base",
     "model_module_version": "1.2.0",
     "model_name": "LayoutModel",
     "state": {
      "_model_module": "@jupyter-widgets/base",
      "_model_module_version": "1.2.0",
      "_model_name": "LayoutModel",
      "_view_count": null,
      "_view_module": "@jupyter-widgets/base",
      "_view_module_version": "1.2.0",
      "_view_name": "LayoutView",
      "align_content": null,
      "align_items": null,
      "align_self": null,
      "border": null,
      "bottom": null,
      "display": null,
      "flex": null,
      "flex_flow": null,
      "grid_area": null,
      "grid_auto_columns": null,
      "grid_auto_flow": null,
      "grid_auto_rows": null,
      "grid_column": null,
      "grid_gap": null,
      "grid_row": null,
      "grid_template_areas": null,
      "grid_template_columns": null,
      "grid_template_rows": null,
      "height": null,
      "justify_content": null,
      "justify_items": null,
      "left": null,
      "margin": null,
      "max_height": null,
      "max_width": null,
      "min_height": null,
      "min_width": null,
      "object_fit": null,
      "object_position": null,
      "order": null,
      "overflow": null,
      "overflow_x": null,
      "overflow_y": null,
      "padding": null,
      "right": null,
      "top": null,
      "visibility": null,
      "width": null
     }
    },
    "8b4901158a3c4b3e96a5e400334e032b": {
     "model_module": "@jupyter-widgets/controls",
     "model_module_version": "1.5.0",
     "model_name": "HTMLModel",
     "state": {
      "_dom_classes": [],
      "_model_module": "@jupyter-widgets/controls",
      "_model_module_version": "1.5.0",
      "_model_name": "HTMLModel",
      "_view_count": null,
      "_view_module": "@jupyter-widgets/controls",
      "_view_module_version": "1.5.0",
      "_view_name": "HTMLView",
      "description": "",
      "description_tooltip": null,
      "layout": "IPY_MODEL_ddf424a08cc44ab2abc9ba824caa9705",
      "placeholder": "​",
      "style": "IPY_MODEL_7a44d60a22794453be6a7191eaf6691a",
      "value": "Downloading: 100%"
     }
    },
    "8d7172c309ed4e0ba20e2fade7001575": {
     "model_module": "@jupyter-widgets/base",
     "model_module_version": "1.2.0",
     "model_name": "LayoutModel",
     "state": {
      "_model_module": "@jupyter-widgets/base",
      "_model_module_version": "1.2.0",
      "_model_name": "LayoutModel",
      "_view_count": null,
      "_view_module": "@jupyter-widgets/base",
      "_view_module_version": "1.2.0",
      "_view_name": "LayoutView",
      "align_content": null,
      "align_items": null,
      "align_self": null,
      "border": null,
      "bottom": null,
      "display": null,
      "flex": null,
      "flex_flow": null,
      "grid_area": null,
      "grid_auto_columns": null,
      "grid_auto_flow": null,
      "grid_auto_rows": null,
      "grid_column": null,
      "grid_gap": null,
      "grid_row": null,
      "grid_template_areas": null,
      "grid_template_columns": null,
      "grid_template_rows": null,
      "height": null,
      "justify_content": null,
      "justify_items": null,
      "left": null,
      "margin": null,
      "max_height": null,
      "max_width": null,
      "min_height": null,
      "min_width": null,
      "object_fit": null,
      "object_position": null,
      "order": null,
      "overflow": null,
      "overflow_x": null,
      "overflow_y": null,
      "padding": null,
      "right": null,
      "top": null,
      "visibility": null,
      "width": null
     }
    },
    "8df3ee3368dd46bdb8ec4e7d752a8712": {
     "model_module": "@jupyter-widgets/base",
     "model_module_version": "1.2.0",
     "model_name": "LayoutModel",
     "state": {
      "_model_module": "@jupyter-widgets/base",
      "_model_module_version": "1.2.0",
      "_model_name": "LayoutModel",
      "_view_count": null,
      "_view_module": "@jupyter-widgets/base",
      "_view_module_version": "1.2.0",
      "_view_name": "LayoutView",
      "align_content": null,
      "align_items": null,
      "align_self": null,
      "border": null,
      "bottom": null,
      "display": null,
      "flex": null,
      "flex_flow": null,
      "grid_area": null,
      "grid_auto_columns": null,
      "grid_auto_flow": null,
      "grid_auto_rows": null,
      "grid_column": null,
      "grid_gap": null,
      "grid_row": null,
      "grid_template_areas": null,
      "grid_template_columns": null,
      "grid_template_rows": null,
      "height": null,
      "justify_content": null,
      "justify_items": null,
      "left": null,
      "margin": null,
      "max_height": null,
      "max_width": null,
      "min_height": null,
      "min_width": null,
      "object_fit": null,
      "object_position": null,
      "order": null,
      "overflow": null,
      "overflow_x": null,
      "overflow_y": null,
      "padding": null,
      "right": null,
      "top": null,
      "visibility": null,
      "width": null
     }
    },
    "999c95beadd445328468e9884a22ce38": {
     "model_module": "@jupyter-widgets/controls",
     "model_module_version": "1.5.0",
     "model_name": "HBoxModel",
     "state": {
      "_dom_classes": [],
      "_model_module": "@jupyter-widgets/controls",
      "_model_module_version": "1.5.0",
      "_model_name": "HBoxModel",
      "_view_count": null,
      "_view_module": "@jupyter-widgets/controls",
      "_view_module_version": "1.5.0",
      "_view_name": "HBoxView",
      "box_style": "",
      "children": [
       "IPY_MODEL_e9d1d1b1a58a47558563b2b3a993bff8",
       "IPY_MODEL_2e2ea2bc3acc4ce78ec9bc731d2ef133",
       "IPY_MODEL_fd4d0f1fa8d64edf96bbe59689d367c2"
      ],
      "layout": "IPY_MODEL_b9879668b76e4afbaedb879ad8677e86"
     }
    },
    "9a46fe1c318b42d6938f9c192f679a9c": {
     "model_module": "@jupyter-widgets/base",
     "model_module_version": "1.2.0",
     "model_name": "LayoutModel",
     "state": {
      "_model_module": "@jupyter-widgets/base",
      "_model_module_version": "1.2.0",
      "_model_name": "LayoutModel",
      "_view_count": null,
      "_view_module": "@jupyter-widgets/base",
      "_view_module_version": "1.2.0",
      "_view_name": "LayoutView",
      "align_content": null,
      "align_items": null,
      "align_self": null,
      "border": null,
      "bottom": null,
      "display": null,
      "flex": null,
      "flex_flow": null,
      "grid_area": null,
      "grid_auto_columns": null,
      "grid_auto_flow": null,
      "grid_auto_rows": null,
      "grid_column": null,
      "grid_gap": null,
      "grid_row": null,
      "grid_template_areas": null,
      "grid_template_columns": null,
      "grid_template_rows": null,
      "height": null,
      "justify_content": null,
      "justify_items": null,
      "left": null,
      "margin": null,
      "max_height": null,
      "max_width": null,
      "min_height": null,
      "min_width": null,
      "object_fit": null,
      "object_position": null,
      "order": null,
      "overflow": null,
      "overflow_x": null,
      "overflow_y": null,
      "padding": null,
      "right": null,
      "top": null,
      "visibility": null,
      "width": null
     }
    },
    "a0345bd952534261aa8fcff01310055c": {
     "model_module": "@jupyter-widgets/controls",
     "model_module_version": "1.5.0",
     "model_name": "ProgressStyleModel",
     "state": {
      "_model_module": "@jupyter-widgets/controls",
      "_model_module_version": "1.5.0",
      "_model_name": "ProgressStyleModel",
      "_view_count": null,
      "_view_module": "@jupyter-widgets/base",
      "_view_module_version": "1.2.0",
      "_view_name": "StyleView",
      "bar_color": null,
      "description_width": ""
     }
    },
    "a594dd0300cb4831b24f104191ecd140": {
     "model_module": "@jupyter-widgets/controls",
     "model_module_version": "1.5.0",
     "model_name": "HBoxModel",
     "state": {
      "_dom_classes": [],
      "_model_module": "@jupyter-widgets/controls",
      "_model_module_version": "1.5.0",
      "_model_name": "HBoxModel",
      "_view_count": null,
      "_view_module": "@jupyter-widgets/controls",
      "_view_module_version": "1.5.0",
      "_view_name": "HBoxView",
      "box_style": "",
      "children": [
       "IPY_MODEL_edb907c659da4513af14b0ee3c463074",
       "IPY_MODEL_e96bd3e7dac14b58af51859e573972c4",
       "IPY_MODEL_5aa9e6c9210f485a835414bdcd58ef03"
      ],
      "layout": "IPY_MODEL_b2147085644647d892f37501678835d5"
     }
    },
    "a61183be01e649b2aa0ea4dc77d039a8": {
     "model_module": "@jupyter-widgets/base",
     "model_module_version": "1.2.0",
     "model_name": "LayoutModel",
     "state": {
      "_model_module": "@jupyter-widgets/base",
      "_model_module_version": "1.2.0",
      "_model_name": "LayoutModel",
      "_view_count": null,
      "_view_module": "@jupyter-widgets/base",
      "_view_module_version": "1.2.0",
      "_view_name": "LayoutView",
      "align_content": null,
      "align_items": null,
      "align_self": null,
      "border": null,
      "bottom": null,
      "display": null,
      "flex": null,
      "flex_flow": null,
      "grid_area": null,
      "grid_auto_columns": null,
      "grid_auto_flow": null,
      "grid_auto_rows": null,
      "grid_column": null,
      "grid_gap": null,
      "grid_row": null,
      "grid_template_areas": null,
      "grid_template_columns": null,
      "grid_template_rows": null,
      "height": null,
      "justify_content": null,
      "justify_items": null,
      "left": null,
      "margin": null,
      "max_height": null,
      "max_width": null,
      "min_height": null,
      "min_width": null,
      "object_fit": null,
      "object_position": null,
      "order": null,
      "overflow": null,
      "overflow_x": null,
      "overflow_y": null,
      "padding": null,
      "right": null,
      "top": null,
      "visibility": null,
      "width": null
     }
    },
    "b079709d0f9a457cb1b7025090860e19": {
     "model_module": "@jupyter-widgets/controls",
     "model_module_version": "1.5.0",
     "model_name": "FloatProgressModel",
     "state": {
      "_dom_classes": [],
      "_model_module": "@jupyter-widgets/controls",
      "_model_module_version": "1.5.0",
      "_model_name": "FloatProgressModel",
      "_view_count": null,
      "_view_module": "@jupyter-widgets/controls",
      "_view_module_version": "1.5.0",
      "_view_name": "ProgressView",
      "bar_style": "success",
      "description": "",
      "description_tooltip": null,
      "layout": "IPY_MODEL_6e0676a041224814a849abe8ce0b85ba",
      "max": 2,
      "min": 0,
      "orientation": "horizontal",
      "style": "IPY_MODEL_e91ecd1b97e74d99b3d75e970a00b89a",
      "value": 2
     }
    },
    "b2147085644647d892f37501678835d5": {
     "model_module": "@jupyter-widgets/base",
     "model_module_version": "1.2.0",
     "model_name": "LayoutModel",
     "state": {
      "_model_module": "@jupyter-widgets/base",
      "_model_module_version": "1.2.0",
      "_model_name": "LayoutModel",
      "_view_count": null,
      "_view_module": "@jupyter-widgets/base",
      "_view_module_version": "1.2.0",
      "_view_name": "LayoutView",
      "align_content": null,
      "align_items": null,
      "align_self": null,
      "border": null,
      "bottom": null,
      "display": null,
      "flex": null,
      "flex_flow": null,
      "grid_area": null,
      "grid_auto_columns": null,
      "grid_auto_flow": null,
      "grid_auto_rows": null,
      "grid_column": null,
      "grid_gap": null,
      "grid_row": null,
      "grid_template_areas": null,
      "grid_template_columns": null,
      "grid_template_rows": null,
      "height": null,
      "justify_content": null,
      "justify_items": null,
      "left": null,
      "margin": null,
      "max_height": null,
      "max_width": null,
      "min_height": null,
      "min_width": null,
      "object_fit": null,
      "object_position": null,
      "order": null,
      "overflow": null,
      "overflow_x": null,
      "overflow_y": null,
      "padding": null,
      "right": null,
      "top": null,
      "visibility": null,
      "width": null
     }
    },
    "b26b95da95d84574a91f6b62964a2c34": {
     "model_module": "@jupyter-widgets/controls",
     "model_module_version": "1.5.0",
     "model_name": "HTMLModel",
     "state": {
      "_dom_classes": [],
      "_model_module": "@jupyter-widgets/controls",
      "_model_module_version": "1.5.0",
      "_model_name": "HTMLModel",
      "_view_count": null,
      "_view_module": "@jupyter-widgets/controls",
      "_view_module_version": "1.5.0",
      "_view_name": "HTMLView",
      "description": "",
      "description_tooltip": null,
      "layout": "IPY_MODEL_1040f397f49546aeb9ed7a203fe151a5",
      "placeholder": "​",
      "style": "IPY_MODEL_da71d26abde04604928f9d263f58e34f",
      "value": "Downloading: "
     }
    },
    "b2e68839e3f44a8aadecee1289353a61": {
     "model_module": "@jupyter-widgets/base",
     "model_module_version": "1.2.0",
     "model_name": "LayoutModel",
     "state": {
      "_model_module": "@jupyter-widgets/base",
      "_model_module_version": "1.2.0",
      "_model_name": "LayoutModel",
      "_view_count": null,
      "_view_module": "@jupyter-widgets/base",
      "_view_module_version": "1.2.0",
      "_view_name": "LayoutView",
      "align_content": null,
      "align_items": null,
      "align_self": null,
      "border": null,
      "bottom": null,
      "display": null,
      "flex": null,
      "flex_flow": null,
      "grid_area": null,
      "grid_auto_columns": null,
      "grid_auto_flow": null,
      "grid_auto_rows": null,
      "grid_column": null,
      "grid_gap": null,
      "grid_row": null,
      "grid_template_areas": null,
      "grid_template_columns": null,
      "grid_template_rows": null,
      "height": null,
      "justify_content": null,
      "justify_items": null,
      "left": null,
      "margin": null,
      "max_height": null,
      "max_width": null,
      "min_height": null,
      "min_width": null,
      "object_fit": null,
      "object_position": null,
      "order": null,
      "overflow": null,
      "overflow_x": null,
      "overflow_y": null,
      "padding": null,
      "right": null,
      "top": null,
      "visibility": null,
      "width": null
     }
    },
    "b666815240b6473b8b78d87baf6d6f75": {
     "model_module": "@jupyter-widgets/controls",
     "model_module_version": "1.5.0",
     "model_name": "DescriptionStyleModel",
     "state": {
      "_model_module": "@jupyter-widgets/controls",
      "_model_module_version": "1.5.0",
      "_model_name": "DescriptionStyleModel",
      "_view_count": null,
      "_view_module": "@jupyter-widgets/base",
      "_view_module_version": "1.2.0",
      "_view_name": "StyleView",
      "description_width": ""
     }
    },
    "b9103b534ac9480f8041cdb8cb2300e6": {
     "model_module": "@jupyter-widgets/controls",
     "model_module_version": "1.5.0",
     "model_name": "ProgressStyleModel",
     "state": {
      "_model_module": "@jupyter-widgets/controls",
      "_model_module_version": "1.5.0",
      "_model_name": "ProgressStyleModel",
      "_view_count": null,
      "_view_module": "@jupyter-widgets/base",
      "_view_module_version": "1.2.0",
      "_view_name": "StyleView",
      "bar_color": null,
      "description_width": ""
     }
    },
    "b9879668b76e4afbaedb879ad8677e86": {
     "model_module": "@jupyter-widgets/base",
     "model_module_version": "1.2.0",
     "model_name": "LayoutModel",
     "state": {
      "_model_module": "@jupyter-widgets/base",
      "_model_module_version": "1.2.0",
      "_model_name": "LayoutModel",
      "_view_count": null,
      "_view_module": "@jupyter-widgets/base",
      "_view_module_version": "1.2.0",
      "_view_name": "LayoutView",
      "align_content": null,
      "align_items": null,
      "align_self": null,
      "border": null,
      "bottom": null,
      "display": null,
      "flex": null,
      "flex_flow": null,
      "grid_area": null,
      "grid_auto_columns": null,
      "grid_auto_flow": null,
      "grid_auto_rows": null,
      "grid_column": null,
      "grid_gap": null,
      "grid_row": null,
      "grid_template_areas": null,
      "grid_template_columns": null,
      "grid_template_rows": null,
      "height": null,
      "justify_content": null,
      "justify_items": null,
      "left": null,
      "margin": null,
      "max_height": null,
      "max_width": null,
      "min_height": null,
      "min_width": null,
      "object_fit": null,
      "object_position": null,
      "order": null,
      "overflow": null,
      "overflow_x": null,
      "overflow_y": null,
      "padding": null,
      "right": null,
      "top": null,
      "visibility": null,
      "width": null
     }
    },
    "bcb0ee620e824fb2a65a699510cc4517": {
     "model_module": "@jupyter-widgets/controls",
     "model_module_version": "1.5.0",
     "model_name": "ProgressStyleModel",
     "state": {
      "_model_module": "@jupyter-widgets/controls",
      "_model_module_version": "1.5.0",
      "_model_name": "ProgressStyleModel",
      "_view_count": null,
      "_view_module": "@jupyter-widgets/base",
      "_view_module_version": "1.2.0",
      "_view_name": "StyleView",
      "bar_color": null,
      "description_width": ""
     }
    },
    "beb3e139cda84527b38931115d2dcbb7": {
     "model_module": "@jupyter-widgets/base",
     "model_module_version": "1.2.0",
     "model_name": "LayoutModel",
     "state": {
      "_model_module": "@jupyter-widgets/base",
      "_model_module_version": "1.2.0",
      "_model_name": "LayoutModel",
      "_view_count": null,
      "_view_module": "@jupyter-widgets/base",
      "_view_module_version": "1.2.0",
      "_view_name": "LayoutView",
      "align_content": null,
      "align_items": null,
      "align_self": null,
      "border": null,
      "bottom": null,
      "display": null,
      "flex": null,
      "flex_flow": null,
      "grid_area": null,
      "grid_auto_columns": null,
      "grid_auto_flow": null,
      "grid_auto_rows": null,
      "grid_column": null,
      "grid_gap": null,
      "grid_row": null,
      "grid_template_areas": null,
      "grid_template_columns": null,
      "grid_template_rows": null,
      "height": null,
      "justify_content": null,
      "justify_items": null,
      "left": null,
      "margin": null,
      "max_height": null,
      "max_width": null,
      "min_height": null,
      "min_width": null,
      "object_fit": null,
      "object_position": null,
      "order": null,
      "overflow": null,
      "overflow_x": null,
      "overflow_y": null,
      "padding": null,
      "right": null,
      "top": null,
      "visibility": null,
      "width": null
     }
    },
    "bed4b4f28d5a45bbbe199a92c2ff1aab": {
     "model_module": "@jupyter-widgets/controls",
     "model_module_version": "1.5.0",
     "model_name": "FloatProgressModel",
     "state": {
      "_dom_classes": [],
      "_model_module": "@jupyter-widgets/controls",
      "_model_module_version": "1.5.0",
      "_model_name": "FloatProgressModel",
      "_view_count": null,
      "_view_module": "@jupyter-widgets/controls",
      "_view_module_version": "1.5.0",
      "_view_name": "ProgressView",
      "bar_style": "success",
      "description": "",
      "description_tooltip": null,
      "layout": "IPY_MODEL_8b2698b9a4df49948534e61bd693f4d0",
      "max": 2054,
      "min": 0,
      "orientation": "horizontal",
      "style": "IPY_MODEL_b9103b534ac9480f8041cdb8cb2300e6",
      "value": 2054
     }
    },
    "bf7356aee3d1467da5b008bfa59bc853": {
     "model_module": "@jupyter-widgets/controls",
     "model_module_version": "1.5.0",
     "model_name": "ProgressStyleModel",
     "state": {
      "_model_module": "@jupyter-widgets/controls",
      "_model_module_version": "1.5.0",
      "_model_name": "ProgressStyleModel",
      "_view_count": null,
      "_view_module": "@jupyter-widgets/base",
      "_view_module_version": "1.2.0",
      "_view_name": "StyleView",
      "bar_color": null,
      "description_width": ""
     }
    },
    "c1ba8c89ce504b0fb6322ebcf637c3c7": {
     "model_module": "@jupyter-widgets/controls",
     "model_module_version": "1.5.0",
     "model_name": "HTMLModel",
     "state": {
      "_dom_classes": [],
      "_model_module": "@jupyter-widgets/controls",
      "_model_module_version": "1.5.0",
      "_model_name": "HTMLModel",
      "_view_count": null,
      "_view_module": "@jupyter-widgets/controls",
      "_view_module_version": "1.5.0",
      "_view_name": "HTMLView",
      "description": "",
      "description_tooltip": null,
      "layout": "IPY_MODEL_9a46fe1c318b42d6938f9c192f679a9c",
      "placeholder": "​",
      "style": "IPY_MODEL_2a1e9e3b7539469b851ea1f8d501b81b",
      "value": "100%"
     }
    },
    "c66542385aca4f8bb06273f120aa242a": {
     "model_module": "@jupyter-widgets/controls",
     "model_module_version": "1.5.0",
     "model_name": "HTMLModel",
     "state": {
      "_dom_classes": [],
      "_model_module": "@jupyter-widgets/controls",
      "_model_module_version": "1.5.0",
      "_model_name": "HTMLModel",
      "_view_count": null,
      "_view_module": "@jupyter-widgets/controls",
      "_view_module_version": "1.5.0",
      "_view_name": "HTMLView",
      "description": "",
      "description_tooltip": null,
      "layout": "IPY_MODEL_f16c7d4b9af64b0398c130853b91a33f",
      "placeholder": "​",
      "style": "IPY_MODEL_063972864fe84abfa2013fadd6cec4cf",
      "value": ""
     }
    },
    "cc30da002321497d8298c2c1b20a7234": {
     "model_module": "@jupyter-widgets/controls",
     "model_module_version": "1.5.0",
     "model_name": "ProgressStyleModel",
     "state": {
      "_model_module": "@jupyter-widgets/controls",
      "_model_module_version": "1.5.0",
      "_model_name": "ProgressStyleModel",
      "_view_count": null,
      "_view_module": "@jupyter-widgets/base",
      "_view_module_version": "1.2.0",
      "_view_name": "StyleView",
      "bar_color": null,
      "description_width": ""
     }
    },
    "d223c672d245477b97a59bf92e77584f": {
     "model_module": "@jupyter-widgets/controls",
     "model_module_version": "1.5.0",
     "model_name": "DescriptionStyleModel",
     "state": {
      "_model_module": "@jupyter-widgets/controls",
      "_model_module_version": "1.5.0",
      "_model_name": "DescriptionStyleModel",
      "_view_count": null,
      "_view_module": "@jupyter-widgets/base",
      "_view_module_version": "1.2.0",
      "_view_name": "StyleView",
      "description_width": ""
     }
    },
    "da71d26abde04604928f9d263f58e34f": {
     "model_module": "@jupyter-widgets/controls",
     "model_module_version": "1.5.0",
     "model_name": "DescriptionStyleModel",
     "state": {
      "_model_module": "@jupyter-widgets/controls",
      "_model_module_version": "1.5.0",
      "_model_name": "DescriptionStyleModel",
      "_view_count": null,
      "_view_module": "@jupyter-widgets/base",
      "_view_module_version": "1.2.0",
      "_view_name": "StyleView",
      "description_width": ""
     }
    },
    "dc235faa8a2c4893b3d8f1b195c035a4": {
     "model_module": "@jupyter-widgets/base",
     "model_module_version": "1.2.0",
     "model_name": "LayoutModel",
     "state": {
      "_model_module": "@jupyter-widgets/base",
      "_model_module_version": "1.2.0",
      "_model_name": "LayoutModel",
      "_view_count": null,
      "_view_module": "@jupyter-widgets/base",
      "_view_module_version": "1.2.0",
      "_view_name": "LayoutView",
      "align_content": null,
      "align_items": null,
      "align_self": null,
      "border": null,
      "bottom": null,
      "display": null,
      "flex": null,
      "flex_flow": null,
      "grid_area": null,
      "grid_auto_columns": null,
      "grid_auto_flow": null,
      "grid_auto_rows": null,
      "grid_column": null,
      "grid_gap": null,
      "grid_row": null,
      "grid_template_areas": null,
      "grid_template_columns": null,
      "grid_template_rows": null,
      "height": null,
      "justify_content": null,
      "justify_items": null,
      "left": null,
      "margin": null,
      "max_height": null,
      "max_width": null,
      "min_height": null,
      "min_width": null,
      "object_fit": null,
      "object_position": null,
      "order": null,
      "overflow": null,
      "overflow_x": null,
      "overflow_y": null,
      "padding": null,
      "right": null,
      "top": null,
      "visibility": null,
      "width": null
     }
    },
    "ddf424a08cc44ab2abc9ba824caa9705": {
     "model_module": "@jupyter-widgets/base",
     "model_module_version": "1.2.0",
     "model_name": "LayoutModel",
     "state": {
      "_model_module": "@jupyter-widgets/base",
      "_model_module_version": "1.2.0",
      "_model_name": "LayoutModel",
      "_view_count": null,
      "_view_module": "@jupyter-widgets/base",
      "_view_module_version": "1.2.0",
      "_view_name": "LayoutView",
      "align_content": null,
      "align_items": null,
      "align_self": null,
      "border": null,
      "bottom": null,
      "display": null,
      "flex": null,
      "flex_flow": null,
      "grid_area": null,
      "grid_auto_columns": null,
      "grid_auto_flow": null,
      "grid_auto_rows": null,
      "grid_column": null,
      "grid_gap": null,
      "grid_row": null,
      "grid_template_areas": null,
      "grid_template_columns": null,
      "grid_template_rows": null,
      "height": null,
      "justify_content": null,
      "justify_items": null,
      "left": null,
      "margin": null,
      "max_height": null,
      "max_width": null,
      "min_height": null,
      "min_width": null,
      "object_fit": null,
      "object_position": null,
      "order": null,
      "overflow": null,
      "overflow_x": null,
      "overflow_y": null,
      "padding": null,
      "right": null,
      "top": null,
      "visibility": null,
      "width": null
     }
    },
    "e02f23ffefbf49db8393f56f9de1554c": {
     "model_module": "@jupyter-widgets/controls",
     "model_module_version": "1.5.0",
     "model_name": "HTMLModel",
     "state": {
      "_dom_classes": [],
      "_model_module": "@jupyter-widgets/controls",
      "_model_module_version": "1.5.0",
      "_model_name": "HTMLModel",
      "_view_count": null,
      "_view_module": "@jupyter-widgets/controls",
      "_view_module_version": "1.5.0",
      "_view_name": "HTMLView",
      "description": "",
      "description_tooltip": null,
      "layout": "IPY_MODEL_fa030fc33aec4a25b617baf2c1ea3601",
      "placeholder": "​",
      "style": "IPY_MODEL_6003c3fb628844acb6cf58d60048decc",
      "value": " 2.72M/? [00:00&lt;00:00, 6.25MB/s]"
     }
    },
    "e647c94e38884e9ca6029a7086ef750e": {
     "model_module": "@jupyter-widgets/controls",
     "model_module_version": "1.5.0",
     "model_name": "HTMLModel",
     "state": {
      "_dom_classes": [],
      "_model_module": "@jupyter-widgets/controls",
      "_model_module_version": "1.5.0",
      "_model_name": "HTMLModel",
      "_view_count": null,
      "_view_module": "@jupyter-widgets/controls",
      "_view_module_version": "1.5.0",
      "_view_name": "HTMLView",
      "description": "",
      "description_tooltip": null,
      "layout": "IPY_MODEL_305e57d0b0ee42caae5592dc1c11df1f",
      "placeholder": "​",
      "style": "IPY_MODEL_1e465e92106747e4b66ddfd5cd4d1303",
      "value": ""
     }
    },
    "e91ecd1b97e74d99b3d75e970a00b89a": {
     "model_module": "@jupyter-widgets/controls",
     "model_module_version": "1.5.0",
     "model_name": "ProgressStyleModel",
     "state": {
      "_model_module": "@jupyter-widgets/controls",
      "_model_module_version": "1.5.0",
      "_model_name": "ProgressStyleModel",
      "_view_count": null,
      "_view_module": "@jupyter-widgets/base",
      "_view_module_version": "1.2.0",
      "_view_name": "StyleView",
      "bar_color": null,
      "description_width": ""
     }
    },
    "e96bd3e7dac14b58af51859e573972c4": {
     "model_module": "@jupyter-widgets/controls",
     "model_module_version": "1.5.0",
     "model_name": "FloatProgressModel",
     "state": {
      "_dom_classes": [],
      "_model_module": "@jupyter-widgets/controls",
      "_model_module_version": "1.5.0",
      "_model_name": "FloatProgressModel",
      "_view_count": null,
      "_view_module": "@jupyter-widgets/controls",
      "_view_module_version": "1.5.0",
      "_view_name": "ProgressView",
      "bar_style": "success",
      "description": "",
      "description_tooltip": null,
      "layout": "IPY_MODEL_0138dc4a190b478bbe4a9bc69643c2c6",
      "max": 3,
      "min": 0,
      "orientation": "horizontal",
      "style": "IPY_MODEL_bcb0ee620e824fb2a65a699510cc4517",
      "value": 3
     }
    },
    "e9d1d1b1a58a47558563b2b3a993bff8": {
     "model_module": "@jupyter-widgets/controls",
     "model_module_version": "1.5.0",
     "model_name": "HTMLModel",
     "state": {
      "_dom_classes": [],
      "_model_module": "@jupyter-widgets/controls",
      "_model_module_version": "1.5.0",
      "_model_name": "HTMLModel",
      "_view_count": null,
      "_view_module": "@jupyter-widgets/controls",
      "_view_module_version": "1.5.0",
      "_view_name": "HTMLView",
      "description": "",
      "description_tooltip": null,
      "layout": "IPY_MODEL_ea9cc8f1efba43d39c378ed17a680b3a",
      "placeholder": "​",
      "style": "IPY_MODEL_63b17d40996744ed8cf8a78deba8617b",
      "value": "Downloading: "
     }
    },
    "ea9cc8f1efba43d39c378ed17a680b3a": {
     "model_module": "@jupyter-widgets/base",
     "model_module_version": "1.2.0",
     "model_name": "LayoutModel",
     "state": {
      "_model_module": "@jupyter-widgets/base",
      "_model_module_version": "1.2.0",
      "_model_name": "LayoutModel",
      "_view_count": null,
      "_view_module": "@jupyter-widgets/base",
      "_view_module_version": "1.2.0",
      "_view_name": "LayoutView",
      "align_content": null,
      "align_items": null,
      "align_self": null,
      "border": null,
      "bottom": null,
      "display": null,
      "flex": null,
      "flex_flow": null,
      "grid_area": null,
      "grid_auto_columns": null,
      "grid_auto_flow": null,
      "grid_auto_rows": null,
      "grid_column": null,
      "grid_gap": null,
      "grid_row": null,
      "grid_template_areas": null,
      "grid_template_columns": null,
      "grid_template_rows": null,
      "height": null,
      "justify_content": null,
      "justify_items": null,
      "left": null,
      "margin": null,
      "max_height": null,
      "max_width": null,
      "min_height": null,
      "min_width": null,
      "object_fit": null,
      "object_position": null,
      "order": null,
      "overflow": null,
      "overflow_x": null,
      "overflow_y": null,
      "padding": null,
      "right": null,
      "top": null,
      "visibility": null,
      "width": null
     }
    },
    "edb907c659da4513af14b0ee3c463074": {
     "model_module": "@jupyter-widgets/controls",
     "model_module_version": "1.5.0",
     "model_name": "HTMLModel",
     "state": {
      "_dom_classes": [],
      "_model_module": "@jupyter-widgets/controls",
      "_model_module_version": "1.5.0",
      "_model_name": "HTMLModel",
      "_view_count": null,
      "_view_module": "@jupyter-widgets/controls",
      "_view_module_version": "1.5.0",
      "_view_name": "HTMLView",
      "description": "",
      "description_tooltip": null,
      "layout": "IPY_MODEL_f8a04973f2604bdc94d8afb6c98289f3",
      "placeholder": "​",
      "style": "IPY_MODEL_d223c672d245477b97a59bf92e77584f",
      "value": "100%"
     }
    },
    "f0424e9bc3954d8f91f340fa00b55d81": {
     "model_module": "@jupyter-widgets/controls",
     "model_module_version": "1.5.0",
     "model_name": "HBoxModel",
     "state": {
      "_dom_classes": [],
      "_model_module": "@jupyter-widgets/controls",
      "_model_module_version": "1.5.0",
      "_model_name": "HBoxModel",
      "_view_count": null,
      "_view_module": "@jupyter-widgets/controls",
      "_view_module_version": "1.5.0",
      "_view_name": "HBoxView",
      "box_style": "",
      "children": [
       "IPY_MODEL_c1ba8c89ce504b0fb6322ebcf637c3c7",
       "IPY_MODEL_b079709d0f9a457cb1b7025090860e19",
       "IPY_MODEL_621f0246f3134d9fa4e7e6e25dc0f9b7"
      ],
      "layout": "IPY_MODEL_06a30516e73b42fab2040b99c19b0985"
     }
    },
    "f16c7d4b9af64b0398c130853b91a33f": {
     "model_module": "@jupyter-widgets/base",
     "model_module_version": "1.2.0",
     "model_name": "LayoutModel",
     "state": {
      "_model_module": "@jupyter-widgets/base",
      "_model_module_version": "1.2.0",
      "_model_name": "LayoutModel",
      "_view_count": null,
      "_view_module": "@jupyter-widgets/base",
      "_view_module_version": "1.2.0",
      "_view_name": "LayoutView",
      "align_content": null,
      "align_items": null,
      "align_self": null,
      "border": null,
      "bottom": null,
      "display": null,
      "flex": null,
      "flex_flow": null,
      "grid_area": null,
      "grid_auto_columns": null,
      "grid_auto_flow": null,
      "grid_auto_rows": null,
      "grid_column": null,
      "grid_gap": null,
      "grid_row": null,
      "grid_template_areas": null,
      "grid_template_columns": null,
      "grid_template_rows": null,
      "height": null,
      "justify_content": null,
      "justify_items": null,
      "left": null,
      "margin": null,
      "max_height": null,
      "max_width": null,
      "min_height": null,
      "min_width": null,
      "object_fit": null,
      "object_position": null,
      "order": null,
      "overflow": null,
      "overflow_x": null,
      "overflow_y": null,
      "padding": null,
      "right": null,
      "top": null,
      "visibility": null,
      "width": null
     }
    },
    "f393c918b9ac4ab6b80deda02a89007b": {
     "model_module": "@jupyter-widgets/controls",
     "model_module_version": "1.5.0",
     "model_name": "HBoxModel",
     "state": {
      "_dom_classes": [],
      "_model_module": "@jupyter-widgets/controls",
      "_model_module_version": "1.5.0",
      "_model_name": "HBoxModel",
      "_view_count": null,
      "_view_module": "@jupyter-widgets/controls",
      "_view_module_version": "1.5.0",
      "_view_name": "HBoxView",
      "box_style": "",
      "children": [
       "IPY_MODEL_c66542385aca4f8bb06273f120aa242a",
       "IPY_MODEL_4085b42683d94d57b72011b135090135",
       "IPY_MODEL_4f85e5b0893b462b871830054ed4d982"
      ],
      "layout": "IPY_MODEL_beb3e139cda84527b38931115d2dcbb7"
     }
    },
    "f60297177b0c47cfa37b70a6128ed360": {
     "model_module": "@jupyter-widgets/base",
     "model_module_version": "1.2.0",
     "model_name": "LayoutModel",
     "state": {
      "_model_module": "@jupyter-widgets/base",
      "_model_module_version": "1.2.0",
      "_model_name": "LayoutModel",
      "_view_count": null,
      "_view_module": "@jupyter-widgets/base",
      "_view_module_version": "1.2.0",
      "_view_name": "LayoutView",
      "align_content": null,
      "align_items": null,
      "align_self": null,
      "border": null,
      "bottom": null,
      "display": null,
      "flex": null,
      "flex_flow": null,
      "grid_area": null,
      "grid_auto_columns": null,
      "grid_auto_flow": null,
      "grid_auto_rows": null,
      "grid_column": null,
      "grid_gap": null,
      "grid_row": null,
      "grid_template_areas": null,
      "grid_template_columns": null,
      "grid_template_rows": null,
      "height": null,
      "justify_content": null,
      "justify_items": null,
      "left": null,
      "margin": null,
      "max_height": null,
      "max_width": null,
      "min_height": null,
      "min_width": null,
      "object_fit": null,
      "object_position": null,
      "order": null,
      "overflow": null,
      "overflow_x": null,
      "overflow_y": null,
      "padding": null,
      "right": null,
      "top": null,
      "visibility": null,
      "width": null
     }
    },
    "f8a04973f2604bdc94d8afb6c98289f3": {
     "model_module": "@jupyter-widgets/base",
     "model_module_version": "1.2.0",
     "model_name": "LayoutModel",
     "state": {
      "_model_module": "@jupyter-widgets/base",
      "_model_module_version": "1.2.0",
      "_model_name": "LayoutModel",
      "_view_count": null,
      "_view_module": "@jupyter-widgets/base",
      "_view_module_version": "1.2.0",
      "_view_name": "LayoutView",
      "align_content": null,
      "align_items": null,
      "align_self": null,
      "border": null,
      "bottom": null,
      "display": null,
      "flex": null,
      "flex_flow": null,
      "grid_area": null,
      "grid_auto_columns": null,
      "grid_auto_flow": null,
      "grid_auto_rows": null,
      "grid_column": null,
      "grid_gap": null,
      "grid_row": null,
      "grid_template_areas": null,
      "grid_template_columns": null,
      "grid_template_rows": null,
      "height": null,
      "justify_content": null,
      "justify_items": null,
      "left": null,
      "margin": null,
      "max_height": null,
      "max_width": null,
      "min_height": null,
      "min_width": null,
      "object_fit": null,
      "object_position": null,
      "order": null,
      "overflow": null,
      "overflow_x": null,
      "overflow_y": null,
      "padding": null,
      "right": null,
      "top": null,
      "visibility": null,
      "width": null
     }
    },
    "f8c4dd03ddba4f34b0f82d3ff8e70d14": {
     "model_module": "@jupyter-widgets/controls",
     "model_module_version": "1.5.0",
     "model_name": "HTMLModel",
     "state": {
      "_dom_classes": [],
      "_model_module": "@jupyter-widgets/controls",
      "_model_module_version": "1.5.0",
      "_model_name": "HTMLModel",
      "_view_count": null,
      "_view_module": "@jupyter-widgets/controls",
      "_view_module_version": "1.5.0",
      "_view_name": "HTMLView",
      "description": "",
      "description_tooltip": null,
      "layout": "IPY_MODEL_4f0e952690454e8f97d8917fa9f8680d",
      "placeholder": "​",
      "style": "IPY_MODEL_0d00b0ab3d404bdda0bfda30c617a235",
      "value": " 5.79k/? [00:00&lt;00:00, 136kB/s]"
     }
    },
    "fa030fc33aec4a25b617baf2c1ea3601": {
     "model_module": "@jupyter-widgets/base",
     "model_module_version": "1.2.0",
     "model_name": "LayoutModel",
     "state": {
      "_model_module": "@jupyter-widgets/base",
      "_model_module_version": "1.2.0",
      "_model_name": "LayoutModel",
      "_view_count": null,
      "_view_module": "@jupyter-widgets/base",
      "_view_module_version": "1.2.0",
      "_view_name": "LayoutView",
      "align_content": null,
      "align_items": null,
      "align_self": null,
      "border": null,
      "bottom": null,
      "display": null,
      "flex": null,
      "flex_flow": null,
      "grid_area": null,
      "grid_auto_columns": null,
      "grid_auto_flow": null,
      "grid_auto_rows": null,
      "grid_column": null,
      "grid_gap": null,
      "grid_row": null,
      "grid_template_areas": null,
      "grid_template_columns": null,
      "grid_template_rows": null,
      "height": null,
      "justify_content": null,
      "justify_items": null,
      "left": null,
      "margin": null,
      "max_height": null,
      "max_width": null,
      "min_height": null,
      "min_width": null,
      "object_fit": null,
      "object_position": null,
      "order": null,
      "overflow": null,
      "overflow_x": null,
      "overflow_y": null,
      "padding": null,
      "right": null,
      "top": null,
      "visibility": null,
      "width": null
     }
    },
    "fd4d0f1fa8d64edf96bbe59689d367c2": {
     "model_module": "@jupyter-widgets/controls",
     "model_module_version": "1.5.0",
     "model_name": "HTMLModel",
     "state": {
      "_dom_classes": [],
      "_model_module": "@jupyter-widgets/controls",
      "_model_module_version": "1.5.0",
      "_model_name": "HTMLModel",
      "_view_count": null,
      "_view_module": "@jupyter-widgets/controls",
      "_view_module_version": "1.5.0",
      "_view_name": "HTMLView",
      "description": "",
      "description_tooltip": null,
      "layout": "IPY_MODEL_7d9e91ae75ca4c09bdab9161a863e830",
      "placeholder": "​",
      "style": "IPY_MODEL_62942c332cd0498f8266baa4642d93c9",
      "value": " 1.91k/? [00:00&lt;00:00, 55.5kB/s]"
     }
    }
   }
  }
 },
 "nbformat": 4,
 "nbformat_minor": 5
}
